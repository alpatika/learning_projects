{
 "cells": [
  {
   "cell_type": "markdown",
   "metadata": {},
   "source": [
    "# A/B-тестирование интернет-магазина"
   ]
  },
  {
   "cell_type": "markdown",
   "metadata": {},
   "source": [
    "**Цель исследования:** приоритезировать 9 имеющихся гипотез по увеличению выручки, провести A/B-тестирование и найти точки роста для крупного интернет-магазина.\n",
    "\n",
    "\n",
    "**Исходные данные:** \n",
    "\n",
    "`hypothesis.csv` содержит 9 гипотез по увеличению выручки интернет-магазина с указанными параметрами:\n",
    "\n",
    "- `Hypothesis` — краткое описание гипотезы;\n",
    "- `Reach `— охват пользователей по 10-балльной шкале;\n",
    "- `Impact` — влияние на пользователей по 10-балльной шкале;\n",
    "- `Confidence` — уверенность в гипотезе по 10-балльной шкале;\n",
    "- `Efforts` — затраты ресурсов на проверку гипотезы по 10-балльной шкале. Чем больше значение Efforts, тем дороже проверка гипотезы\n",
    "\n",
    "\n",
    "`orders.csv` содержит информацию о заказах:\n",
    "\n",
    "- `transactionId` — идентификатор заказа;\n",
    "- `visitorId` — идентификатор пользователя, совершившего заказ;\n",
    "- `date` — дата, когда был совершён заказ;\n",
    "- `revenue` — выручка заказа;\n",
    "- `group` — группа A/B-теста, в которую попал заказ.\n",
    "\n",
    "\n",
    "`visitors.csv` содержит информацию о кпользователях:\n",
    "\n",
    "- `date` — дата;\n",
    "- `group` — группа A/B-теста;\n",
    "- `visitors` — количество пользователей в указанную дату в указанной группе A/B-теста\n",
    "\n",
    "**План исследования:**\n",
    "1. Первичный обзор данных и их переработка.\n",
    "2. Приоритизация 9-ти имеющихся гипотез с помощью методов ICE и RICE.\n",
    "3. Анализ результатов А/В теста: расчет кумулятивных метрик(выручка, средний чек, среднее количество заказов), изучение данных на аномалии и на их влияние на результаты проверки гипотез.\n",
    "4. Принятие решения по состоянию А/В теста, выводы по исследованию."
   ]
  },
  {
   "cell_type": "markdown",
   "metadata": {
    "toc": true
   },
   "source": [
    "<h1>Содержание<span class=\"tocSkip\"></span></h1>\n",
    "<div class=\"toc\"><ul class=\"toc-item\"><li><span><a href=\"#Первичный-обзор-данных\" data-toc-modified-id=\"Первичный-обзор-данных-1\"><span class=\"toc-item-num\">1&nbsp;&nbsp;</span>Первичный обзор данных</a></span></li><li><span><a href=\"#Переработка-данных\" data-toc-modified-id=\"Переработка-данных-2\"><span class=\"toc-item-num\">2&nbsp;&nbsp;</span>Переработка данных</a></span></li><li><span><a href=\"#Приоритизация-гипотез\" data-toc-modified-id=\"Приоритизация-гипотез-3\"><span class=\"toc-item-num\">3&nbsp;&nbsp;</span>Приоритизация гипотез</a></span><ul class=\"toc-item\"><li><span><a href=\"#Приоретизация-гипотез-фреймворком-ICE\" data-toc-modified-id=\"Приоретизация-гипотез-фреймворком-ICE-3.1\"><span class=\"toc-item-num\">3.1&nbsp;&nbsp;</span>Приоретизация гипотез фреймворком ICE</a></span></li><li><span><a href=\"#Приоретизация-гипотез-фреймворком-RICE\" data-toc-modified-id=\"Приоретизация-гипотез-фреймворком-RICE-3.2\"><span class=\"toc-item-num\">3.2&nbsp;&nbsp;</span>Приоретизация гипотез фреймворком RICE</a></span></li></ul></li><li><span><a href=\"#Анализ-A/B-теста\" data-toc-modified-id=\"Анализ-A/B-теста-4\"><span class=\"toc-item-num\">4&nbsp;&nbsp;</span>Анализ A/B-теста</a></span><ul class=\"toc-item\"><li><span><a href=\"#Кумулятивная-выручка-по-группам\" data-toc-modified-id=\"Кумулятивная-выручка-по-группам-4.1\"><span class=\"toc-item-num\">4.1&nbsp;&nbsp;</span>Кумулятивная выручка по группам</a></span></li><li><span><a href=\"#Кумулятивный-средний-чек-по-группам\" data-toc-modified-id=\"Кумулятивный-средний-чек-по-группам-4.2\"><span class=\"toc-item-num\">4.2&nbsp;&nbsp;</span>Кумулятивный средний чек по группам</a></span></li><li><span><a href=\"#Кумулятивное-среднее-количество-заказов-по-группам\" data-toc-modified-id=\"Кумулятивное-среднее-количество-заказов-по-группам-4.3\"><span class=\"toc-item-num\">4.3&nbsp;&nbsp;</span>Кумулятивное среднее количество заказов по группам</a></span></li><li><span><a href=\"#Изучение-данных-о-количестве-заказов-на-аномалии-и-выбросы\" data-toc-modified-id=\"Изучение-данных-о-количестве-заказов-на-аномалии-и-выбросы-4.4\"><span class=\"toc-item-num\">4.4&nbsp;&nbsp;</span>Изучение данных о количестве заказов на аномалии и выбросы</a></span></li><li><span><a href=\"#Изучение-данных-о-стоимости-заказов-на-аномалии-и-выбросы\" data-toc-modified-id=\"Изучение-данных-о-стоимости-заказов-на-аномалии-и-выбросы-4.5\"><span class=\"toc-item-num\">4.5&nbsp;&nbsp;</span>Изучение данных о стоимости заказов на аномалии и выбросы</a></span></li><li><span><a href=\"#Расчет-статистической-значимости-различий-в-среднем-количестве-заказов-и-в-среднем-чеке-между-группами-по-«сырым»-данным\" data-toc-modified-id=\"Расчет-статистической-значимости-различий-в-среднем-количестве-заказов-и-в-среднем-чеке-между-группами-по-«сырым»-данным-4.6\"><span class=\"toc-item-num\">4.6&nbsp;&nbsp;</span>Расчет статистической значимости различий в среднем количестве заказов и в среднем чеке между группами по «сырым» данным</a></span></li><li><span><a href=\"#Расчет-статистической-значимости-различий-в-среднем-количестве-заказов-и-в-среднем-чеке-между-группами-по-«очищенным»-данным\" data-toc-modified-id=\"Расчет-статистической-значимости-различий-в-среднем-количестве-заказов-и-в-среднем-чеке-между-группами-по-«очищенным»-данным-4.7\"><span class=\"toc-item-num\">4.7&nbsp;&nbsp;</span>Расчет статистической значимости различий в среднем количестве заказов и в среднем чеке между группами по «очищенным» данным</a></span></li></ul></li><li><span><a href=\"#Выводы\" data-toc-modified-id=\"Выводы-5\"><span class=\"toc-item-num\">5&nbsp;&nbsp;</span>Выводы</a></span></li></ul></div>"
   ]
  },
  {
   "cell_type": "markdown",
   "metadata": {},
   "source": [
    "## Первичный обзор данных"
   ]
  },
  {
   "cell_type": "code",
   "execution_count": 16,
   "metadata": {},
   "outputs": [],
   "source": [
    "import pandas as pd\n",
    "import seaborn as sns\n",
    "import numpy as np\n",
    "import matplotlib.pyplot as plt\n",
    "from datetime import datetime\n",
    "import scipy.stats as stats\n",
    "import datetime as dt"
   ]
  },
  {
   "cell_type": "code",
   "execution_count": 17,
   "metadata": {},
   "outputs": [
    {
     "data": {
      "text/html": [
       "<div>\n",
       "<style scoped>\n",
       "    .dataframe tbody tr th:only-of-type {\n",
       "        vertical-align: middle;\n",
       "    }\n",
       "\n",
       "    .dataframe tbody tr th {\n",
       "        vertical-align: top;\n",
       "    }\n",
       "\n",
       "    .dataframe thead th {\n",
       "        text-align: right;\n",
       "    }\n",
       "</style>\n",
       "<table border=\"1\" class=\"dataframe\">\n",
       "  <thead>\n",
       "    <tr style=\"text-align: right;\">\n",
       "      <th></th>\n",
       "      <th>Hypothesis</th>\n",
       "      <th>Reach</th>\n",
       "      <th>Impact</th>\n",
       "      <th>Confidence</th>\n",
       "      <th>Efforts</th>\n",
       "    </tr>\n",
       "  </thead>\n",
       "  <tbody>\n",
       "    <tr>\n",
       "      <th>0</th>\n",
       "      <td>Добавить два новых канала привлечения трафика, что позволит привлекать на 30% больше пользователей</td>\n",
       "      <td>3</td>\n",
       "      <td>10</td>\n",
       "      <td>8</td>\n",
       "      <td>6</td>\n",
       "    </tr>\n",
       "    <tr>\n",
       "      <th>1</th>\n",
       "      <td>Запустить собственную службу доставки, что сократит срок доставки заказов</td>\n",
       "      <td>2</td>\n",
       "      <td>5</td>\n",
       "      <td>4</td>\n",
       "      <td>10</td>\n",
       "    </tr>\n",
       "    <tr>\n",
       "      <th>2</th>\n",
       "      <td>Добавить блоки рекомендаций товаров на сайт интернет магазина, чтобы повысить конверсию и средний чек заказа</td>\n",
       "      <td>8</td>\n",
       "      <td>3</td>\n",
       "      <td>7</td>\n",
       "      <td>3</td>\n",
       "    </tr>\n",
       "    <tr>\n",
       "      <th>3</th>\n",
       "      <td>Изменить структура категорий, что увеличит конверсию, т.к. пользователи быстрее найдут нужный товар</td>\n",
       "      <td>8</td>\n",
       "      <td>3</td>\n",
       "      <td>3</td>\n",
       "      <td>8</td>\n",
       "    </tr>\n",
       "    <tr>\n",
       "      <th>4</th>\n",
       "      <td>Изменить цвет фона главной страницы, чтобы увеличить вовлеченность пользователей</td>\n",
       "      <td>3</td>\n",
       "      <td>1</td>\n",
       "      <td>1</td>\n",
       "      <td>1</td>\n",
       "    </tr>\n",
       "    <tr>\n",
       "      <th>5</th>\n",
       "      <td>Добавить страницу отзывов клиентов о магазине, что позволит увеличить количество заказов</td>\n",
       "      <td>3</td>\n",
       "      <td>2</td>\n",
       "      <td>2</td>\n",
       "      <td>3</td>\n",
       "    </tr>\n",
       "    <tr>\n",
       "      <th>6</th>\n",
       "      <td>Показать на главной странице баннеры с актуальными акциями и распродажами, чтобы увеличить конверсию</td>\n",
       "      <td>5</td>\n",
       "      <td>3</td>\n",
       "      <td>8</td>\n",
       "      <td>3</td>\n",
       "    </tr>\n",
       "    <tr>\n",
       "      <th>7</th>\n",
       "      <td>Добавить форму подписки на все основные страницы, чтобы собрать базу клиентов для email-рассылок</td>\n",
       "      <td>10</td>\n",
       "      <td>7</td>\n",
       "      <td>8</td>\n",
       "      <td>5</td>\n",
       "    </tr>\n",
       "    <tr>\n",
       "      <th>8</th>\n",
       "      <td>Запустить акцию, дающую скидку на товар в день рождения</td>\n",
       "      <td>1</td>\n",
       "      <td>9</td>\n",
       "      <td>9</td>\n",
       "      <td>5</td>\n",
       "    </tr>\n",
       "  </tbody>\n",
       "</table>\n",
       "</div>"
      ],
      "text/plain": [
       "                                                                                                     Hypothesis  \\\n",
       "0            Добавить два новых канала привлечения трафика, что позволит привлекать на 30% больше пользователей   \n",
       "1                                     Запустить собственную службу доставки, что сократит срок доставки заказов   \n",
       "2  Добавить блоки рекомендаций товаров на сайт интернет магазина, чтобы повысить конверсию и средний чек заказа   \n",
       "3           Изменить структура категорий, что увеличит конверсию, т.к. пользователи быстрее найдут нужный товар   \n",
       "4                              Изменить цвет фона главной страницы, чтобы увеличить вовлеченность пользователей   \n",
       "5                      Добавить страницу отзывов клиентов о магазине, что позволит увеличить количество заказов   \n",
       "6          Показать на главной странице баннеры с актуальными акциями и распродажами, чтобы увеличить конверсию   \n",
       "7              Добавить форму подписки на все основные страницы, чтобы собрать базу клиентов для email-рассылок   \n",
       "8                                                       Запустить акцию, дающую скидку на товар в день рождения   \n",
       "\n",
       "   Reach  Impact  Confidence  Efforts  \n",
       "0      3      10           8        6  \n",
       "1      2       5           4       10  \n",
       "2      8       3           7        3  \n",
       "3      8       3           3        8  \n",
       "4      3       1           1        1  \n",
       "5      3       2           2        3  \n",
       "6      5       3           8        3  \n",
       "7     10       7           8        5  \n",
       "8      1       9           9        5  "
      ]
     },
     "execution_count": 17,
     "metadata": {},
     "output_type": "execute_result"
    }
   ],
   "source": [
    "try:\n",
    "    hypothesis = pd.read_csv('hypothesis.csv')\n",
    "except:\n",
    "    hypothesis = pd.read_csv('https://code.s3.yandex.net/datasets/hypothesis.csv')\n",
    "\n",
    "pd.set_option('display.max_columns', None)\n",
    "pd.options.display.max_colwidth = 150 \n",
    "hypothesis "
   ]
  },
  {
   "cell_type": "code",
   "execution_count": 18,
   "metadata": {},
   "outputs": [
    {
     "name": "stdout",
     "output_type": "stream",
     "text": [
      "<class 'pandas.core.frame.DataFrame'>\n",
      "RangeIndex: 1197 entries, 0 to 1196\n",
      "Data columns (total 5 columns):\n",
      " #   Column         Non-Null Count  Dtype \n",
      "---  ------         --------------  ----- \n",
      " 0   transactionId  1197 non-null   int64 \n",
      " 1   visitorId      1197 non-null   int64 \n",
      " 2   date           1197 non-null   object\n",
      " 3   revenue        1197 non-null   int64 \n",
      " 4   group          1197 non-null   object\n",
      "dtypes: int64(3), object(2)\n",
      "memory usage: 46.9+ KB\n"
     ]
    },
    {
     "data": {
      "text/html": [
       "<div>\n",
       "<style scoped>\n",
       "    .dataframe tbody tr th:only-of-type {\n",
       "        vertical-align: middle;\n",
       "    }\n",
       "\n",
       "    .dataframe tbody tr th {\n",
       "        vertical-align: top;\n",
       "    }\n",
       "\n",
       "    .dataframe thead th {\n",
       "        text-align: right;\n",
       "    }\n",
       "</style>\n",
       "<table border=\"1\" class=\"dataframe\">\n",
       "  <thead>\n",
       "    <tr style=\"text-align: right;\">\n",
       "      <th></th>\n",
       "      <th>transactionId</th>\n",
       "      <th>visitorId</th>\n",
       "      <th>date</th>\n",
       "      <th>revenue</th>\n",
       "      <th>group</th>\n",
       "    </tr>\n",
       "  </thead>\n",
       "  <tbody>\n",
       "    <tr>\n",
       "      <th>0</th>\n",
       "      <td>3667963787</td>\n",
       "      <td>3312258926</td>\n",
       "      <td>2019-08-15</td>\n",
       "      <td>1650</td>\n",
       "      <td>B</td>\n",
       "    </tr>\n",
       "    <tr>\n",
       "      <th>1</th>\n",
       "      <td>2804400009</td>\n",
       "      <td>3642806036</td>\n",
       "      <td>2019-08-15</td>\n",
       "      <td>730</td>\n",
       "      <td>B</td>\n",
       "    </tr>\n",
       "    <tr>\n",
       "      <th>2</th>\n",
       "      <td>2961555356</td>\n",
       "      <td>4069496402</td>\n",
       "      <td>2019-08-15</td>\n",
       "      <td>400</td>\n",
       "      <td>A</td>\n",
       "    </tr>\n",
       "    <tr>\n",
       "      <th>3</th>\n",
       "      <td>3797467345</td>\n",
       "      <td>1196621759</td>\n",
       "      <td>2019-08-15</td>\n",
       "      <td>9759</td>\n",
       "      <td>B</td>\n",
       "    </tr>\n",
       "    <tr>\n",
       "      <th>4</th>\n",
       "      <td>2282983706</td>\n",
       "      <td>2322279887</td>\n",
       "      <td>2019-08-15</td>\n",
       "      <td>2308</td>\n",
       "      <td>B</td>\n",
       "    </tr>\n",
       "  </tbody>\n",
       "</table>\n",
       "</div>"
      ],
      "text/plain": [
       "   transactionId   visitorId        date  revenue group\n",
       "0     3667963787  3312258926  2019-08-15     1650     B\n",
       "1     2804400009  3642806036  2019-08-15      730     B\n",
       "2     2961555356  4069496402  2019-08-15      400     A\n",
       "3     3797467345  1196621759  2019-08-15     9759     B\n",
       "4     2282983706  2322279887  2019-08-15     2308     B"
      ]
     },
     "execution_count": 18,
     "metadata": {},
     "output_type": "execute_result"
    }
   ],
   "source": [
    "try:\n",
    "    orders = pd.read_csv('orders.csv')\n",
    "except:\n",
    "    orders = pd.read_csv('https://code.s3.yandex.net/datasets/orders.csv')\n",
    "    \n",
    "orders.info()\n",
    "orders.head()"
   ]
  },
  {
   "cell_type": "code",
   "execution_count": 19,
   "metadata": {},
   "outputs": [
    {
     "name": "stdout",
     "output_type": "stream",
     "text": [
      "<class 'pandas.core.frame.DataFrame'>\n",
      "RangeIndex: 62 entries, 0 to 61\n",
      "Data columns (total 3 columns):\n",
      " #   Column    Non-Null Count  Dtype \n",
      "---  ------    --------------  ----- \n",
      " 0   date      62 non-null     object\n",
      " 1   group     62 non-null     object\n",
      " 2   visitors  62 non-null     int64 \n",
      "dtypes: int64(1), object(2)\n",
      "memory usage: 1.6+ KB\n"
     ]
    },
    {
     "data": {
      "text/html": [
       "<div>\n",
       "<style scoped>\n",
       "    .dataframe tbody tr th:only-of-type {\n",
       "        vertical-align: middle;\n",
       "    }\n",
       "\n",
       "    .dataframe tbody tr th {\n",
       "        vertical-align: top;\n",
       "    }\n",
       "\n",
       "    .dataframe thead th {\n",
       "        text-align: right;\n",
       "    }\n",
       "</style>\n",
       "<table border=\"1\" class=\"dataframe\">\n",
       "  <thead>\n",
       "    <tr style=\"text-align: right;\">\n",
       "      <th></th>\n",
       "      <th>date</th>\n",
       "      <th>group</th>\n",
       "      <th>visitors</th>\n",
       "    </tr>\n",
       "  </thead>\n",
       "  <tbody>\n",
       "    <tr>\n",
       "      <th>0</th>\n",
       "      <td>2019-08-01</td>\n",
       "      <td>A</td>\n",
       "      <td>719</td>\n",
       "    </tr>\n",
       "    <tr>\n",
       "      <th>1</th>\n",
       "      <td>2019-08-02</td>\n",
       "      <td>A</td>\n",
       "      <td>619</td>\n",
       "    </tr>\n",
       "    <tr>\n",
       "      <th>2</th>\n",
       "      <td>2019-08-03</td>\n",
       "      <td>A</td>\n",
       "      <td>507</td>\n",
       "    </tr>\n",
       "    <tr>\n",
       "      <th>3</th>\n",
       "      <td>2019-08-04</td>\n",
       "      <td>A</td>\n",
       "      <td>717</td>\n",
       "    </tr>\n",
       "    <tr>\n",
       "      <th>4</th>\n",
       "      <td>2019-08-05</td>\n",
       "      <td>A</td>\n",
       "      <td>756</td>\n",
       "    </tr>\n",
       "  </tbody>\n",
       "</table>\n",
       "</div>"
      ],
      "text/plain": [
       "         date group  visitors\n",
       "0  2019-08-01     A       719\n",
       "1  2019-08-02     A       619\n",
       "2  2019-08-03     A       507\n",
       "3  2019-08-04     A       717\n",
       "4  2019-08-05     A       756"
      ]
     },
     "execution_count": 19,
     "metadata": {},
     "output_type": "execute_result"
    }
   ],
   "source": [
    "try:\n",
    "    visitors = pd.read_csv('visitors.csv')\n",
    "except:\n",
    "    visitors = pd.read_csv('https://code.s3.yandex.net/datasets/visitors.csv')\n",
    "    \n",
    "visitors.info()\n",
    "visitors.head()"
   ]
  },
  {
   "cell_type": "markdown",
   "metadata": {},
   "source": [
    "**Промежуточные итоги:** датасеты не содержат пропусов, однако стоит их проверить на наличие аномалий и выбросов, а также привести названия столбцов к единому стилю."
   ]
  },
  {
   "cell_type": "markdown",
   "metadata": {},
   "source": [
    "## Переработка данных"
   ]
  },
  {
   "cell_type": "code",
   "execution_count": 20,
   "metadata": {},
   "outputs": [],
   "source": [
    "# изменение названий столбцов\n",
    "hypothesis.columns = hypothesis.columns.str.lower()\n",
    "orders.columns = orders.columns.str.lower()"
   ]
  },
  {
   "cell_type": "code",
   "execution_count": 21,
   "metadata": {},
   "outputs": [],
   "source": [
    "# приведение к нужному формату данных\n",
    "orders['date'] = pd.to_datetime(orders['date'])\n",
    "visitors['date'] = pd.to_datetime(visitors['date'])"
   ]
  },
  {
   "cell_type": "code",
   "execution_count": 22,
   "metadata": {},
   "outputs": [
    {
     "data": {
      "text/plain": [
       "array(['B', 'A'], dtype=object)"
      ]
     },
     "execution_count": 22,
     "metadata": {},
     "output_type": "execute_result"
    }
   ],
   "source": [
    "visitors['group'].unique()\n",
    "orders['group'].unique()"
   ]
  },
  {
   "cell_type": "code",
   "execution_count": 23,
   "metadata": {},
   "outputs": [
    {
     "name": "stdout",
     "output_type": "stream",
     "text": [
      "1031\n",
      "visitorid    1089\n",
      "dtype: int64\n"
     ]
    },
    {
     "data": {
      "text/plain": [
       "visitorid    58\n",
       "dtype: int64"
      ]
     },
     "execution_count": 23,
     "metadata": {},
     "output_type": "execute_result"
    }
   ],
   "source": [
    "# проверка на дубликаты пользователей в группах\n",
    "\n",
    "print(orders['visitorid'].nunique())\n",
    "print(orders.groupby('group').agg({'visitorid':'nunique'}).sum())\n",
    "\n",
    "orders.groupby('group').agg({'visitorid':'nunique'}).sum() - orders['visitorid'].nunique()"
   ]
  },
  {
   "cell_type": "markdown",
   "metadata": {},
   "source": [
    "**Промежуточные итоги:** нахвания столбцов приведены к змеиному регистру, данные проверены на выбросы и дубликаты. Выбросы будут удалены далее по ходу исследования."
   ]
  },
  {
   "cell_type": "markdown",
   "metadata": {},
   "source": [
    "## Приоритизация гипотез"
   ]
  },
  {
   "cell_type": "markdown",
   "metadata": {},
   "source": [
    "### Приоретизация гипотез фреймворком ICE"
   ]
  },
  {
   "cell_type": "code",
   "execution_count": 24,
   "metadata": {},
   "outputs": [
    {
     "data": {
      "text/html": [
       "<style  type=\"text/css\" >\n",
       "#T_dd92b_row0_col1,#T_dd92b_row8_col2,#T_dd92b_row8_col3,#T_dd92b_row8_col4,#T_dd92b_row8_col5{\n",
       "            background-color:  #f7fbff;\n",
       "            color:  #000000;\n",
       "        }#T_dd92b_row0_col2{\n",
       "            background-color:  #084d96;\n",
       "            color:  #f1f1f1;\n",
       "        }#T_dd92b_row0_col3,#T_dd92b_row0_col5,#T_dd92b_row1_col2,#T_dd92b_row2_col1,#T_dd92b_row5_col4{\n",
       "            background-color:  #08306b;\n",
       "            color:  #f1f1f1;\n",
       "        }#T_dd92b_row0_col4,#T_dd92b_row2_col4,#T_dd92b_row3_col1,#T_dd92b_row5_col2{\n",
       "            background-color:  #82bbdb;\n",
       "            color:  #000000;\n",
       "        }#T_dd92b_row1_col1,#T_dd92b_row3_col2,#T_dd92b_row3_col4,#T_dd92b_row4_col2,#T_dd92b_row4_col4,#T_dd92b_row6_col1,#T_dd92b_row6_col4,#T_dd92b_row7_col2,#T_dd92b_row8_col1{\n",
       "            background-color:  #ccdff1;\n",
       "            color:  #000000;\n",
       "        }#T_dd92b_row1_col3,#T_dd92b_row2_col3,#T_dd92b_row3_col3{\n",
       "            background-color:  #08509b;\n",
       "            color:  #f1f1f1;\n",
       "        }#T_dd92b_row1_col4{\n",
       "            background-color:  #58a1cf;\n",
       "            color:  #000000;\n",
       "        }#T_dd92b_row1_col5{\n",
       "            background-color:  #1561a9;\n",
       "            color:  #f1f1f1;\n",
       "        }#T_dd92b_row2_col2{\n",
       "            background-color:  #3787c0;\n",
       "            color:  #000000;\n",
       "        }#T_dd92b_row2_col5{\n",
       "            background-color:  #3686c0;\n",
       "            color:  #000000;\n",
       "        }#T_dd92b_row3_col5{\n",
       "            background-color:  #7cb7da;\n",
       "            color:  #000000;\n",
       "        }#T_dd92b_row4_col1,#T_dd92b_row7_col1,#T_dd92b_row7_col4{\n",
       "            background-color:  #1b69af;\n",
       "            color:  #f1f1f1;\n",
       "        }#T_dd92b_row4_col3{\n",
       "            background-color:  #2070b4;\n",
       "            color:  #f1f1f1;\n",
       "        }#T_dd92b_row4_col5{\n",
       "            background-color:  #95c5df;\n",
       "            color:  #000000;\n",
       "        }#T_dd92b_row5_col1,#T_dd92b_row6_col2{\n",
       "            background-color:  #e1edf8;\n",
       "            color:  #000000;\n",
       "        }#T_dd92b_row5_col3{\n",
       "            background-color:  #9dcae1;\n",
       "            color:  #000000;\n",
       "        }#T_dd92b_row5_col5{\n",
       "            background-color:  #eaf3fb;\n",
       "            color:  #000000;\n",
       "        }#T_dd92b_row6_col3{\n",
       "            background-color:  #deebf7;\n",
       "            color:  #000000;\n",
       "        }#T_dd92b_row6_col5{\n",
       "            background-color:  #f3f8fe;\n",
       "            color:  #000000;\n",
       "        }#T_dd92b_row7_col3{\n",
       "            background-color:  #c6dbef;\n",
       "            color:  #000000;\n",
       "        }#T_dd92b_row7_col5{\n",
       "            background-color:  #f5fafe;\n",
       "            color:  #000000;\n",
       "        }</style><table id=\"T_dd92b_\" ><thead>    <tr>        <th class=\"blank level0\" ></th>        <th class=\"col_heading level0 col0\" >hypothesis</th>        <th class=\"col_heading level0 col1\" >reach</th>        <th class=\"col_heading level0 col2\" >impact</th>        <th class=\"col_heading level0 col3\" >confidence</th>        <th class=\"col_heading level0 col4\" >efforts</th>        <th class=\"col_heading level0 col5\" >ice</th>    </tr></thead><tbody>\n",
       "                <tr>\n",
       "                        <th id=\"T_dd92b_level0_row0\" class=\"row_heading level0 row0\" >8</th>\n",
       "                        <td id=\"T_dd92b_row0_col0\" class=\"data row0 col0\" >Запустить акцию, дающую скидку на товар в день рождения</td>\n",
       "                        <td id=\"T_dd92b_row0_col1\" class=\"data row0 col1\" >1</td>\n",
       "                        <td id=\"T_dd92b_row0_col2\" class=\"data row0 col2\" >9</td>\n",
       "                        <td id=\"T_dd92b_row0_col3\" class=\"data row0 col3\" >9</td>\n",
       "                        <td id=\"T_dd92b_row0_col4\" class=\"data row0 col4\" >5</td>\n",
       "                        <td id=\"T_dd92b_row0_col5\" class=\"data row0 col5\" >16.200000</td>\n",
       "            </tr>\n",
       "            <tr>\n",
       "                        <th id=\"T_dd92b_level0_row1\" class=\"row_heading level0 row1\" >0</th>\n",
       "                        <td id=\"T_dd92b_row1_col0\" class=\"data row1 col0\" >Добавить два новых канала привлечения трафика, что позволит привлекать на 30% больше пользователей</td>\n",
       "                        <td id=\"T_dd92b_row1_col1\" class=\"data row1 col1\" >3</td>\n",
       "                        <td id=\"T_dd92b_row1_col2\" class=\"data row1 col2\" >10</td>\n",
       "                        <td id=\"T_dd92b_row1_col3\" class=\"data row1 col3\" >8</td>\n",
       "                        <td id=\"T_dd92b_row1_col4\" class=\"data row1 col4\" >6</td>\n",
       "                        <td id=\"T_dd92b_row1_col5\" class=\"data row1 col5\" >13.330000</td>\n",
       "            </tr>\n",
       "            <tr>\n",
       "                        <th id=\"T_dd92b_level0_row2\" class=\"row_heading level0 row2\" >7</th>\n",
       "                        <td id=\"T_dd92b_row2_col0\" class=\"data row2 col0\" >Добавить форму подписки на все основные страницы, чтобы собрать базу клиентов для email-рассылок</td>\n",
       "                        <td id=\"T_dd92b_row2_col1\" class=\"data row2 col1\" >10</td>\n",
       "                        <td id=\"T_dd92b_row2_col2\" class=\"data row2 col2\" >7</td>\n",
       "                        <td id=\"T_dd92b_row2_col3\" class=\"data row2 col3\" >8</td>\n",
       "                        <td id=\"T_dd92b_row2_col4\" class=\"data row2 col4\" >5</td>\n",
       "                        <td id=\"T_dd92b_row2_col5\" class=\"data row2 col5\" >11.200000</td>\n",
       "            </tr>\n",
       "            <tr>\n",
       "                        <th id=\"T_dd92b_level0_row3\" class=\"row_heading level0 row3\" >6</th>\n",
       "                        <td id=\"T_dd92b_row3_col0\" class=\"data row3 col0\" >Показать на главной странице баннеры с актуальными акциями и распродажами, чтобы увеличить конверсию</td>\n",
       "                        <td id=\"T_dd92b_row3_col1\" class=\"data row3 col1\" >5</td>\n",
       "                        <td id=\"T_dd92b_row3_col2\" class=\"data row3 col2\" >3</td>\n",
       "                        <td id=\"T_dd92b_row3_col3\" class=\"data row3 col3\" >8</td>\n",
       "                        <td id=\"T_dd92b_row3_col4\" class=\"data row3 col4\" >3</td>\n",
       "                        <td id=\"T_dd92b_row3_col5\" class=\"data row3 col5\" >8.000000</td>\n",
       "            </tr>\n",
       "            <tr>\n",
       "                        <th id=\"T_dd92b_level0_row4\" class=\"row_heading level0 row4\" >2</th>\n",
       "                        <td id=\"T_dd92b_row4_col0\" class=\"data row4 col0\" >Добавить блоки рекомендаций товаров на сайт интернет магазина, чтобы повысить конверсию и средний чек заказа</td>\n",
       "                        <td id=\"T_dd92b_row4_col1\" class=\"data row4 col1\" >8</td>\n",
       "                        <td id=\"T_dd92b_row4_col2\" class=\"data row4 col2\" >3</td>\n",
       "                        <td id=\"T_dd92b_row4_col3\" class=\"data row4 col3\" >7</td>\n",
       "                        <td id=\"T_dd92b_row4_col4\" class=\"data row4 col4\" >3</td>\n",
       "                        <td id=\"T_dd92b_row4_col5\" class=\"data row4 col5\" >7.000000</td>\n",
       "            </tr>\n",
       "            <tr>\n",
       "                        <th id=\"T_dd92b_level0_row5\" class=\"row_heading level0 row5\" >1</th>\n",
       "                        <td id=\"T_dd92b_row5_col0\" class=\"data row5 col0\" >Запустить собственную службу доставки, что сократит срок доставки заказов</td>\n",
       "                        <td id=\"T_dd92b_row5_col1\" class=\"data row5 col1\" >2</td>\n",
       "                        <td id=\"T_dd92b_row5_col2\" class=\"data row5 col2\" >5</td>\n",
       "                        <td id=\"T_dd92b_row5_col3\" class=\"data row5 col3\" >4</td>\n",
       "                        <td id=\"T_dd92b_row5_col4\" class=\"data row5 col4\" >10</td>\n",
       "                        <td id=\"T_dd92b_row5_col5\" class=\"data row5 col5\" >2.000000</td>\n",
       "            </tr>\n",
       "            <tr>\n",
       "                        <th id=\"T_dd92b_level0_row6\" class=\"row_heading level0 row6\" >5</th>\n",
       "                        <td id=\"T_dd92b_row6_col0\" class=\"data row6 col0\" >Добавить страницу отзывов клиентов о магазине, что позволит увеличить количество заказов</td>\n",
       "                        <td id=\"T_dd92b_row6_col1\" class=\"data row6 col1\" >3</td>\n",
       "                        <td id=\"T_dd92b_row6_col2\" class=\"data row6 col2\" >2</td>\n",
       "                        <td id=\"T_dd92b_row6_col3\" class=\"data row6 col3\" >2</td>\n",
       "                        <td id=\"T_dd92b_row6_col4\" class=\"data row6 col4\" >3</td>\n",
       "                        <td id=\"T_dd92b_row6_col5\" class=\"data row6 col5\" >1.330000</td>\n",
       "            </tr>\n",
       "            <tr>\n",
       "                        <th id=\"T_dd92b_level0_row7\" class=\"row_heading level0 row7\" >3</th>\n",
       "                        <td id=\"T_dd92b_row7_col0\" class=\"data row7 col0\" >Изменить структура категорий, что увеличит конверсию, т.к. пользователи быстрее найдут нужный товар</td>\n",
       "                        <td id=\"T_dd92b_row7_col1\" class=\"data row7 col1\" >8</td>\n",
       "                        <td id=\"T_dd92b_row7_col2\" class=\"data row7 col2\" >3</td>\n",
       "                        <td id=\"T_dd92b_row7_col3\" class=\"data row7 col3\" >3</td>\n",
       "                        <td id=\"T_dd92b_row7_col4\" class=\"data row7 col4\" >8</td>\n",
       "                        <td id=\"T_dd92b_row7_col5\" class=\"data row7 col5\" >1.120000</td>\n",
       "            </tr>\n",
       "            <tr>\n",
       "                        <th id=\"T_dd92b_level0_row8\" class=\"row_heading level0 row8\" >4</th>\n",
       "                        <td id=\"T_dd92b_row8_col0\" class=\"data row8 col0\" >Изменить цвет фона главной страницы, чтобы увеличить вовлеченность пользователей</td>\n",
       "                        <td id=\"T_dd92b_row8_col1\" class=\"data row8 col1\" >3</td>\n",
       "                        <td id=\"T_dd92b_row8_col2\" class=\"data row8 col2\" >1</td>\n",
       "                        <td id=\"T_dd92b_row8_col3\" class=\"data row8 col3\" >1</td>\n",
       "                        <td id=\"T_dd92b_row8_col4\" class=\"data row8 col4\" >1</td>\n",
       "                        <td id=\"T_dd92b_row8_col5\" class=\"data row8 col5\" >1.000000</td>\n",
       "            </tr>\n",
       "    </tbody></table>"
      ],
      "text/plain": [
       "<pandas.io.formats.style.Styler at 0x7f5f575637c0>"
      ]
     },
     "execution_count": 24,
     "metadata": {},
     "output_type": "execute_result"
    }
   ],
   "source": [
    "def get_ice(data):\n",
    "    data['ice'] = round(data['impact'] * data['confidence'] / data['efforts'], 2)\n",
    "    return data.sort_values(by = 'ice', ascending = False)\n",
    "   \n",
    "pd.DataFrame(get_ice(hypothesis)).style.background_gradient(subset=['reach', 'impact', 'confidence', 'efforts','ice']\n",
    "                                                            , cmap='Blues')"
   ]
  },
  {
   "cell_type": "markdown",
   "metadata": {},
   "source": [
    "### Приоретизация гипотез фреймворком RICE"
   ]
  },
  {
   "cell_type": "code",
   "execution_count": 25,
   "metadata": {
    "scrolled": false
   },
   "outputs": [
    {
     "data": {
      "text/html": [
       "<style  type=\"text/css\" >\n",
       "#T_192e0_row0_col1,#T_192e0_row0_col6,#T_192e0_row2_col2,#T_192e0_row4_col3,#T_192e0_row6_col4{\n",
       "            background-color:  #08306b;\n",
       "            color:  #f1f1f1;\n",
       "        }#T_192e0_row0_col2{\n",
       "            background-color:  #3787c0;\n",
       "            color:  #000000;\n",
       "        }#T_192e0_row0_col3,#T_192e0_row2_col3,#T_192e0_row3_col3{\n",
       "            background-color:  #08509b;\n",
       "            color:  #f1f1f1;\n",
       "        }#T_192e0_row0_col4,#T_192e0_row3_col1,#T_192e0_row4_col4,#T_192e0_row6_col2{\n",
       "            background-color:  #82bbdb;\n",
       "            color:  #000000;\n",
       "        }#T_192e0_row1_col1,#T_192e0_row5_col1,#T_192e0_row5_col4{\n",
       "            background-color:  #1b69af;\n",
       "            color:  #f1f1f1;\n",
       "        }#T_192e0_row1_col2,#T_192e0_row1_col4,#T_192e0_row2_col1,#T_192e0_row3_col2,#T_192e0_row3_col4,#T_192e0_row5_col2,#T_192e0_row7_col1,#T_192e0_row7_col4,#T_192e0_row8_col1{\n",
       "            background-color:  #ccdff1;\n",
       "            color:  #000000;\n",
       "        }#T_192e0_row1_col3{\n",
       "            background-color:  #2070b4;\n",
       "            color:  #f1f1f1;\n",
       "        }#T_192e0_row1_col6{\n",
       "            background-color:  #71b1d7;\n",
       "            color:  #000000;\n",
       "        }#T_192e0_row2_col4{\n",
       "            background-color:  #58a1cf;\n",
       "            color:  #000000;\n",
       "        }#T_192e0_row2_col6,#T_192e0_row3_col6{\n",
       "            background-color:  #aacfe5;\n",
       "            color:  #000000;\n",
       "        }#T_192e0_row4_col1,#T_192e0_row8_col2,#T_192e0_row8_col3,#T_192e0_row8_col4,#T_192e0_row8_col6{\n",
       "            background-color:  #f7fbff;\n",
       "            color:  #000000;\n",
       "        }#T_192e0_row4_col2{\n",
       "            background-color:  #084d96;\n",
       "            color:  #f1f1f1;\n",
       "        }#T_192e0_row4_col6{\n",
       "            background-color:  #dfebf7;\n",
       "            color:  #000000;\n",
       "        }#T_192e0_row5_col3{\n",
       "            background-color:  #c6dbef;\n",
       "            color:  #000000;\n",
       "        }#T_192e0_row5_col6{\n",
       "            background-color:  #ecf4fb;\n",
       "            color:  #000000;\n",
       "        }#T_192e0_row6_col1,#T_192e0_row7_col2{\n",
       "            background-color:  #e1edf8;\n",
       "            color:  #000000;\n",
       "        }#T_192e0_row6_col3{\n",
       "            background-color:  #9dcae1;\n",
       "            color:  #000000;\n",
       "        }#T_192e0_row6_col6,#T_192e0_row7_col6{\n",
       "            background-color:  #f5fafe;\n",
       "            color:  #000000;\n",
       "        }#T_192e0_row7_col3{\n",
       "            background-color:  #deebf7;\n",
       "            color:  #000000;\n",
       "        }</style><table id=\"T_192e0_\" ><thead>    <tr>        <th class=\"blank level0\" ></th>        <th class=\"col_heading level0 col0\" >hypothesis</th>        <th class=\"col_heading level0 col1\" >reach</th>        <th class=\"col_heading level0 col2\" >impact</th>        <th class=\"col_heading level0 col3\" >confidence</th>        <th class=\"col_heading level0 col4\" >efforts</th>        <th class=\"col_heading level0 col5\" >ice</th>        <th class=\"col_heading level0 col6\" >rice</th>    </tr></thead><tbody>\n",
       "                <tr>\n",
       "                        <th id=\"T_192e0_level0_row0\" class=\"row_heading level0 row0\" >7</th>\n",
       "                        <td id=\"T_192e0_row0_col0\" class=\"data row0 col0\" >Добавить форму подписки на все основные страницы, чтобы собрать базу клиентов для email-рассылок</td>\n",
       "                        <td id=\"T_192e0_row0_col1\" class=\"data row0 col1\" >10</td>\n",
       "                        <td id=\"T_192e0_row0_col2\" class=\"data row0 col2\" >7</td>\n",
       "                        <td id=\"T_192e0_row0_col3\" class=\"data row0 col3\" >8</td>\n",
       "                        <td id=\"T_192e0_row0_col4\" class=\"data row0 col4\" >5</td>\n",
       "                        <td id=\"T_192e0_row0_col5\" class=\"data row0 col5\" >11.200000</td>\n",
       "                        <td id=\"T_192e0_row0_col6\" class=\"data row0 col6\" >112.000000</td>\n",
       "            </tr>\n",
       "            <tr>\n",
       "                        <th id=\"T_192e0_level0_row1\" class=\"row_heading level0 row1\" >2</th>\n",
       "                        <td id=\"T_192e0_row1_col0\" class=\"data row1 col0\" >Добавить блоки рекомендаций товаров на сайт интернет магазина, чтобы повысить конверсию и средний чек заказа</td>\n",
       "                        <td id=\"T_192e0_row1_col1\" class=\"data row1 col1\" >8</td>\n",
       "                        <td id=\"T_192e0_row1_col2\" class=\"data row1 col2\" >3</td>\n",
       "                        <td id=\"T_192e0_row1_col3\" class=\"data row1 col3\" >7</td>\n",
       "                        <td id=\"T_192e0_row1_col4\" class=\"data row1 col4\" >3</td>\n",
       "                        <td id=\"T_192e0_row1_col5\" class=\"data row1 col5\" >7.000000</td>\n",
       "                        <td id=\"T_192e0_row1_col6\" class=\"data row1 col6\" >56.000000</td>\n",
       "            </tr>\n",
       "            <tr>\n",
       "                        <th id=\"T_192e0_level0_row2\" class=\"row_heading level0 row2\" >0</th>\n",
       "                        <td id=\"T_192e0_row2_col0\" class=\"data row2 col0\" >Добавить два новых канала привлечения трафика, что позволит привлекать на 30% больше пользователей</td>\n",
       "                        <td id=\"T_192e0_row2_col1\" class=\"data row2 col1\" >3</td>\n",
       "                        <td id=\"T_192e0_row2_col2\" class=\"data row2 col2\" >10</td>\n",
       "                        <td id=\"T_192e0_row2_col3\" class=\"data row2 col3\" >8</td>\n",
       "                        <td id=\"T_192e0_row2_col4\" class=\"data row2 col4\" >6</td>\n",
       "                        <td id=\"T_192e0_row2_col5\" class=\"data row2 col5\" >13.330000</td>\n",
       "                        <td id=\"T_192e0_row2_col6\" class=\"data row2 col6\" >40.000000</td>\n",
       "            </tr>\n",
       "            <tr>\n",
       "                        <th id=\"T_192e0_level0_row3\" class=\"row_heading level0 row3\" >6</th>\n",
       "                        <td id=\"T_192e0_row3_col0\" class=\"data row3 col0\" >Показать на главной странице баннеры с актуальными акциями и распродажами, чтобы увеличить конверсию</td>\n",
       "                        <td id=\"T_192e0_row3_col1\" class=\"data row3 col1\" >5</td>\n",
       "                        <td id=\"T_192e0_row3_col2\" class=\"data row3 col2\" >3</td>\n",
       "                        <td id=\"T_192e0_row3_col3\" class=\"data row3 col3\" >8</td>\n",
       "                        <td id=\"T_192e0_row3_col4\" class=\"data row3 col4\" >3</td>\n",
       "                        <td id=\"T_192e0_row3_col5\" class=\"data row3 col5\" >8.000000</td>\n",
       "                        <td id=\"T_192e0_row3_col6\" class=\"data row3 col6\" >40.000000</td>\n",
       "            </tr>\n",
       "            <tr>\n",
       "                        <th id=\"T_192e0_level0_row4\" class=\"row_heading level0 row4\" >8</th>\n",
       "                        <td id=\"T_192e0_row4_col0\" class=\"data row4 col0\" >Запустить акцию, дающую скидку на товар в день рождения</td>\n",
       "                        <td id=\"T_192e0_row4_col1\" class=\"data row4 col1\" >1</td>\n",
       "                        <td id=\"T_192e0_row4_col2\" class=\"data row4 col2\" >9</td>\n",
       "                        <td id=\"T_192e0_row4_col3\" class=\"data row4 col3\" >9</td>\n",
       "                        <td id=\"T_192e0_row4_col4\" class=\"data row4 col4\" >5</td>\n",
       "                        <td id=\"T_192e0_row4_col5\" class=\"data row4 col5\" >16.200000</td>\n",
       "                        <td id=\"T_192e0_row4_col6\" class=\"data row4 col6\" >16.200000</td>\n",
       "            </tr>\n",
       "            <tr>\n",
       "                        <th id=\"T_192e0_level0_row5\" class=\"row_heading level0 row5\" >3</th>\n",
       "                        <td id=\"T_192e0_row5_col0\" class=\"data row5 col0\" >Изменить структура категорий, что увеличит конверсию, т.к. пользователи быстрее найдут нужный товар</td>\n",
       "                        <td id=\"T_192e0_row5_col1\" class=\"data row5 col1\" >8</td>\n",
       "                        <td id=\"T_192e0_row5_col2\" class=\"data row5 col2\" >3</td>\n",
       "                        <td id=\"T_192e0_row5_col3\" class=\"data row5 col3\" >3</td>\n",
       "                        <td id=\"T_192e0_row5_col4\" class=\"data row5 col4\" >8</td>\n",
       "                        <td id=\"T_192e0_row5_col5\" class=\"data row5 col5\" >1.120000</td>\n",
       "                        <td id=\"T_192e0_row5_col6\" class=\"data row5 col6\" >9.000000</td>\n",
       "            </tr>\n",
       "            <tr>\n",
       "                        <th id=\"T_192e0_level0_row6\" class=\"row_heading level0 row6\" >1</th>\n",
       "                        <td id=\"T_192e0_row6_col0\" class=\"data row6 col0\" >Запустить собственную службу доставки, что сократит срок доставки заказов</td>\n",
       "                        <td id=\"T_192e0_row6_col1\" class=\"data row6 col1\" >2</td>\n",
       "                        <td id=\"T_192e0_row6_col2\" class=\"data row6 col2\" >5</td>\n",
       "                        <td id=\"T_192e0_row6_col3\" class=\"data row6 col3\" >4</td>\n",
       "                        <td id=\"T_192e0_row6_col4\" class=\"data row6 col4\" >10</td>\n",
       "                        <td id=\"T_192e0_row6_col5\" class=\"data row6 col5\" >2.000000</td>\n",
       "                        <td id=\"T_192e0_row6_col6\" class=\"data row6 col6\" >4.000000</td>\n",
       "            </tr>\n",
       "            <tr>\n",
       "                        <th id=\"T_192e0_level0_row7\" class=\"row_heading level0 row7\" >5</th>\n",
       "                        <td id=\"T_192e0_row7_col0\" class=\"data row7 col0\" >Добавить страницу отзывов клиентов о магазине, что позволит увеличить количество заказов</td>\n",
       "                        <td id=\"T_192e0_row7_col1\" class=\"data row7 col1\" >3</td>\n",
       "                        <td id=\"T_192e0_row7_col2\" class=\"data row7 col2\" >2</td>\n",
       "                        <td id=\"T_192e0_row7_col3\" class=\"data row7 col3\" >2</td>\n",
       "                        <td id=\"T_192e0_row7_col4\" class=\"data row7 col4\" >3</td>\n",
       "                        <td id=\"T_192e0_row7_col5\" class=\"data row7 col5\" >1.330000</td>\n",
       "                        <td id=\"T_192e0_row7_col6\" class=\"data row7 col6\" >4.000000</td>\n",
       "            </tr>\n",
       "            <tr>\n",
       "                        <th id=\"T_192e0_level0_row8\" class=\"row_heading level0 row8\" >4</th>\n",
       "                        <td id=\"T_192e0_row8_col0\" class=\"data row8 col0\" >Изменить цвет фона главной страницы, чтобы увеличить вовлеченность пользователей</td>\n",
       "                        <td id=\"T_192e0_row8_col1\" class=\"data row8 col1\" >3</td>\n",
       "                        <td id=\"T_192e0_row8_col2\" class=\"data row8 col2\" >1</td>\n",
       "                        <td id=\"T_192e0_row8_col3\" class=\"data row8 col3\" >1</td>\n",
       "                        <td id=\"T_192e0_row8_col4\" class=\"data row8 col4\" >1</td>\n",
       "                        <td id=\"T_192e0_row8_col5\" class=\"data row8 col5\" >1.000000</td>\n",
       "                        <td id=\"T_192e0_row8_col6\" class=\"data row8 col6\" >3.000000</td>\n",
       "            </tr>\n",
       "    </tbody></table>"
      ],
      "text/plain": [
       "<pandas.io.formats.style.Styler at 0x7f5f573aaca0>"
      ]
     },
     "execution_count": 25,
     "metadata": {},
     "output_type": "execute_result"
    }
   ],
   "source": [
    "def get_rice(data):\n",
    "    data['rice'] = round(data['reach'] * data['impact'] * data['confidence'] / data['efforts'], 2)\n",
    "    return data.sort_values(by = 'rice', ascending = False)    \n",
    "    \n",
    "pd.DataFrame(get_rice(hypothesis)).style.background_gradient(subset=['reach', 'impact', 'confidence', 'efforts', 'rice']\n",
    "                                                             , cmap='Blues')"
   ]
  },
  {
   "cell_type": "markdown",
   "metadata": {},
   "source": [
    "Фреймворки ICE и RISE показали разные результаты приоритизации гипотез. Согнасно ICE-анализу, самой приоритетной является 8 гипотеза: **Запустить акцию, дающую скидку на товар в день рождения**. Разрыв по ICE между ней и следующими двумя гипотезами не слишком большой, до 20%. Далее идут:\n",
    "- 0: *Добавить два новых канала привлечения трафика, что позволит привлекать на 30% больше пользователей*, \n",
    "- 7: *Добавить форму подписки на все основные страницы, чтобы собрать базу клиентов для email-рассылок*, \n",
    "- 6: *Показать на главной странице баннеры с актуальными акциями и распродажами, чтобы увеличить конверсию*. \n",
    "Данный фреймворк не учитывает параметр охвата пользователей, поэтому лидируют гипотезы, которые сильнее всего повлияют на пользователей. \n",
    "\n",
    "По RICE-анализу, который уже учитывает параметр охвата, лидирует 7: **Добавить форму подписки на все основные страницы, чтобы собрать базу клиентов для email-рассылок** гипотеза с отрывом по показателю RICE в 2 раза по сравнению со следующей гипотезой в рейтинге. Далее идут:\n",
    "- 2: *Добавить блоки рекомендаций товаров на сайт интернет магазина, чтобы повысить конверсию и средний чек заказа*, \n",
    "- 0: *Добавить два новых канала привлечения трафика, что позволит привлекать на 30% больше пользователей*,\n",
    "- 6: *Показать на главной странице баннеры с актуальными акциями и распродажами, чтобы увеличить конверсию*."
   ]
  },
  {
   "cell_type": "markdown",
   "metadata": {},
   "source": [
    "## Анализ A/B-теста"
   ]
  },
  {
   "cell_type": "markdown",
   "metadata": {},
   "source": [
    "### Кумулятивная выручка по группам"
   ]
  },
  {
   "cell_type": "code",
   "execution_count": 26,
   "metadata": {},
   "outputs": [
    {
     "data": {
      "text/html": [
       "<div>\n",
       "<style scoped>\n",
       "    .dataframe tbody tr th:only-of-type {\n",
       "        vertical-align: middle;\n",
       "    }\n",
       "\n",
       "    .dataframe tbody tr th {\n",
       "        vertical-align: top;\n",
       "    }\n",
       "\n",
       "    .dataframe thead th {\n",
       "        text-align: right;\n",
       "    }\n",
       "</style>\n",
       "<table border=\"1\" class=\"dataframe\">\n",
       "  <thead>\n",
       "    <tr style=\"text-align: right;\">\n",
       "      <th></th>\n",
       "      <th>date</th>\n",
       "      <th>group</th>\n",
       "      <th>orders</th>\n",
       "      <th>buyers</th>\n",
       "      <th>revenue</th>\n",
       "      <th>visitors</th>\n",
       "    </tr>\n",
       "  </thead>\n",
       "  <tbody>\n",
       "    <tr>\n",
       "      <th>0</th>\n",
       "      <td>2019-08-01</td>\n",
       "      <td>A</td>\n",
       "      <td>24</td>\n",
       "      <td>20</td>\n",
       "      <td>148579</td>\n",
       "      <td>719</td>\n",
       "    </tr>\n",
       "    <tr>\n",
       "      <th>1</th>\n",
       "      <td>2019-08-01</td>\n",
       "      <td>B</td>\n",
       "      <td>21</td>\n",
       "      <td>20</td>\n",
       "      <td>101217</td>\n",
       "      <td>713</td>\n",
       "    </tr>\n",
       "    <tr>\n",
       "      <th>2</th>\n",
       "      <td>2019-08-02</td>\n",
       "      <td>A</td>\n",
       "      <td>44</td>\n",
       "      <td>38</td>\n",
       "      <td>242401</td>\n",
       "      <td>1338</td>\n",
       "    </tr>\n",
       "    <tr>\n",
       "      <th>3</th>\n",
       "      <td>2019-08-02</td>\n",
       "      <td>B</td>\n",
       "      <td>45</td>\n",
       "      <td>43</td>\n",
       "      <td>266748</td>\n",
       "      <td>1294</td>\n",
       "    </tr>\n",
       "    <tr>\n",
       "      <th>4</th>\n",
       "      <td>2019-08-03</td>\n",
       "      <td>A</td>\n",
       "      <td>68</td>\n",
       "      <td>62</td>\n",
       "      <td>354874</td>\n",
       "      <td>1845</td>\n",
       "    </tr>\n",
       "  </tbody>\n",
       "</table>\n",
       "</div>"
      ],
      "text/plain": [
       "        date group  orders  buyers  revenue  visitors\n",
       "0 2019-08-01     A      24      20   148579       719\n",
       "1 2019-08-01     B      21      20   101217       713\n",
       "2 2019-08-02     A      44      38   242401      1338\n",
       "3 2019-08-02     B      45      43   266748      1294\n",
       "4 2019-08-03     A      68      62   354874      1845"
      ]
     },
     "execution_count": 26,
     "metadata": {},
     "output_type": "execute_result"
    }
   ],
   "source": [
    "dates_groups = orders[['date','group']].drop_duplicates() \n",
    "\n",
    "# получаем агрегированные кумулятивные по дням данные о заказах\n",
    "orders_aggregated = (\n",
    "    dates_groups\n",
    "    .apply(lambda x: orders[np.logical_and(orders['date'] <= x['date'], orders['group'] == x['group'])]\n",
    "    .agg({'date' : 'max', \n",
    "          'group' : 'max', \n",
    "          'transactionid': pd.Series.nunique, \n",
    "          'visitorid' : pd.Series.nunique, \n",
    "          'revenue' : 'sum'}), axis=1)\n",
    "    .sort_values(by=['date','group']))\n",
    "\n",
    "\n",
    "# получаем агрегированные кумулятивные по дням данные о посетителях интернет-магазина\n",
    "visitors_aggregated = (\n",
    "    dates_groups\n",
    "    .apply(lambda x: visitors[np.logical_and(visitors['date'] <= x['date'], visitors['group'] == x['group'])]\n",
    "    .agg({'date' : 'max', \n",
    "          'group' : 'max', \n",
    "          'visitors' : 'sum'}), axis=1)\n",
    "    .sort_values(by=['date','group']))\n",
    "\n",
    "\n",
    "\n",
    "# объединяем кумулятивные данные в одной таблице\n",
    "\n",
    "cumulative_data = orders_aggregated.merge(visitors_aggregated, \n",
    "                                          left_on=['date', 'group'],\n",
    "                                          right_on=['date', 'group'])\n",
    "cumulative_data.columns = ['date', 'group', 'orders', 'buyers', 'revenue', 'visitors']\n",
    "cumulative_data.head()"
   ]
  },
  {
   "cell_type": "code",
   "execution_count": 27,
   "metadata": {},
   "outputs": [
    {
     "data": {
      "image/png": "[encoded data removed]",
      "text/plain": [
       "<Figure size 1080x504 with 1 Axes>"
      ]
     },
     "metadata": {
      "needs_background": "light"
     },
     "output_type": "display_data"
    }
   ],
   "source": [
    "# датафрейм с кумулятивным количеством заказов и кумулятивной выручкой по дням в группе А\n",
    "cumulative_revenue_a = cumulative_data[cumulative_data['group']=='A'][['date','revenue', 'orders', 'visitors']]\n",
    "\n",
    "# датафрейм с кумулятивным количеством заказов и кумулятивной выручкой по дням в группе B\n",
    "cumulative_revenue_b = cumulative_data[cumulative_data['group']=='B'][['date','revenue', 'orders', 'visitors']]\n",
    "\n",
    "plt.figure(figsize=(15, 7))\n",
    "plt.plot(cumulative_revenue_a['date'], cumulative_revenue_a['revenue'], label='A')\n",
    "plt.plot(cumulative_revenue_b['date'], cumulative_revenue_b['revenue'], label='B')\n",
    "plt.legend()\n",
    "plt.grid(True)\n",
    "plt.xlabel('Дата')\n",
    "plt.ylabel('Кумулятивная выручка, млн')\n",
    "plt.title('Динамика изменения кумулятивной выручки по группам')\n",
    "\n",
    "plt.annotate('скачок', xy=(dt.datetime(2019, 8, 17), 2800000), xytext=(dt.datetime(2019, 8, 10), 3500000),\n",
    "            arrowprops=dict(facecolor='black'))\n",
    "plt.annotate('отрыв', xy=(dt.datetime(2019, 8, 5), 800000), xytext=(dt.datetime(2019, 8, 5), 2000000),\n",
    "            arrowprops=dict(facecolor='black'));"
   ]
  },
  {
   "cell_type": "markdown",
   "metadata": {},
   "source": [
    "Как видно по графику, кумулятивная выручка группы B на всем периоде анализа преобладает над группой А. В районе 19-08-21 видно резкое увеличение выручки в группе В, возможно, это был какой-то крупный дорогостоящий заказ. "
   ]
  },
  {
   "cell_type": "markdown",
   "metadata": {},
   "source": [
    "### Кумулятивный средний чек по группам"
   ]
  },
  {
   "cell_type": "code",
   "execution_count": 28,
   "metadata": {},
   "outputs": [
    {
     "data": {
      "image/png": "[encoded data removed]",
      "text/plain": [
       "<Figure size 1080x504 with 1 Axes>"
      ]
     },
     "metadata": {
      "needs_background": "light"
     },
     "output_type": "display_data"
    }
   ],
   "source": [
    "cumulative_revenue_a['revenue_mean'] = cumulative_revenue_a['revenue']/cumulative_revenue_a['orders']\n",
    "cumulative_revenue_b['revenue_mean'] = cumulative_revenue_b['revenue']/cumulative_revenue_b['orders']\n",
    "\n",
    "plt.figure(figsize=(15, 7))\n",
    "plt.plot(cumulative_revenue_a['date'], cumulative_revenue_a['revenue_mean'], label='A')\n",
    "plt.plot(cumulative_revenue_b['date'], cumulative_revenue_b['revenue_mean'], label='B')\n",
    "plt.legend() \n",
    "plt.grid(True)\n",
    "plt.xlabel('Дата')\n",
    "plt.ylabel('Кумулятивный средний чек')\n",
    "plt.title('Динамика изменения кумулятивного среднего чека по группам')\n",
    "\n",
    "plt.annotate('скачок', xy=(dt.datetime(2019, 8, 17), 7200), xytext=(dt.datetime(2019, 8, 11), 9200),\n",
    "            arrowprops=dict(facecolor='black'));"
   ]
  },
  {
   "cell_type": "code",
   "execution_count": 29,
   "metadata": {
    "scrolled": false
   },
   "outputs": [
    {
     "data": {
      "image/png": "[encoded data removed]",
      "text/plain": [
       "<Figure size 1080x504 with 1 Axes>"
      ]
     },
     "metadata": {
      "needs_background": "light"
     },
     "output_type": "display_data"
    }
   ],
   "source": [
    "# собираем данные в одном датафрейме\n",
    "merged_cumulative_revenue = cumulative_revenue_a.merge(cumulative_revenue_b, \n",
    "                                                   left_on='date', \n",
    "                                                   right_on='date', \n",
    "                                                   how='left', \n",
    "                                                   suffixes=['A', 'B'])\n",
    "merged_cumulative_revenue['revenue_b_a'] = ((merged_cumulative_revenue['revenueB']/merged_cumulative_revenue['ordersB'])/(merged_cumulative_revenue['revenueA']/merged_cumulative_revenue['ordersA']) - 1)\n",
    "\n",
    "plt.figure(figsize=(15, 7))\n",
    "plt.plot(merged_cumulative_revenue['date'], \n",
    "         merged_cumulative_revenue['revenue_b_a'],\n",
    "         label = 'Относительный прирост кумулятивного среднего чека группы B относительно группы A')\n",
    "plt.legend()\n",
    "plt.axhline(y=0, color='red', linestyle='-.')\n",
    "plt.title('Относительное изменение кумулятивного среднего чека группы B к группе A')\n",
    "plt.grid(True)\n",
    "plt.annotate('скачок', xy=(dt.datetime(2019, 8, 17), 0.08), xytext=(dt.datetime(2019, 8, 11), 0.22),\n",
    "            arrowprops=dict(facecolor='black'));"
   ]
  },
  {
   "cell_type": "markdown",
   "metadata": {},
   "source": [
    "В начале исследуемого периода кумулятивный средний чек группы B преобладал над группой А. В тех же датах, что и резкое увеличение выручки, произошел скачек среднего чека по группе B. Без него, вероятно, к концу периодна средние чеки обоих групп были бы примерно на одном уровне с незначительным преобладанием группы А над группой В."
   ]
  },
  {
   "cell_type": "markdown",
   "metadata": {},
   "source": [
    "### Кумулятивное среднее количество заказов по группам"
   ]
  },
  {
   "cell_type": "code",
   "execution_count": 30,
   "metadata": {},
   "outputs": [
    {
     "data": {
      "image/png": "[encoded data removed]",
      "text/plain": [
       "<Figure size 1080x504 with 1 Axes>"
      ]
     },
     "metadata": {
      "needs_background": "light"
     },
     "output_type": "display_data"
    }
   ],
   "source": [
    "cumulative_data['conversion'] = cumulative_data['orders']/cumulative_data['visitors']\n",
    "\n",
    "# отделяем данные по группе A\n",
    "cumulative_data_a = cumulative_data[cumulative_data['group']=='A']\n",
    "\n",
    "# отделяем данные по группе B\n",
    "cumulative_data_b = cumulative_data[cumulative_data['group']=='B']\n",
    "\n",
    "plt.figure(figsize=(15, 7))\n",
    "plt.plot(cumulative_data_a['date'], cumulative_data_a['conversion'], label='Кумулятивное среднее количество заказов, A')\n",
    "plt.plot(cumulative_data_b['date'], cumulative_data_b['conversion'], label='Кумулятивное среднее количество заказов, B')\n",
    "plt.legend()\n",
    "plt.grid(True)\n",
    "plt.xlabel('Дата')\n",
    "plt.ylabel('Количество заказов, шт')\n",
    "plt.title('Динамика изменения кумулятивного среднего количества заказов по группам');"
   ]
  },
  {
   "cell_type": "code",
   "execution_count": 31,
   "metadata": {},
   "outputs": [
    {
     "data": {
      "image/png": "[encoded data removed]",
      "text/plain": [
       "<Figure size 1080x504 with 1 Axes>"
      ]
     },
     "metadata": {
      "needs_background": "light"
     },
     "output_type": "display_data"
    }
   ],
   "source": [
    "merged_сumulative_conversions = cumulative_data_a[['date','conversion']].merge(cumulative_data_b[['date','conversion']], \n",
    "                                                                               left_on='date', \n",
    "                                                                               right_on='date', \n",
    "                                                                               how='left', \n",
    "                                                                               suffixes=['A', 'B'])\n",
    "\n",
    "merged_сumulative_conversions['conversion_b_a'] = merged_сumulative_conversions['conversionB']/merged_сumulative_conversions['conversionA'] - 1\n",
    "\n",
    "plt.figure(figsize=(15, 7))\n",
    "plt.plot(merged_сumulative_conversions['date'], \n",
    "         merged_сumulative_conversions['conversion_b_a'], \n",
    "         label = 'Относительный прирост конверсии группы B относительно группы A')\n",
    "plt.legend()\n",
    "plt.axhline(y=0, color='red', linestyle='-.')\n",
    "plt.grid(True)\n",
    "plt.title('Относительное изменение кумулятиваного среднего количества заказов группы B к группе A')\n",
    "plt.xlabel('Дата');"
   ]
  },
  {
   "cell_type": "markdown",
   "metadata": {},
   "source": [
    "В начале периода видны сильные искажения из-за недостатка данных. К концу периода значения конверсий стабилизируются: пользователи группы В (конверсия примерно 3.4%) конвертируются лучше пользователей группы А (конверсия примерно 3%)."
   ]
  },
  {
   "cell_type": "markdown",
   "metadata": {},
   "source": [
    "### Изучение данных о количестве заказов на аномалии и выбросы"
   ]
  },
  {
   "cell_type": "code",
   "execution_count": 32,
   "metadata": {},
   "outputs": [
    {
     "data": {
      "text/plain": [
       "count    1031.000000\n",
       "mean        1.161009\n",
       "std         0.724919\n",
       "min         1.000000\n",
       "25%         1.000000\n",
       "50%         1.000000\n",
       "75%         1.000000\n",
       "max        11.000000\n",
       "Name: transactionid, dtype: float64"
      ]
     },
     "execution_count": 32,
     "metadata": {},
     "output_type": "execute_result"
    },
    {
     "data": {
      "image/png": "[encoded data removed]",
      "text/plain": [
       "<Figure size 432x288 with 1 Axes>"
      ]
     },
     "metadata": {
      "needs_background": "light"
     },
     "output_type": "display_data"
    }
   ],
   "source": [
    "# изучим данные по количеству заказов на каждого пользователя\n",
    "\n",
    "orders_per_user = (\n",
    "    orders\n",
    "    .groupby('visitorid', as_index = False)\n",
    "    .agg({'transactionid' : 'nunique'})\n",
    "    .sort_values(by = 'transactionid', ascending = False))\n",
    "\n",
    "orders_per_user.head()\n",
    "orders_per_user.boxplot('transactionid')\n",
    "plt.ylabel('Количество заказов, шт');\n",
    "orders_per_user['transactionid'].describe()"
   ]
  },
  {
   "cell_type": "code",
   "execution_count": 33,
   "metadata": {},
   "outputs": [
    {
     "data": {
      "image/png": "[encoded data removed]",
      "text/plain": [
       "<Figure size 432x288 with 1 Axes>"
      ]
     },
     "metadata": {
      "needs_background": "light"
     },
     "output_type": "display_data"
    }
   ],
   "source": [
    "# серия из чисел от 0 до количества наблюдений в orders_per_user\n",
    "x_values = pd.Series(range(0, len(orders_per_user)))\n",
    "\n",
    "plt.scatter(x_values , orders_per_user['transactionid'], marker = '.')\n",
    "plt.ylabel('Количество заказов, шт')\n",
    "plt.xlabel('Число пользователей');"
   ]
  },
  {
   "cell_type": "markdown",
   "metadata": {},
   "source": [
    "В среднем пользователи делают всего по 1 заказу, однако есть и те, кто совершает 8 и более. Посчитаем 95-й и 99-й перцентили количества заказов на пользователя и определим градницу границу для отсечения аномальных пользователей."
   ]
  },
  {
   "cell_type": "code",
   "execution_count": 34,
   "metadata": {},
   "outputs": [
    {
     "data": {
      "text/plain": [
       "array([2., 4.])"
      ]
     },
     "execution_count": 34,
     "metadata": {},
     "output_type": "execute_result"
    }
   ],
   "source": [
    "np.percentile(orders_per_user['transactionid'], [95, 99])"
   ]
  },
  {
   "cell_type": "markdown",
   "metadata": {},
   "source": [
    "Не более 5% пользователей совершали более двух заказов, и не более 1% - более четырех."
   ]
  },
  {
   "cell_type": "markdown",
   "metadata": {},
   "source": [
    "### Изучение данных о стоимости заказов на аномалии и выбросы"
   ]
  },
  {
   "cell_type": "code",
   "execution_count": 35,
   "metadata": {
    "scrolled": false
   },
   "outputs": [
    {
     "data": {
      "text/plain": [
       "count    1.197000e+03\n",
       "mean     8.348006e+03\n",
       "std      3.919113e+04\n",
       "min      5.000000e+01\n",
       "25%      1.220000e+03\n",
       "50%      2.978000e+03\n",
       "75%      8.290000e+03\n",
       "max      1.294500e+06\n",
       "Name: revenue, dtype: float64"
      ]
     },
     "execution_count": 35,
     "metadata": {},
     "output_type": "execute_result"
    },
    {
     "data": {
      "image/png": "[encoded data removed]",
      "text/plain": [
       "<Figure size 432x288 with 1 Axes>"
      ]
     },
     "metadata": {
      "needs_background": "light"
     },
     "output_type": "display_data"
    }
   ],
   "source": [
    "# изучим данные о выручке\n",
    "\n",
    "orders.boxplot('revenue')\n",
    "plt.ylabel('Стоимость покупки, млн');\n",
    "orders['revenue'].describe()"
   ]
  },
  {
   "cell_type": "code",
   "execution_count": 36,
   "metadata": {},
   "outputs": [
    {
     "data": {
      "image/png": "[encoded data removed]",
      "text/plain": [
       "<Figure size 432x288 with 1 Axes>"
      ]
     },
     "metadata": {
      "needs_background": "light"
     },
     "output_type": "display_data"
    }
   ],
   "source": [
    "# серия из чисел от 0 до количества наблюдений в orders_per_user\n",
    "x_values = pd.Series(range(0, len(orders['revenue'])))\n",
    "\n",
    "plt.scatter(x_values , orders['revenue'], marker = '.')\n",
    "plt.ylabel('Стоимость покупки, млн')\n",
    "plt.xlabel('Число пользователей');"
   ]
  },
  {
   "cell_type": "code",
   "execution_count": 37,
   "metadata": {},
   "outputs": [
    {
     "data": {
      "text/plain": [
       "array([28000. , 58233.2])"
      ]
     },
     "execution_count": 37,
     "metadata": {},
     "output_type": "execute_result"
    }
   ],
   "source": [
    "np.percentile(orders['revenue'], [95, 99])"
   ]
  },
  {
   "cell_type": "markdown",
   "metadata": {},
   "source": [
    "В среднем пользователи совершают покупки на 8400, однако в данных есть большой выброс: кто-то совершил покупку на сумму больше 1 миллиона. Вероятно, именно это повлияло на резкие скачки в графиках среднего чека. Не более 5% от всех заказов были на сумму более 2800, и не более 1% - на сумму более 58250."
   ]
  },
  {
   "cell_type": "markdown",
   "metadata": {},
   "source": [
    "### Расчет статистической значимости различий в среднем количестве заказов и в среднем чеке между группами по «сырым» данным"
   ]
  },
  {
   "cell_type": "markdown",
   "metadata": {},
   "source": [
    "**Расчет по среднему количеству заказов**"
   ]
  },
  {
   "cell_type": "markdown",
   "metadata": {},
   "source": [
    "```\n",
    "H_0: Вероятность того, что наблюдение из группы В превышает наблюдение из популяции В равна 50% \n",
    "H_a: Вероятность того, что наблюдение из группы В превышает наблюдение из популяции В не равна 50%\n",
    "alpha = 0.05\n",
    "```"
   ]
  },
  {
   "cell_type": "code",
   "execution_count": 38,
   "metadata": {},
   "outputs": [],
   "source": [
    "# по среднему количеству заказов\n",
    "\n",
    "ordersByUsersA = (\n",
    "    orders[orders['group'] == 'A']\n",
    "    .groupby('visitorid', as_index=False)\n",
    "    .agg({'transactionid': pd.Series.nunique})\n",
    ")\n",
    "ordersByUsersA.columns = ['visitorid', 'orders']\n",
    "\n",
    "ordersByUsersB  = (\n",
    "    orders[orders['group'] == 'B']\n",
    "    .groupby('visitorid', as_index=False)\n",
    "    .agg({'transactionid': pd.Series.nunique})\n",
    ")\n",
    "ordersByUsersB.columns = ['visitorid', 'orders']\n",
    "\n",
    "sampleA = pd.concat(\n",
    "    [\n",
    "        ordersByUsersA['orders'],\n",
    "        pd.Series(\n",
    "            0,\n",
    "            index=np.arange(\n",
    "                cumulative_revenue_a.tail(1)['visitors'].sum() - len(ordersByUsersA['orders'])\n",
    "            ),\n",
    "            name='orders',\n",
    "        ),\n",
    "    ],\n",
    "    axis=0,\n",
    ")\n",
    "\n",
    "sampleB = pd.concat(\n",
    "    [\n",
    "        ordersByUsersB['orders'],\n",
    "        pd.Series(\n",
    "            0,\n",
    "            index=np.arange(\n",
    "                cumulative_revenue_b.tail(1)['visitors'].sum() - len(ordersByUsersB['orders'])\n",
    "            ),\n",
    "            name='orders',\n",
    "        ),\n",
    "    ],\n",
    "    axis=0,\n",
    ")"
   ]
  },
  {
   "cell_type": "code",
   "execution_count": 39,
   "metadata": {},
   "outputs": [
    {
     "name": "stdout",
     "output_type": "stream",
     "text": [
      "0.017\n",
      "0.138\n"
     ]
    }
   ],
   "source": [
    "print(\"{0:.3f}\".format(stats.mannwhitneyu(sampleA, sampleB)[1]))\n",
    "print(\"{0:.3f}\".format(sampleB.mean() / sampleA.mean() - 1))"
   ]
  },
  {
   "cell_type": "markdown",
   "metadata": {},
   "source": [
    "По «сырым» данным различия в среднем количестве заказов групп A и B есть. `p-value` составляет 0.017, он меньше статистического уровня значимости 0.05. Значит, нулевую гипотезу о том, что статистически значимых различий в среднем числе заказов между группами нет, мы отвергаем. Группа B выигрывает в среднем количестве заказов на 13,8%."
   ]
  },
  {
   "cell_type": "markdown",
   "metadata": {},
   "source": [
    "**Расчет по среднему чеку**"
   ]
  },
  {
   "cell_type": "code",
   "execution_count": 40,
   "metadata": {},
   "outputs": [
    {
     "name": "stdout",
     "output_type": "stream",
     "text": [
      "0.729\n",
      "0.259\n"
     ]
    }
   ],
   "source": [
    "# по среднему чеку \n",
    "\n",
    "print('{0:.3f}'.format(stats.mannwhitneyu(orders[orders['group']=='A']['revenue'], orders[orders['group']=='B']['revenue'])[1]))\n",
    "print('{0:.3f}'.format(orders[orders['group']=='B']['revenue'].mean()/orders[orders['group']=='A']['revenue'].mean()-1))"
   ]
  },
  {
   "cell_type": "markdown",
   "metadata": {},
   "source": [
    "По «сырым» данным различий в среднем чеке групп A и B нет. `p-value` составляет 0.729, он больше статистического уровня значимости 0.05. Значит, нулевую гипотезу о том, что статистически значимых различий в среднем чеке между группами нет, мы не отвергаем. Однако группа B выигрывает в среднем количестве заказов на 25,9%."
   ]
  },
  {
   "cell_type": "markdown",
   "metadata": {},
   "source": [
    "### Расчет статистической значимости различий в среднем количестве заказов и в среднем чеке между группами по «очищенным» данным"
   ]
  },
  {
   "cell_type": "markdown",
   "metadata": {},
   "source": [
    "**Расчет по среднему количеству заказов**"
   ]
  },
  {
   "cell_type": "code",
   "execution_count": 41,
   "metadata": {
    "scrolled": false
   },
   "outputs": [
    {
     "name": "stdout",
     "output_type": "stream",
     "text": [
      "Пользователей с числом заказов больше 2: 94\n",
      "Данных после очистки осталось 92.15 %\n"
     ]
    }
   ],
   "source": [
    "# очистка данных о среднем количестве заказов \n",
    "# исключим всех пользователей, совершивших более 2х заказов\n",
    "\n",
    "users_with_2_or_more = (\n",
    "    orders\n",
    "    .groupby('visitorid')\n",
    "    .agg({'transactionid': pd.Series.nunique})\n",
    "    .query('transactionid >= 2')\n",
    "    .reset_index())\n",
    "\n",
    "\n",
    "print('Пользователей с числом заказов больше 2:', users_with_2_or_more['visitorid'].shape[0])\n",
    "print('Данных после очистки осталось', round((1 - users_with_2_or_more['visitorid'].shape[0] / orders.shape[0]) * 100, 2),'%')"
   ]
  },
  {
   "cell_type": "code",
   "execution_count": 42,
   "metadata": {},
   "outputs": [],
   "source": [
    "# подготавливаем очищенные данные\n",
    "sampleAFiltered = pd.concat(\n",
    "    [\n",
    "        ordersByUsersA[\n",
    "            np.logical_not(ordersByUsersA['visitorid'].isin(users_with_2_or_more['visitorid']))\n",
    "        ]['orders'],\n",
    "        pd.Series(\n",
    "            0,\n",
    "            index=np.arange(\n",
    "                cumulative_revenue_a.tail(1)['visitors'].sum() - len(ordersByUsersA['orders'])\n",
    "            ),\n",
    "            name='orders',\n",
    "        ),\n",
    "    ],\n",
    "    axis=0,\n",
    ")\n",
    "\n",
    "sampleBFiltered = pd.concat(\n",
    "    [\n",
    "        ordersByUsersB[\n",
    "            np.logical_not(ordersByUsersB['visitorid'].isin(users_with_2_or_more['visitorid']))\n",
    "        ]['orders'],\n",
    "        pd.Series(\n",
    "            0,\n",
    "            index=np.arange(\n",
    "                cumulative_revenue_b.tail(1)['visitors'].sum() - len(ordersByUsersB['orders'])\n",
    "            ),\n",
    "            name='orders',\n",
    "        ),\n",
    "    ],\n",
    "    axis=0,\n",
    ")"
   ]
  },
  {
   "cell_type": "code",
   "execution_count": 43,
   "metadata": {},
   "outputs": [
    {
     "name": "stdout",
     "output_type": "stream",
     "text": [
      "0.009\n",
      "0.183\n"
     ]
    }
   ],
   "source": [
    "print('{0:.3f}'.format(stats.mannwhitneyu(sampleAFiltered, sampleBFiltered)[1]))\n",
    "print('{0:.3f}'.format(sampleBFiltered.mean()/sampleAFiltered.mean()-1))"
   ]
  },
  {
   "cell_type": "markdown",
   "metadata": {},
   "source": [
    "После очистки данных осталось 92.15 % от исходного объема. По «очищенным» данным различия в среднем количестве заказов групп A и B всё ещё есть. `p-value` составляет 0.009, он меньше статистического уровня значимости 0.05. Значит, нулевую гипотезу о том, что статистически значимых различий в среднем числе заказов между группами нет, мы отвергаем. Группа B выигрывает в среднем количестве заказов на 18,3%, на 5% больше, чем до очистки данных."
   ]
  },
  {
   "cell_type": "markdown",
   "metadata": {},
   "source": [
    "**Расчет по среднему чеку**"
   ]
  },
  {
   "cell_type": "code",
   "execution_count": 44,
   "metadata": {},
   "outputs": [
    {
     "name": "stdout",
     "output_type": "stream",
     "text": [
      "Пользователей с суммой покупки более 28000: 60\n",
      "Данных после очистки осталось 94.99 %\n"
     ]
    }
   ],
   "source": [
    "# очистка данных о среднем чеке\n",
    "# исключим всех пользователей, совершивших покупку на сумму более 28000\n",
    "\n",
    "users_with_28000_or_more = orders.query('revenue >= 28000')\n",
    "\n",
    "print('Пользователей с суммой покупки более 28000:', users_with_28000_or_more['visitorid'].shape[0])\n",
    "print('Данных после очистки осталось', round((1 - users_with_28000_or_more['visitorid'].shape[0] / orders.shape[0]) * 100, 2),'%')"
   ]
  },
  {
   "cell_type": "code",
   "execution_count": 48,
   "metadata": {},
   "outputs": [
    {
     "name": "stdout",
     "output_type": "stream",
     "text": [
      "0.863\n",
      "-0.013\n"
     ]
    }
   ],
   "source": [
    "print(\n",
    "    '{0:.3f}'.format(\n",
    "        stats.mannwhitneyu(\n",
    "            orders[\n",
    "                np.logical_and(\n",
    "                    orders['group'] == 'A',\n",
    "                    np.logical_not(orders['visitorid'].isin(users_with_28000_or_more['visitorid'])),\n",
    "                )\n",
    "            ]['revenue'],\n",
    "            orders[\n",
    "                np.logical_and(\n",
    "                    orders['group'] == 'B',\n",
    "                    np.logical_not(orders['visitorid'].isin(users_with_28000_or_more['visitorid'])),\n",
    "                )\n",
    "            ]['revenue'],\n",
    "        )[1]\n",
    "    )\n",
    ")\n",
    "\n",
    "print(\n",
    "    \"{0:.3f}\".format(\n",
    "        orders[\n",
    "            np.logical_and(\n",
    "                orders['group'] == 'B',\n",
    "                np.logical_not(orders['visitorid'].isin(users_with_28000_or_more['visitorid'])),\n",
    "            )\n",
    "        ]['revenue'].mean()\n",
    "        / orders[\n",
    "            np.logical_and(\n",
    "                orders['group'] == 'A',\n",
    "                np.logical_not(orders['visitorid'].isin(users_with_28000_or_more['visitorid'])),\n",
    "            )\n",
    "        ]['revenue'].mean()\n",
    "        - 1\n",
    "    )\n",
    ")"
   ]
  },
  {
   "cell_type": "markdown",
   "metadata": {},
   "source": [
    "После очистки данных осталось 94.99% от исходного объема. По «очищенным» данным различий в среднем чеке групп A и B нет. `p-value` составляет 0.863, он больше статистического уровня значимости 0.05. Значит, нулевую гипотезу о том, что статистически значимых различий в среднем чеке между группами нет, мы не отвергаем. Согласно очищенным данным, выигрывает уже группа А с преимуществом в 1,3%."
   ]
  },
  {
   "cell_type": "markdown",
   "metadata": {},
   "source": [
    "## Выводы"
   ]
  },
  {
   "attachments": {
    "image-2.png": {
     "image/png": "[encoded data removed]"
    }
   },
   "cell_type": "markdown",
   "metadata": {},
   "source": [
    "1. Произведен первичный обзор и обработка трех датафреймов: одного со списком гипотез и двух с данными о продажах и визитах по группам А и Б. Преобразованы форматы данных, исправлены заголовки столбцов. Среди данных о выручке и количестве заказов на пользователя найдены выбросы (большие значения), их влияние на результаты теста будет оценено далее в работе.\n",
    "\n",
    "\n",
    "2. Самой приоритетной гипотезой по ICE-фреймворку является **Запустить акцию, дающую скидку на товар в день рождения**: она окажет наиболее сильное влиятие со средними затратами на реализацию, однако охватит минимальную группу пользователей.\n",
    "3. Самой приоритетной гипотезой по ICE-фреймворку является **Добавить форму подписки на все основные страницы, чтобы собрать базу клиентов для email-рассылок**: она окажет достаточно сильное врияние с самым большим охватом при таких же затратах и степени надежности, что и гипотеза из ICE.\n",
    "\n",
    "\n",
    "\n",
    "4. Статистически значимая разница в среднем количестве заказов есть как по  «сырым» данным, так и по «очищенным». Группа B выигрывает в среднем количестве заказов на 18,3%, на 5% больше, чем до очистки данных.\n",
    "5. Разницы в среднем чеке по группам по «сырым» и «очищенным» данным нет. Однако, согласно «сырым» данным, средний чек группы В в среднем на 25,9% больше, чем у группы А; после очистки же группа В стала проигрывать группе А на 1,3%.\n",
    "\n",
    "\n",
    "6. На динамику кумулятивной выручки и среднего чека до очистки данных сильно повлияли выбросы. Кумулятивное среднее количество заказов по группам демонстрирует стабильную динамику, в группе В заказов в среднем больше, чем в группе А. Однако, согласно проверке гипотез, такой разницы недостаточно, чтобы она была статистически значимой. Кумулятивная выручка группы B на всем периоде анализа преобладает над группой А.\n",
    "\n",
    "![image-2.png](attachment:image-2.png)\n",
    "\n",
    "7. Тест следует продолжить: группа В выигрывает по количеству заказов, а динамика изменение среднего чека ещё не стабилизировалась. Кумулятивная выручка группы В также выше, чем у группы А. Стоит понаблюдать за динамикой среднего чека, пока он не стабилизируется (к концу данного исследуемого периода он имеет отрицательную относительную динамику роста - падает). Далее есть три варианта: \n",
    "\n",
    "    - если после завершения рекомендованного времени проведения A/B теста* относительное изменение среднего чека стабилизируется на уровне не ниже 0, то тест следует остановить и признать успешным: даже без статистически значимого преимущества по среднему чеку пользователи стали делать больше заказов, а значит выручка в целом увеличится;\n",
    "    \n",
    "    - если после завершения рекомендованного времени проведения A/B теста относительное изменение среднего чека всё так же будет падать или установится на уровне ниже 0, то тест следует остановить и признать неуспешным: даже не смотря на большее количество заказов, пользователи стали тратить меньше денег;\n",
    "    \n",
    "    - если после завершения рекомендованного времени проведения A/B теста показатель среднего чека так и не зафиксируется на одном уровне и будет колебаться, тест следует остановить и проанализировать динамику колебаний: возможно, там будет присутствовать сезонный фактор. Если статистически значимых различий между группами все ещё не будет, тест можно признать успешным.\n",
    "    \n",
    "    \n",
    "** Рекомендованное время проведения А/B теста согласно https://vwo.com/tools/ab-test-duration-calculator/ при параметрах Estimated existing conversion rate 3.2% и Minimum improvement in conversion rate you want to detect 10% составляет 161 день, то есть примерно 5 месяцев.*    \n"
   ]
  },
  {
   "attachments": {
    "image.png": {
     "image/png": "[encoded data removed]"
    }
   },
   "cell_type": "markdown",
   "metadata": {},
   "source": [
    "![image.png](attachment:image.png)"
   ]
  },
  {
   "cell_type": "code",
   "execution_count": 49,
   "metadata": {},
   "outputs": [
    {
     "data": {
      "text/plain": [
       "607.2903225806451"
      ]
     },
     "execution_count": 49,
     "metadata": {},
     "output_type": "execute_result"
    }
   ],
   "source": [
    "visitors['visitors'].mean()"
   ]
  }
 ],
 "metadata": {
  "ExecuteTimeLog": [
   {
    "duration": 1404,
    "start_time": "2022-11-23T07:45:33.461Z"
   },
   {
    "duration": 101,
    "start_time": "2022-11-23T07:47:46.481Z"
   },
   {
    "duration": 85,
    "start_time": "2022-11-23T07:48:02.895Z"
   },
   {
    "duration": 114,
    "start_time": "2022-11-23T07:49:14.291Z"
   },
   {
    "duration": 83,
    "start_time": "2022-11-23T07:50:52.714Z"
   },
   {
    "duration": 4,
    "start_time": "2022-11-23T07:55:40.724Z"
   },
   {
    "duration": 6,
    "start_time": "2022-11-23T07:56:00.225Z"
   },
   {
    "duration": 6,
    "start_time": "2022-11-23T07:57:13.706Z"
   },
   {
    "duration": 6,
    "start_time": "2022-11-23T07:57:37.837Z"
   },
   {
    "duration": 14,
    "start_time": "2022-11-23T07:57:45.531Z"
   },
   {
    "duration": 14,
    "start_time": "2022-11-23T07:58:23.525Z"
   },
   {
    "duration": 112,
    "start_time": "2022-11-23T07:58:30.890Z"
   },
   {
    "duration": 15,
    "start_time": "2022-11-23T07:58:35.371Z"
   },
   {
    "duration": 17,
    "start_time": "2022-11-23T07:58:37.587Z"
   },
   {
    "duration": 13,
    "start_time": "2022-11-23T07:58:43.270Z"
   },
   {
    "duration": 11,
    "start_time": "2022-11-23T07:58:50.214Z"
   },
   {
    "duration": 10,
    "start_time": "2022-11-23T08:00:24.684Z"
   },
   {
    "duration": 126,
    "start_time": "2022-11-23T08:00:34.275Z"
   },
   {
    "duration": 118,
    "start_time": "2022-11-23T08:00:49.988Z"
   },
   {
    "duration": 163,
    "start_time": "2022-11-23T08:00:54.027Z"
   },
   {
    "duration": 115,
    "start_time": "2022-11-23T08:01:14.283Z"
   },
   {
    "duration": 111,
    "start_time": "2022-11-23T08:01:47.958Z"
   },
   {
    "duration": 148,
    "start_time": "2022-11-23T08:01:56.371Z"
   },
   {
    "duration": 96,
    "start_time": "2022-11-23T08:02:05.252Z"
   },
   {
    "duration": 95,
    "start_time": "2022-11-23T08:02:07.267Z"
   },
   {
    "duration": 96,
    "start_time": "2022-11-23T08:02:10.930Z"
   },
   {
    "duration": 3,
    "start_time": "2022-11-23T08:02:13.893Z"
   },
   {
    "duration": 91,
    "start_time": "2022-11-23T08:02:13.898Z"
   },
   {
    "duration": 80,
    "start_time": "2022-11-23T08:02:13.992Z"
   },
   {
    "duration": 268,
    "start_time": "2022-11-23T08:02:14.074Z"
   },
   {
    "duration": 3,
    "start_time": "2022-11-23T08:02:14.344Z"
   },
   {
    "duration": 31,
    "start_time": "2022-11-23T08:02:14.349Z"
   },
   {
    "duration": 195,
    "start_time": "2022-11-23T08:02:15.898Z"
   },
   {
    "duration": 112,
    "start_time": "2022-11-23T08:02:20.924Z"
   },
   {
    "duration": 11,
    "start_time": "2022-11-23T08:04:12.802Z"
   },
   {
    "duration": 97,
    "start_time": "2022-11-23T08:04:16.898Z"
   },
   {
    "duration": 4,
    "start_time": "2022-11-23T08:04:18.091Z"
   },
   {
    "duration": 4,
    "start_time": "2022-11-23T08:04:21.818Z"
   },
   {
    "duration": 4,
    "start_time": "2022-11-23T08:04:36.827Z"
   },
   {
    "duration": 3,
    "start_time": "2022-11-23T08:04:50.808Z"
   },
   {
    "duration": 127,
    "start_time": "2022-11-23T08:04:50.815Z"
   },
   {
    "duration": 153,
    "start_time": "2022-11-23T08:04:50.944Z"
   },
   {
    "duration": 104,
    "start_time": "2022-11-23T08:04:51.099Z"
   },
   {
    "duration": 3,
    "start_time": "2022-11-23T08:04:51.205Z"
   },
   {
    "duration": 21,
    "start_time": "2022-11-23T08:04:51.210Z"
   },
   {
    "duration": 125,
    "start_time": "2022-11-23T08:04:51.232Z"
   },
   {
    "duration": 5,
    "start_time": "2022-11-23T08:04:51.358Z"
   },
   {
    "duration": 5,
    "start_time": "2022-11-23T08:05:23.178Z"
   },
   {
    "duration": 116,
    "start_time": "2022-11-23T08:05:43.051Z"
   },
   {
    "duration": 3,
    "start_time": "2022-11-23T08:05:46.723Z"
   },
   {
    "duration": 141,
    "start_time": "2022-11-23T08:05:54.267Z"
   },
   {
    "duration": 139,
    "start_time": "2022-11-23T08:05:59.995Z"
   },
   {
    "duration": 136,
    "start_time": "2022-11-23T08:06:01.950Z"
   },
   {
    "duration": 2,
    "start_time": "2022-11-23T08:06:11.843Z"
   },
   {
    "duration": 79,
    "start_time": "2022-11-23T08:06:11.848Z"
   },
   {
    "duration": 65,
    "start_time": "2022-11-23T08:06:11.929Z"
   },
   {
    "duration": 74,
    "start_time": "2022-11-23T08:06:11.995Z"
   },
   {
    "duration": 3,
    "start_time": "2022-11-23T08:06:12.072Z"
   },
   {
    "duration": 19,
    "start_time": "2022-11-23T08:06:12.077Z"
   },
   {
    "duration": 161,
    "start_time": "2022-11-23T08:06:12.098Z"
   },
   {
    "duration": 4,
    "start_time": "2022-11-23T08:06:12.261Z"
   },
   {
    "duration": 147,
    "start_time": "2022-11-23T08:07:20.097Z"
   },
   {
    "duration": 133,
    "start_time": "2022-11-23T08:07:29.530Z"
   },
   {
    "duration": 139,
    "start_time": "2022-11-23T08:07:39.804Z"
   },
   {
    "duration": 229,
    "start_time": "2022-11-23T08:07:46.659Z"
   },
   {
    "duration": 124,
    "start_time": "2022-11-23T08:07:55.955Z"
   },
   {
    "duration": 112,
    "start_time": "2022-11-23T08:08:05.116Z"
   },
   {
    "duration": 145,
    "start_time": "2022-11-23T08:08:10.403Z"
   },
   {
    "duration": 145,
    "start_time": "2022-11-23T08:08:18.603Z"
   },
   {
    "duration": 5,
    "start_time": "2022-11-23T08:08:21.898Z"
   },
   {
    "duration": 4,
    "start_time": "2022-11-23T08:09:08.922Z"
   },
   {
    "duration": 9,
    "start_time": "2022-11-23T08:09:24.267Z"
   },
   {
    "duration": 4,
    "start_time": "2022-11-23T08:09:38.138Z"
   },
   {
    "duration": 113,
    "start_time": "2022-11-23T08:11:49.588Z"
   },
   {
    "duration": 117,
    "start_time": "2022-11-23T08:12:03.330Z"
   },
   {
    "duration": 4,
    "start_time": "2022-11-23T08:12:38.076Z"
   },
   {
    "duration": 87,
    "start_time": "2022-11-23T08:12:38.082Z"
   },
   {
    "duration": 89,
    "start_time": "2022-11-23T08:12:38.172Z"
   },
   {
    "duration": 69,
    "start_time": "2022-11-23T08:12:38.263Z"
   },
   {
    "duration": 5,
    "start_time": "2022-11-23T08:12:38.334Z"
   },
   {
    "duration": 10,
    "start_time": "2022-11-23T08:12:38.340Z"
   },
   {
    "duration": 145,
    "start_time": "2022-11-23T08:12:38.351Z"
   },
   {
    "duration": 3,
    "start_time": "2022-11-23T08:12:38.498Z"
   },
   {
    "duration": 4,
    "start_time": "2022-11-23T08:12:38.513Z"
   },
   {
    "duration": 142,
    "start_time": "2022-11-23T08:12:38.518Z"
   },
   {
    "duration": 4,
    "start_time": "2022-11-23T08:14:00.195Z"
   },
   {
    "duration": 7,
    "start_time": "2022-11-23T08:14:16.531Z"
   },
   {
    "duration": 6,
    "start_time": "2022-11-23T08:27:07.094Z"
   },
   {
    "duration": 10,
    "start_time": "2022-11-23T08:27:18.643Z"
   },
   {
    "duration": 13,
    "start_time": "2022-11-23T08:27:36.542Z"
   },
   {
    "duration": 11,
    "start_time": "2022-11-23T08:27:40.692Z"
   },
   {
    "duration": 18,
    "start_time": "2022-11-23T08:28:36.374Z"
   },
   {
    "duration": 14,
    "start_time": "2022-11-23T08:28:49.515Z"
   },
   {
    "duration": 14,
    "start_time": "2022-11-23T08:29:30.444Z"
   },
   {
    "duration": 10,
    "start_time": "2022-11-23T09:08:17.065Z"
   },
   {
    "duration": 10,
    "start_time": "2022-11-23T09:08:24.961Z"
   },
   {
    "duration": 12,
    "start_time": "2022-11-23T09:08:38.040Z"
   },
   {
    "duration": 29,
    "start_time": "2022-11-23T09:19:29.181Z"
   },
   {
    "duration": 193,
    "start_time": "2022-11-23T09:20:17.102Z"
   },
   {
    "duration": 296,
    "start_time": "2022-11-23T09:28:00.557Z"
   },
   {
    "duration": 297,
    "start_time": "2022-11-23T09:28:11.517Z"
   },
   {
    "duration": 323,
    "start_time": "2022-11-23T09:28:20.318Z"
   },
   {
    "duration": 134,
    "start_time": "2022-11-23T09:28:54.324Z"
   },
   {
    "duration": 12,
    "start_time": "2022-11-23T09:30:22.656Z"
   },
   {
    "duration": 319,
    "start_time": "2022-11-23T09:30:41.144Z"
   },
   {
    "duration": 181,
    "start_time": "2022-11-23T09:30:43.977Z"
   },
   {
    "duration": 164,
    "start_time": "2022-11-23T09:31:01.797Z"
   },
   {
    "duration": 261,
    "start_time": "2022-11-23T09:31:18.398Z"
   },
   {
    "duration": 177,
    "start_time": "2022-11-23T09:31:29.840Z"
   },
   {
    "duration": 183,
    "start_time": "2022-11-23T09:31:34.902Z"
   },
   {
    "duration": 152,
    "start_time": "2022-11-23T09:31:52.749Z"
   },
   {
    "duration": 156,
    "start_time": "2022-11-23T09:32:05.616Z"
   },
   {
    "duration": 196,
    "start_time": "2022-11-23T09:33:14.600Z"
   },
   {
    "duration": 173,
    "start_time": "2022-11-23T09:33:23.048Z"
   },
   {
    "duration": 172,
    "start_time": "2022-11-23T09:33:39.022Z"
   },
   {
    "duration": 190,
    "start_time": "2022-11-23T09:34:30.766Z"
   },
   {
    "duration": 315,
    "start_time": "2022-11-23T09:36:42.462Z"
   },
   {
    "duration": 247,
    "start_time": "2022-11-23T09:37:26.427Z"
   },
   {
    "duration": 233,
    "start_time": "2022-11-23T09:40:54.095Z"
   },
   {
    "duration": 211,
    "start_time": "2022-11-23T09:41:51.705Z"
   },
   {
    "duration": 203,
    "start_time": "2022-11-23T09:43:19.218Z"
   },
   {
    "duration": 212,
    "start_time": "2022-11-23T09:43:34.119Z"
   },
   {
    "duration": 203,
    "start_time": "2022-11-23T09:43:43.718Z"
   },
   {
    "duration": 221,
    "start_time": "2022-11-23T09:43:48.327Z"
   },
   {
    "duration": 312,
    "start_time": "2022-11-23T09:44:10.656Z"
   },
   {
    "duration": 213,
    "start_time": "2022-11-23T09:44:12.215Z"
   },
   {
    "duration": 345,
    "start_time": "2022-11-23T09:44:14.576Z"
   },
   {
    "duration": 226,
    "start_time": "2022-11-23T09:44:17.295Z"
   },
   {
    "duration": 3,
    "start_time": "2022-11-23T09:44:46.982Z"
   },
   {
    "duration": 121,
    "start_time": "2022-11-23T09:44:46.987Z"
   },
   {
    "duration": 110,
    "start_time": "2022-11-23T09:44:47.109Z"
   },
   {
    "duration": 98,
    "start_time": "2022-11-23T09:44:47.221Z"
   },
   {
    "duration": 4,
    "start_time": "2022-11-23T09:44:47.321Z"
   },
   {
    "duration": 11,
    "start_time": "2022-11-23T09:44:47.326Z"
   },
   {
    "duration": 136,
    "start_time": "2022-11-23T09:44:47.338Z"
   },
   {
    "duration": 3,
    "start_time": "2022-11-23T09:44:47.475Z"
   },
   {
    "duration": 4,
    "start_time": "2022-11-23T09:44:47.480Z"
   },
   {
    "duration": 134,
    "start_time": "2022-11-23T09:44:47.486Z"
   },
   {
    "duration": 5,
    "start_time": "2022-11-23T09:44:47.622Z"
   },
   {
    "duration": 13,
    "start_time": "2022-11-23T09:44:47.628Z"
   },
   {
    "duration": 12,
    "start_time": "2022-11-23T09:44:47.643Z"
   },
   {
    "duration": 331,
    "start_time": "2022-11-23T09:44:47.657Z"
   },
   {
    "duration": 223,
    "start_time": "2022-11-23T09:44:47.989Z"
   },
   {
    "duration": 214,
    "start_time": "2022-11-23T09:44:48.214Z"
   },
   {
    "duration": 13,
    "start_time": "2022-11-23T09:53:44.952Z"
   },
   {
    "duration": 52,
    "start_time": "2022-11-23T09:55:21.802Z"
   },
   {
    "duration": 281,
    "start_time": "2022-11-23T09:55:45.257Z"
   },
   {
    "duration": 293,
    "start_time": "2022-11-23T09:56:15.138Z"
   },
   {
    "duration": 292,
    "start_time": "2022-11-23T09:56:26.539Z"
   },
   {
    "duration": 294,
    "start_time": "2022-11-23T09:56:34.850Z"
   },
   {
    "duration": 323,
    "start_time": "2022-11-23T10:44:52.785Z"
   },
   {
    "duration": 289,
    "start_time": "2022-11-23T10:44:57.143Z"
   },
   {
    "duration": 201,
    "start_time": "2022-11-23T11:36:37.655Z"
   },
   {
    "duration": 212,
    "start_time": "2022-11-23T11:36:51.254Z"
   },
   {
    "duration": 216,
    "start_time": "2022-11-23T11:36:55.436Z"
   },
   {
    "duration": 211,
    "start_time": "2022-11-23T11:38:54.854Z"
   },
   {
    "duration": 345,
    "start_time": "2022-11-23T11:39:16.600Z"
   },
   {
    "duration": 70,
    "start_time": "2022-11-23T11:39:37.262Z"
   },
   {
    "duration": 341,
    "start_time": "2022-11-23T11:39:42.918Z"
   },
   {
    "duration": 15,
    "start_time": "2022-11-23T11:42:56.629Z"
   },
   {
    "duration": 12,
    "start_time": "2022-11-23T11:43:02.894Z"
   },
   {
    "duration": 139,
    "start_time": "2022-11-23T11:43:15.104Z"
   },
   {
    "duration": 11,
    "start_time": "2022-11-23T12:44:53.572Z"
   },
   {
    "duration": 12,
    "start_time": "2022-11-23T12:45:37.380Z"
   },
   {
    "duration": 9,
    "start_time": "2022-11-23T12:45:41.172Z"
   },
   {
    "duration": 5,
    "start_time": "2022-11-23T12:57:23.277Z"
   },
   {
    "duration": 10,
    "start_time": "2022-11-23T12:58:14.533Z"
   },
   {
    "duration": 9,
    "start_time": "2022-11-23T12:58:46.599Z"
   },
   {
    "duration": 8,
    "start_time": "2022-11-23T12:59:05.855Z"
   },
   {
    "duration": 11,
    "start_time": "2022-11-23T12:59:16.622Z"
   },
   {
    "duration": 14,
    "start_time": "2022-11-23T12:59:37.477Z"
   },
   {
    "duration": 104,
    "start_time": "2022-11-23T13:01:15.077Z"
   },
   {
    "duration": 14,
    "start_time": "2022-11-23T13:01:20.701Z"
   },
   {
    "duration": 15,
    "start_time": "2022-11-23T13:01:30.495Z"
   },
   {
    "duration": 20,
    "start_time": "2022-11-23T13:02:00.302Z"
   },
   {
    "duration": 345,
    "start_time": "2022-11-23T13:05:14.895Z"
   },
   {
    "duration": 52,
    "start_time": "2022-11-23T13:05:28.787Z"
   },
   {
    "duration": 19,
    "start_time": "2022-11-23T13:05:32.763Z"
   },
   {
    "duration": 222,
    "start_time": "2022-11-23T13:05:36.199Z"
   },
   {
    "duration": 16,
    "start_time": "2022-11-23T13:05:46.320Z"
   },
   {
    "duration": 14,
    "start_time": "2022-11-23T13:05:50.022Z"
   },
   {
    "duration": 1051,
    "start_time": "2022-11-23T13:08:03.720Z"
   },
   {
    "duration": 3,
    "start_time": "2022-11-23T13:08:23.259Z"
   },
   {
    "duration": 164,
    "start_time": "2022-11-23T13:08:23.265Z"
   },
   {
    "duration": 228,
    "start_time": "2022-11-23T13:08:23.432Z"
   },
   {
    "duration": 165,
    "start_time": "2022-11-23T13:08:23.662Z"
   },
   {
    "duration": 10,
    "start_time": "2022-11-23T13:08:23.830Z"
   },
   {
    "duration": 22,
    "start_time": "2022-11-23T13:08:23.843Z"
   },
   {
    "duration": 156,
    "start_time": "2022-11-23T13:08:23.867Z"
   },
   {
    "duration": 4,
    "start_time": "2022-11-23T13:08:24.025Z"
   },
   {
    "duration": 26,
    "start_time": "2022-11-23T13:08:24.031Z"
   },
   {
    "duration": 145,
    "start_time": "2022-11-23T13:08:24.060Z"
   },
   {
    "duration": 7,
    "start_time": "2022-11-23T13:08:24.216Z"
   },
   {
    "duration": 39,
    "start_time": "2022-11-23T13:08:24.225Z"
   },
   {
    "duration": 39,
    "start_time": "2022-11-23T13:08:24.266Z"
   },
   {
    "duration": 28,
    "start_time": "2022-11-23T13:08:24.307Z"
   },
   {
    "duration": 338,
    "start_time": "2022-11-23T13:08:24.337Z"
   },
   {
    "duration": 239,
    "start_time": "2022-11-23T13:08:24.677Z"
   },
   {
    "duration": 240,
    "start_time": "2022-11-23T13:08:24.918Z"
   },
   {
    "duration": 336,
    "start_time": "2022-11-23T13:08:25.160Z"
   },
   {
    "duration": 883,
    "start_time": "2022-11-23T13:08:25.498Z"
   },
   {
    "duration": 0,
    "start_time": "2022-11-23T13:08:26.383Z"
   },
   {
    "duration": 0,
    "start_time": "2022-11-23T13:08:26.384Z"
   },
   {
    "duration": 215,
    "start_time": "2022-11-23T13:09:27.015Z"
   },
   {
    "duration": 214,
    "start_time": "2022-11-23T13:09:29.494Z"
   },
   {
    "duration": 323,
    "start_time": "2022-11-23T13:09:32.111Z"
   },
   {
    "duration": 233,
    "start_time": "2022-11-23T13:09:34.464Z"
   },
   {
    "duration": 279,
    "start_time": "2022-11-23T13:17:31.239Z"
   },
   {
    "duration": 183,
    "start_time": "2022-11-23T13:18:38.996Z"
   },
   {
    "duration": 176,
    "start_time": "2022-11-23T13:19:00.240Z"
   },
   {
    "duration": 182,
    "start_time": "2022-11-23T13:21:09.723Z"
   },
   {
    "duration": 315,
    "start_time": "2022-11-23T13:21:34.417Z"
   },
   {
    "duration": 184,
    "start_time": "2022-11-23T13:21:59.580Z"
   },
   {
    "duration": 229,
    "start_time": "2022-11-23T13:24:15.618Z"
   },
   {
    "duration": 322,
    "start_time": "2022-11-23T14:26:13.128Z"
   },
   {
    "duration": 12,
    "start_time": "2022-11-23T14:26:16.776Z"
   },
   {
    "duration": 11,
    "start_time": "2022-11-23T14:26:33.209Z"
   },
   {
    "duration": 12,
    "start_time": "2022-11-23T14:26:45.090Z"
   },
   {
    "duration": 9,
    "start_time": "2022-11-23T14:27:04.681Z"
   },
   {
    "duration": 267,
    "start_time": "2022-11-23T14:28:16.882Z"
   },
   {
    "duration": 46,
    "start_time": "2022-11-23T14:30:13.841Z"
   },
   {
    "duration": 320,
    "start_time": "2022-11-23T14:30:17.986Z"
   },
   {
    "duration": 5,
    "start_time": "2022-11-23T14:32:45.950Z"
   },
   {
    "duration": 317,
    "start_time": "2022-11-23T14:33:01.697Z"
   },
   {
    "duration": 11,
    "start_time": "2022-11-23T14:33:43.449Z"
   },
   {
    "duration": 12,
    "start_time": "2022-11-23T14:33:51.413Z"
   },
   {
    "duration": 13,
    "start_time": "2022-11-23T14:34:01.763Z"
   },
   {
    "duration": 297,
    "start_time": "2022-11-23T14:34:29.229Z"
   },
   {
    "duration": 16,
    "start_time": "2022-11-23T14:34:41.203Z"
   },
   {
    "duration": 13,
    "start_time": "2022-11-23T14:35:17.771Z"
   },
   {
    "duration": 236,
    "start_time": "2022-11-23T14:36:02.056Z"
   },
   {
    "duration": 1248,
    "start_time": "2022-11-24T11:53:26.425Z"
   },
   {
    "duration": 271,
    "start_time": "2022-11-24T11:53:27.675Z"
   },
   {
    "duration": 68,
    "start_time": "2022-11-24T11:53:27.947Z"
   },
   {
    "duration": 884,
    "start_time": "2022-11-24T11:53:28.017Z"
   },
   {
    "duration": 4,
    "start_time": "2022-11-24T11:53:28.902Z"
   },
   {
    "duration": 11,
    "start_time": "2022-11-24T11:53:28.907Z"
   },
   {
    "duration": 125,
    "start_time": "2022-11-24T11:53:28.920Z"
   },
   {
    "duration": 3,
    "start_time": "2022-11-24T11:53:29.047Z"
   },
   {
    "duration": 8,
    "start_time": "2022-11-24T11:53:29.051Z"
   },
   {
    "duration": 115,
    "start_time": "2022-11-24T11:53:29.061Z"
   },
   {
    "duration": 4,
    "start_time": "2022-11-24T11:53:29.178Z"
   },
   {
    "duration": 15,
    "start_time": "2022-11-24T11:53:29.183Z"
   },
   {
    "duration": 22,
    "start_time": "2022-11-24T11:53:29.200Z"
   },
   {
    "duration": 13,
    "start_time": "2022-11-24T11:53:29.223Z"
   },
   {
    "duration": 281,
    "start_time": "2022-11-24T11:53:29.237Z"
   },
   {
    "duration": 254,
    "start_time": "2022-11-24T11:53:29.520Z"
   },
   {
    "duration": 208,
    "start_time": "2022-11-24T11:53:29.776Z"
   },
   {
    "duration": 849,
    "start_time": "2022-11-24T11:53:29.985Z"
   },
   {
    "duration": 0,
    "start_time": "2022-11-24T11:53:30.835Z"
   },
   {
    "duration": 0,
    "start_time": "2022-11-24T11:53:30.837Z"
   },
   {
    "duration": 0,
    "start_time": "2022-11-24T11:53:30.838Z"
   },
   {
    "duration": 9,
    "start_time": "2022-11-24T11:56:29.871Z"
   },
   {
    "duration": 728,
    "start_time": "2022-11-24T11:56:36.984Z"
   },
   {
    "duration": 9,
    "start_time": "2022-11-24T11:57:37.034Z"
   },
   {
    "duration": 813,
    "start_time": "2022-11-24T11:57:41.862Z"
   },
   {
    "duration": 303,
    "start_time": "2022-11-24T11:59:29.455Z"
   },
   {
    "duration": 10,
    "start_time": "2022-11-24T11:59:33.013Z"
   },
   {
    "duration": 264,
    "start_time": "2022-11-24T12:00:19.119Z"
   },
   {
    "duration": 200,
    "start_time": "2022-11-24T12:00:29.301Z"
   },
   {
    "duration": 11,
    "start_time": "2022-11-24T12:00:52.028Z"
   },
   {
    "duration": 8,
    "start_time": "2022-11-24T12:00:54.405Z"
   },
   {
    "duration": 255,
    "start_time": "2022-11-24T12:27:00.260Z"
   },
   {
    "duration": 292,
    "start_time": "2022-11-24T12:27:17.987Z"
   },
   {
    "duration": 311,
    "start_time": "2022-11-24T12:27:26.602Z"
   },
   {
    "duration": 14,
    "start_time": "2022-11-24T12:28:09.230Z"
   },
   {
    "duration": 14,
    "start_time": "2022-11-24T12:28:28.259Z"
   },
   {
    "duration": 3,
    "start_time": "2022-11-24T12:28:41.305Z"
   },
   {
    "duration": 77,
    "start_time": "2022-11-24T12:28:41.310Z"
   },
   {
    "duration": 66,
    "start_time": "2022-11-24T12:28:41.389Z"
   },
   {
    "duration": 76,
    "start_time": "2022-11-24T12:28:41.457Z"
   },
   {
    "duration": 4,
    "start_time": "2022-11-24T12:28:41.535Z"
   },
   {
    "duration": 13,
    "start_time": "2022-11-24T12:28:41.541Z"
   },
   {
    "duration": 126,
    "start_time": "2022-11-24T12:28:41.556Z"
   },
   {
    "duration": 3,
    "start_time": "2022-11-24T12:28:41.684Z"
   },
   {
    "duration": 8,
    "start_time": "2022-11-24T12:28:41.688Z"
   },
   {
    "duration": 112,
    "start_time": "2022-11-24T12:28:41.699Z"
   },
   {
    "duration": 11,
    "start_time": "2022-11-24T12:28:41.813Z"
   },
   {
    "duration": 16,
    "start_time": "2022-11-24T12:28:41.825Z"
   },
   {
    "duration": 17,
    "start_time": "2022-11-24T12:28:41.843Z"
   },
   {
    "duration": 15,
    "start_time": "2022-11-24T12:28:41.862Z"
   },
   {
    "duration": 295,
    "start_time": "2022-11-24T12:28:41.879Z"
   },
   {
    "duration": 211,
    "start_time": "2022-11-24T12:28:42.176Z"
   },
   {
    "duration": 200,
    "start_time": "2022-11-24T12:28:42.388Z"
   },
   {
    "duration": 43,
    "start_time": "2022-11-24T12:28:42.590Z"
   },
   {
    "duration": 0,
    "start_time": "2022-11-24T12:28:42.634Z"
   },
   {
    "duration": 0,
    "start_time": "2022-11-24T12:28:42.635Z"
   },
   {
    "duration": 0,
    "start_time": "2022-11-24T12:28:42.637Z"
   },
   {
    "duration": 0,
    "start_time": "2022-11-24T12:28:42.638Z"
   },
   {
    "duration": 0,
    "start_time": "2022-11-24T12:28:42.639Z"
   },
   {
    "duration": 275,
    "start_time": "2022-11-24T12:28:56.766Z"
   },
   {
    "duration": 9,
    "start_time": "2022-11-24T12:28:58.826Z"
   },
   {
    "duration": 9,
    "start_time": "2022-11-24T12:29:00.306Z"
   },
   {
    "duration": 224,
    "start_time": "2022-11-24T12:29:01.810Z"
   },
   {
    "duration": 14,
    "start_time": "2022-11-24T12:29:05.539Z"
   },
   {
    "duration": 17,
    "start_time": "2022-11-24T12:29:31.450Z"
   },
   {
    "duration": 16,
    "start_time": "2022-11-24T12:29:50.466Z"
   },
   {
    "duration": 372,
    "start_time": "2022-11-24T12:30:07.611Z"
   },
   {
    "duration": 310,
    "start_time": "2022-11-24T12:30:13.939Z"
   },
   {
    "duration": 338,
    "start_time": "2022-11-24T12:30:21.906Z"
   },
   {
    "duration": 312,
    "start_time": "2022-11-24T12:30:25.169Z"
   },
   {
    "duration": 2,
    "start_time": "2022-11-24T12:34:35.247Z"
   },
   {
    "duration": 117,
    "start_time": "2022-11-24T12:34:35.252Z"
   },
   {
    "duration": 144,
    "start_time": "2022-11-24T12:34:35.372Z"
   },
   {
    "duration": 96,
    "start_time": "2022-11-24T12:34:35.518Z"
   },
   {
    "duration": 3,
    "start_time": "2022-11-24T12:34:35.616Z"
   },
   {
    "duration": 16,
    "start_time": "2022-11-24T12:34:35.621Z"
   },
   {
    "duration": 6,
    "start_time": "2022-11-24T12:34:35.639Z"
   },
   {
    "duration": 20,
    "start_time": "2022-11-24T12:34:35.647Z"
   },
   {
    "duration": 14,
    "start_time": "2022-11-24T12:34:35.669Z"
   },
   {
    "duration": 29,
    "start_time": "2022-11-24T12:34:35.685Z"
   },
   {
    "duration": 266,
    "start_time": "2022-11-24T12:34:35.717Z"
   },
   {
    "duration": 199,
    "start_time": "2022-11-24T12:34:35.985Z"
   },
   {
    "duration": 205,
    "start_time": "2022-11-24T12:34:36.186Z"
   },
   {
    "duration": 357,
    "start_time": "2022-11-24T12:34:36.392Z"
   },
   {
    "duration": 10,
    "start_time": "2022-11-24T12:34:36.750Z"
   },
   {
    "duration": 30,
    "start_time": "2022-11-24T12:34:36.761Z"
   },
   {
    "duration": 198,
    "start_time": "2022-11-24T12:34:36.792Z"
   },
   {
    "duration": 336,
    "start_time": "2022-11-24T12:34:36.991Z"
   },
   {
    "duration": 130,
    "start_time": "2022-11-24T12:34:37.329Z"
   },
   {
    "duration": 3,
    "start_time": "2022-11-24T12:34:37.460Z"
   },
   {
    "duration": 192,
    "start_time": "2022-11-24T12:34:37.465Z"
   },
   {
    "duration": 6,
    "start_time": "2022-11-24T12:34:37.659Z"
   },
   {
    "duration": 98,
    "start_time": "2022-11-24T12:37:21.612Z"
   },
   {
    "duration": 3,
    "start_time": "2022-11-24T12:37:29.868Z"
   },
   {
    "duration": 5,
    "start_time": "2022-11-24T12:38:03.932Z"
   },
   {
    "duration": 61,
    "start_time": "2022-11-24T12:39:27.108Z"
   },
   {
    "duration": 14,
    "start_time": "2022-11-24T12:39:34.370Z"
   },
   {
    "duration": 13,
    "start_time": "2022-11-24T12:39:50.451Z"
   },
   {
    "duration": 12,
    "start_time": "2022-11-24T12:40:22.220Z"
   },
   {
    "duration": 13,
    "start_time": "2022-11-24T12:40:32.011Z"
   },
   {
    "duration": 105,
    "start_time": "2022-11-24T12:40:43.692Z"
   },
   {
    "duration": 81,
    "start_time": "2022-11-24T12:40:57.716Z"
   },
   {
    "duration": 86,
    "start_time": "2022-11-24T12:41:14.051Z"
   },
   {
    "duration": 91,
    "start_time": "2022-11-24T12:41:21.282Z"
   },
   {
    "duration": 95,
    "start_time": "2022-11-24T12:41:42.250Z"
   },
   {
    "duration": 736,
    "start_time": "2022-11-24T12:50:37.291Z"
   },
   {
    "duration": 98,
    "start_time": "2022-11-24T12:50:50.741Z"
   },
   {
    "duration": 99,
    "start_time": "2022-11-24T12:51:32.356Z"
   },
   {
    "duration": 103,
    "start_time": "2022-11-24T12:51:37.540Z"
   },
   {
    "duration": 95,
    "start_time": "2022-11-24T12:51:47.356Z"
   },
   {
    "duration": 5,
    "start_time": "2022-11-24T12:54:07.465Z"
   },
   {
    "duration": 94,
    "start_time": "2022-11-24T12:55:56.714Z"
   },
   {
    "duration": 113,
    "start_time": "2022-11-24T12:56:42.577Z"
   },
   {
    "duration": 201,
    "start_time": "2022-11-24T12:57:29.952Z"
   },
   {
    "duration": 96,
    "start_time": "2022-11-24T12:57:39.208Z"
   },
   {
    "duration": 6,
    "start_time": "2022-11-24T14:08:04.850Z"
   },
   {
    "duration": 11,
    "start_time": "2022-11-24T14:24:52.907Z"
   },
   {
    "duration": 23,
    "start_time": "2022-11-24T14:27:26.017Z"
   },
   {
    "duration": 3,
    "start_time": "2022-11-24T14:27:55.289Z"
   },
   {
    "duration": 357,
    "start_time": "2022-11-24T14:28:06.937Z"
   },
   {
    "duration": 330,
    "start_time": "2022-11-24T14:30:19.887Z"
   },
   {
    "duration": 340,
    "start_time": "2022-11-24T14:30:33.158Z"
   },
   {
    "duration": 344,
    "start_time": "2022-11-24T14:30:41.975Z"
   },
   {
    "duration": 339,
    "start_time": "2022-11-24T14:32:14.622Z"
   },
   {
    "duration": 343,
    "start_time": "2022-11-24T14:32:22.478Z"
   },
   {
    "duration": 331,
    "start_time": "2022-11-24T14:32:34.841Z"
   },
   {
    "duration": 339,
    "start_time": "2022-11-24T14:33:10.245Z"
   },
   {
    "duration": 10,
    "start_time": "2022-11-24T14:33:39.725Z"
   },
   {
    "duration": 8,
    "start_time": "2022-11-24T14:35:10.852Z"
   },
   {
    "duration": 6,
    "start_time": "2022-11-24T14:35:48.515Z"
   },
   {
    "duration": 10,
    "start_time": "2022-11-24T14:40:46.568Z"
   },
   {
    "duration": 8,
    "start_time": "2022-11-24T14:41:39.184Z"
   },
   {
    "duration": 9,
    "start_time": "2022-11-24T14:44:30.432Z"
   },
   {
    "duration": 8,
    "start_time": "2022-11-24T14:44:36.886Z"
   },
   {
    "duration": 4,
    "start_time": "2022-11-24T14:44:49.959Z"
   },
   {
    "duration": 53,
    "start_time": "2022-11-24T14:45:07.341Z"
   },
   {
    "duration": 6,
    "start_time": "2022-11-24T14:45:09.214Z"
   },
   {
    "duration": 6,
    "start_time": "2022-11-24T14:53:20.264Z"
   },
   {
    "duration": 333,
    "start_time": "2022-11-24T14:55:23.047Z"
   },
   {
    "duration": 729,
    "start_time": "2022-11-24T14:58:56.421Z"
   },
   {
    "duration": 6,
    "start_time": "2022-11-24T14:59:03.620Z"
   },
   {
    "duration": 9,
    "start_time": "2022-11-24T14:59:07.069Z"
   },
   {
    "duration": 11,
    "start_time": "2022-11-24T14:59:17.899Z"
   },
   {
    "duration": 13,
    "start_time": "2022-11-24T14:59:27.741Z"
   },
   {
    "duration": 603,
    "start_time": "2022-11-24T15:02:07.274Z"
   },
   {
    "duration": 614,
    "start_time": "2022-11-24T15:03:10.962Z"
   },
   {
    "duration": 7,
    "start_time": "2022-11-24T15:09:22.382Z"
   },
   {
    "duration": 602,
    "start_time": "2022-11-24T15:10:47.014Z"
   },
   {
    "duration": 3,
    "start_time": "2022-11-24T15:10:53.346Z"
   },
   {
    "duration": 70,
    "start_time": "2022-11-24T15:10:53.350Z"
   },
   {
    "duration": 76,
    "start_time": "2022-11-24T15:10:53.421Z"
   },
   {
    "duration": 125,
    "start_time": "2022-11-24T15:10:53.499Z"
   },
   {
    "duration": 3,
    "start_time": "2022-11-24T15:10:53.626Z"
   },
   {
    "duration": 9,
    "start_time": "2022-11-24T15:10:53.631Z"
   },
   {
    "duration": 13,
    "start_time": "2022-11-24T15:10:53.641Z"
   },
   {
    "duration": 21,
    "start_time": "2022-11-24T15:10:53.656Z"
   },
   {
    "duration": 10,
    "start_time": "2022-11-24T15:10:53.678Z"
   },
   {
    "duration": 11,
    "start_time": "2022-11-24T15:10:53.690Z"
   },
   {
    "duration": 280,
    "start_time": "2022-11-24T15:10:53.702Z"
   },
   {
    "duration": 191,
    "start_time": "2022-11-24T15:10:53.983Z"
   },
   {
    "duration": 203,
    "start_time": "2022-11-24T15:10:54.175Z"
   },
   {
    "duration": 306,
    "start_time": "2022-11-24T15:10:54.380Z"
   },
   {
    "duration": 10,
    "start_time": "2022-11-24T15:10:54.687Z"
   },
   {
    "duration": 23,
    "start_time": "2022-11-24T15:10:54.699Z"
   },
   {
    "duration": 222,
    "start_time": "2022-11-24T15:10:54.724Z"
   },
   {
    "duration": 289,
    "start_time": "2022-11-24T15:10:54.948Z"
   },
   {
    "duration": 99,
    "start_time": "2022-11-24T15:10:55.238Z"
   },
   {
    "duration": 134,
    "start_time": "2022-11-24T15:10:55.339Z"
   },
   {
    "duration": 7,
    "start_time": "2022-11-24T15:10:55.475Z"
   },
   {
    "duration": 116,
    "start_time": "2022-11-24T15:10:55.484Z"
   },
   {
    "duration": 119,
    "start_time": "2022-11-24T15:10:55.602Z"
   },
   {
    "duration": 5,
    "start_time": "2022-11-24T15:10:55.722Z"
   },
   {
    "duration": 346,
    "start_time": "2022-11-24T15:10:55.728Z"
   },
   {
    "duration": 7,
    "start_time": "2022-11-24T15:10:56.076Z"
   },
   {
    "duration": 620,
    "start_time": "2022-11-24T15:10:56.085Z"
   },
   {
    "duration": 13,
    "start_time": "2022-11-24T15:10:56.709Z"
   },
   {
    "duration": 261,
    "start_time": "2022-11-24T15:17:04.082Z"
   },
   {
    "duration": 334,
    "start_time": "2022-11-24T15:17:33.738Z"
   },
   {
    "duration": 3,
    "start_time": "2022-11-24T15:17:37.475Z"
   },
   {
    "duration": 74,
    "start_time": "2022-11-24T15:17:37.480Z"
   },
   {
    "duration": 74,
    "start_time": "2022-11-24T15:17:37.555Z"
   },
   {
    "duration": 198,
    "start_time": "2022-11-24T15:17:37.631Z"
   },
   {
    "duration": 3,
    "start_time": "2022-11-24T15:17:37.830Z"
   },
   {
    "duration": 7,
    "start_time": "2022-11-24T15:17:37.835Z"
   },
   {
    "duration": 7,
    "start_time": "2022-11-24T15:17:37.843Z"
   },
   {
    "duration": 18,
    "start_time": "2022-11-24T15:17:37.851Z"
   },
   {
    "duration": 15,
    "start_time": "2022-11-24T15:17:37.871Z"
   },
   {
    "duration": 17,
    "start_time": "2022-11-24T15:17:37.888Z"
   },
   {
    "duration": 273,
    "start_time": "2022-11-24T15:17:37.907Z"
   },
   {
    "duration": 198,
    "start_time": "2022-11-24T15:17:38.182Z"
   },
   {
    "duration": 209,
    "start_time": "2022-11-24T15:17:38.382Z"
   },
   {
    "duration": 369,
    "start_time": "2022-11-24T15:17:38.593Z"
   },
   {
    "duration": 11,
    "start_time": "2022-11-24T15:17:38.963Z"
   },
   {
    "duration": 10,
    "start_time": "2022-11-24T15:17:38.975Z"
   },
   {
    "duration": 227,
    "start_time": "2022-11-24T15:17:38.987Z"
   },
   {
    "duration": 321,
    "start_time": "2022-11-24T15:17:39.221Z"
   },
   {
    "duration": 101,
    "start_time": "2022-11-24T15:17:39.543Z"
   },
   {
    "duration": 104,
    "start_time": "2022-11-24T15:17:39.645Z"
   },
   {
    "duration": 5,
    "start_time": "2022-11-24T15:17:39.751Z"
   },
   {
    "duration": 120,
    "start_time": "2022-11-24T15:17:39.757Z"
   },
   {
    "duration": 116,
    "start_time": "2022-11-24T15:17:39.879Z"
   },
   {
    "duration": 4,
    "start_time": "2022-11-24T15:17:39.998Z"
   },
   {
    "duration": 358,
    "start_time": "2022-11-24T15:17:40.003Z"
   },
   {
    "duration": 7,
    "start_time": "2022-11-24T15:17:40.363Z"
   },
   {
    "duration": 615,
    "start_time": "2022-11-24T15:17:40.372Z"
   },
   {
    "duration": 270,
    "start_time": "2022-11-24T15:17:40.989Z"
   },
   {
    "duration": 272,
    "start_time": "2022-11-24T15:17:58.217Z"
   },
   {
    "duration": 275,
    "start_time": "2022-11-24T15:19:46.001Z"
   },
   {
    "duration": 286,
    "start_time": "2022-11-24T15:24:30.117Z"
   },
   {
    "duration": 3,
    "start_time": "2022-11-24T15:26:31.106Z"
   },
   {
    "duration": 97,
    "start_time": "2022-11-24T15:26:31.111Z"
   },
   {
    "duration": 71,
    "start_time": "2022-11-24T15:26:31.209Z"
   },
   {
    "duration": 71,
    "start_time": "2022-11-24T15:26:31.282Z"
   },
   {
    "duration": 4,
    "start_time": "2022-11-24T15:26:31.355Z"
   },
   {
    "duration": 13,
    "start_time": "2022-11-24T15:26:31.360Z"
   },
   {
    "duration": 15,
    "start_time": "2022-11-24T15:26:31.374Z"
   },
   {
    "duration": 22,
    "start_time": "2022-11-24T15:26:31.390Z"
   },
   {
    "duration": 10,
    "start_time": "2022-11-24T15:26:31.414Z"
   },
   {
    "duration": 23,
    "start_time": "2022-11-24T15:26:31.426Z"
   },
   {
    "duration": 287,
    "start_time": "2022-11-24T15:26:31.450Z"
   },
   {
    "duration": 192,
    "start_time": "2022-11-24T15:26:31.739Z"
   },
   {
    "duration": 190,
    "start_time": "2022-11-24T15:26:31.933Z"
   },
   {
    "duration": 420,
    "start_time": "2022-11-24T15:26:32.125Z"
   },
   {
    "duration": 11,
    "start_time": "2022-11-24T15:26:32.547Z"
   },
   {
    "duration": 12,
    "start_time": "2022-11-24T15:26:32.559Z"
   },
   {
    "duration": 224,
    "start_time": "2022-11-24T15:26:32.573Z"
   },
   {
    "duration": 339,
    "start_time": "2022-11-24T15:26:32.799Z"
   },
   {
    "duration": 103,
    "start_time": "2022-11-24T15:26:33.139Z"
   },
   {
    "duration": 95,
    "start_time": "2022-11-24T15:26:33.244Z"
   },
   {
    "duration": 4,
    "start_time": "2022-11-24T15:26:33.341Z"
   },
   {
    "duration": 106,
    "start_time": "2022-11-24T15:26:33.347Z"
   },
   {
    "duration": 117,
    "start_time": "2022-11-24T15:26:33.454Z"
   },
   {
    "duration": 4,
    "start_time": "2022-11-24T15:26:33.574Z"
   },
   {
    "duration": 346,
    "start_time": "2022-11-24T15:26:33.579Z"
   },
   {
    "duration": 6,
    "start_time": "2022-11-24T15:26:33.927Z"
   },
   {
    "duration": 620,
    "start_time": "2022-11-24T15:26:33.934Z"
   },
   {
    "duration": 286,
    "start_time": "2022-11-24T15:26:34.556Z"
   },
   {
    "duration": 284,
    "start_time": "2022-11-24T15:28:45.826Z"
   },
   {
    "duration": 266,
    "start_time": "2022-11-24T15:28:56.723Z"
   },
   {
    "duration": 52,
    "start_time": "2022-11-25T06:28:06.470Z"
   },
   {
    "duration": 1344,
    "start_time": "2022-11-25T06:28:10.697Z"
   },
   {
    "duration": 115,
    "start_time": "2022-11-25T06:28:12.042Z"
   },
   {
    "duration": 105,
    "start_time": "2022-11-25T06:28:12.159Z"
   },
   {
    "duration": 86,
    "start_time": "2022-11-25T06:28:12.266Z"
   },
   {
    "duration": 4,
    "start_time": "2022-11-25T06:28:12.353Z"
   },
   {
    "duration": 13,
    "start_time": "2022-11-25T06:28:12.358Z"
   },
   {
    "duration": 8,
    "start_time": "2022-11-25T06:28:12.372Z"
   },
   {
    "duration": 16,
    "start_time": "2022-11-25T06:28:12.381Z"
   },
   {
    "duration": 15,
    "start_time": "2022-11-25T06:28:12.399Z"
   },
   {
    "duration": 18,
    "start_time": "2022-11-25T06:28:12.418Z"
   },
   {
    "duration": 310,
    "start_time": "2022-11-25T06:28:12.437Z"
   },
   {
    "duration": 297,
    "start_time": "2022-11-25T06:28:12.749Z"
   },
   {
    "duration": 218,
    "start_time": "2022-11-25T06:28:13.047Z"
   },
   {
    "duration": 407,
    "start_time": "2022-11-25T06:28:13.268Z"
   },
   {
    "duration": 12,
    "start_time": "2022-11-25T06:28:13.677Z"
   },
   {
    "duration": 26,
    "start_time": "2022-11-25T06:28:13.691Z"
   },
   {
    "duration": 242,
    "start_time": "2022-11-25T06:28:13.719Z"
   },
   {
    "duration": 88,
    "start_time": "2022-11-25T06:28:13.963Z"
   },
   {
    "duration": 0,
    "start_time": "2022-11-25T06:28:14.053Z"
   },
   {
    "duration": 0,
    "start_time": "2022-11-25T06:28:14.054Z"
   },
   {
    "duration": 0,
    "start_time": "2022-11-25T06:28:14.056Z"
   },
   {
    "duration": 0,
    "start_time": "2022-11-25T06:28:14.057Z"
   },
   {
    "duration": 0,
    "start_time": "2022-11-25T06:28:14.058Z"
   },
   {
    "duration": 0,
    "start_time": "2022-11-25T06:28:14.059Z"
   },
   {
    "duration": 0,
    "start_time": "2022-11-25T06:28:14.061Z"
   },
   {
    "duration": 0,
    "start_time": "2022-11-25T06:28:14.063Z"
   },
   {
    "duration": 0,
    "start_time": "2022-11-25T06:28:14.064Z"
   },
   {
    "duration": 0,
    "start_time": "2022-11-25T06:28:14.066Z"
   },
   {
    "duration": 3,
    "start_time": "2022-11-25T06:57:51.674Z"
   },
   {
    "duration": 82,
    "start_time": "2022-11-25T06:57:51.680Z"
   },
   {
    "duration": 74,
    "start_time": "2022-11-25T06:57:51.763Z"
   },
   {
    "duration": 75,
    "start_time": "2022-11-25T06:57:51.839Z"
   },
   {
    "duration": 4,
    "start_time": "2022-11-25T06:57:51.916Z"
   },
   {
    "duration": 12,
    "start_time": "2022-11-25T06:57:51.921Z"
   },
   {
    "duration": 18,
    "start_time": "2022-11-25T06:57:51.935Z"
   },
   {
    "duration": 16,
    "start_time": "2022-11-25T06:57:51.954Z"
   },
   {
    "duration": 10,
    "start_time": "2022-11-25T06:57:51.971Z"
   },
   {
    "duration": 11,
    "start_time": "2022-11-25T06:57:51.982Z"
   },
   {
    "duration": 298,
    "start_time": "2022-11-25T06:57:51.995Z"
   },
   {
    "duration": 242,
    "start_time": "2022-11-25T06:57:52.294Z"
   },
   {
    "duration": 207,
    "start_time": "2022-11-25T06:57:52.538Z"
   },
   {
    "duration": 296,
    "start_time": "2022-11-25T06:57:52.746Z"
   },
   {
    "duration": 211,
    "start_time": "2022-11-25T06:57:53.043Z"
   },
   {
    "duration": 13,
    "start_time": "2022-11-25T06:57:53.256Z"
   },
   {
    "duration": 0,
    "start_time": "2022-11-25T06:57:53.271Z"
   },
   {
    "duration": 0,
    "start_time": "2022-11-25T06:57:53.272Z"
   },
   {
    "duration": 0,
    "start_time": "2022-11-25T06:57:53.273Z"
   },
   {
    "duration": 0,
    "start_time": "2022-11-25T06:57:53.274Z"
   },
   {
    "duration": 0,
    "start_time": "2022-11-25T06:57:53.275Z"
   },
   {
    "duration": 0,
    "start_time": "2022-11-25T06:57:53.276Z"
   },
   {
    "duration": 1,
    "start_time": "2022-11-25T06:57:53.276Z"
   },
   {
    "duration": 0,
    "start_time": "2022-11-25T06:57:53.278Z"
   },
   {
    "duration": 0,
    "start_time": "2022-11-25T06:57:53.279Z"
   },
   {
    "duration": 0,
    "start_time": "2022-11-25T06:57:53.304Z"
   },
   {
    "duration": 372,
    "start_time": "2022-11-25T06:58:27.645Z"
   },
   {
    "duration": 3,
    "start_time": "2022-11-25T06:58:30.910Z"
   },
   {
    "duration": 112,
    "start_time": "2022-11-25T06:58:30.917Z"
   },
   {
    "duration": 93,
    "start_time": "2022-11-25T06:58:31.031Z"
   },
   {
    "duration": 88,
    "start_time": "2022-11-25T06:58:31.126Z"
   },
   {
    "duration": 14,
    "start_time": "2022-11-25T06:58:31.215Z"
   },
   {
    "duration": 120,
    "start_time": "2022-11-25T06:58:31.231Z"
   },
   {
    "duration": 34,
    "start_time": "2022-11-25T06:58:31.353Z"
   },
   {
    "duration": 34,
    "start_time": "2022-11-25T06:58:31.389Z"
   },
   {
    "duration": 13,
    "start_time": "2022-11-25T06:58:31.425Z"
   },
   {
    "duration": 25,
    "start_time": "2022-11-25T06:58:31.440Z"
   },
   {
    "duration": 289,
    "start_time": "2022-11-25T06:58:31.469Z"
   },
   {
    "duration": 203,
    "start_time": "2022-11-25T06:58:31.760Z"
   },
   {
    "duration": 214,
    "start_time": "2022-11-25T06:58:31.964Z"
   },
   {
    "duration": 439,
    "start_time": "2022-11-25T06:58:32.180Z"
   },
   {
    "duration": 275,
    "start_time": "2022-11-25T06:58:32.622Z"
   },
   {
    "duration": 345,
    "start_time": "2022-11-25T06:58:32.898Z"
   },
   {
    "duration": 105,
    "start_time": "2022-11-25T06:58:33.245Z"
   },
   {
    "duration": 106,
    "start_time": "2022-11-25T06:58:33.352Z"
   },
   {
    "duration": 5,
    "start_time": "2022-11-25T06:58:33.460Z"
   },
   {
    "duration": 112,
    "start_time": "2022-11-25T06:58:33.467Z"
   },
   {
    "duration": 143,
    "start_time": "2022-11-25T06:58:33.581Z"
   },
   {
    "duration": 6,
    "start_time": "2022-11-25T06:58:33.726Z"
   },
   {
    "duration": 448,
    "start_time": "2022-11-25T06:58:33.733Z"
   },
   {
    "duration": 6,
    "start_time": "2022-11-25T06:58:34.183Z"
   },
   {
    "duration": 701,
    "start_time": "2022-11-25T06:58:34.190Z"
   },
   {
    "duration": 314,
    "start_time": "2022-11-25T06:58:34.892Z"
   },
   {
    "duration": 333,
    "start_time": "2022-11-25T07:06:25.797Z"
   },
   {
    "duration": 218,
    "start_time": "2022-11-25T07:06:30.203Z"
   },
   {
    "duration": 319,
    "start_time": "2022-11-25T07:07:09.165Z"
   },
   {
    "duration": 315,
    "start_time": "2022-11-25T07:07:13.932Z"
   },
   {
    "duration": 346,
    "start_time": "2022-11-25T07:07:32.877Z"
   },
   {
    "duration": 14,
    "start_time": "2022-11-25T07:40:40.127Z"
   },
   {
    "duration": 12,
    "start_time": "2022-11-25T07:41:40.135Z"
   },
   {
    "duration": 11,
    "start_time": "2022-11-25T07:46:47.737Z"
   },
   {
    "duration": 77,
    "start_time": "2022-11-25T07:50:35.528Z"
   },
   {
    "duration": 17,
    "start_time": "2022-11-25T07:50:39.886Z"
   },
   {
    "duration": 17,
    "start_time": "2022-11-25T07:51:21.089Z"
   },
   {
    "duration": 52,
    "start_time": "2022-11-25T07:51:53.025Z"
   },
   {
    "duration": 1297,
    "start_time": "2022-11-25T07:52:10.619Z"
   },
   {
    "duration": 169,
    "start_time": "2022-11-25T07:52:11.921Z"
   },
   {
    "duration": 285,
    "start_time": "2022-11-25T07:52:12.091Z"
   },
   {
    "duration": 166,
    "start_time": "2022-11-25T07:52:12.378Z"
   },
   {
    "duration": 4,
    "start_time": "2022-11-25T07:52:12.546Z"
   },
   {
    "duration": 9,
    "start_time": "2022-11-25T07:52:12.552Z"
   },
   {
    "duration": 7,
    "start_time": "2022-11-25T07:52:12.562Z"
   },
   {
    "duration": 16,
    "start_time": "2022-11-25T07:52:12.571Z"
   },
   {
    "duration": 11,
    "start_time": "2022-11-25T07:52:12.589Z"
   },
   {
    "duration": 17,
    "start_time": "2022-11-25T07:52:12.606Z"
   },
   {
    "duration": 363,
    "start_time": "2022-11-25T07:52:12.627Z"
   },
   {
    "duration": 320,
    "start_time": "2022-11-25T07:52:12.992Z"
   },
   {
    "duration": 236,
    "start_time": "2022-11-25T07:52:13.314Z"
   },
   {
    "duration": 377,
    "start_time": "2022-11-25T07:52:13.552Z"
   },
   {
    "duration": 322,
    "start_time": "2022-11-25T07:52:13.931Z"
   },
   {
    "duration": 348,
    "start_time": "2022-11-25T07:52:14.256Z"
   },
   {
    "duration": 131,
    "start_time": "2022-11-25T07:52:14.607Z"
   },
   {
    "duration": 118,
    "start_time": "2022-11-25T07:52:14.739Z"
   },
   {
    "duration": 5,
    "start_time": "2022-11-25T07:52:14.858Z"
   },
   {
    "duration": 129,
    "start_time": "2022-11-25T07:52:14.865Z"
   },
   {
    "duration": 239,
    "start_time": "2022-11-25T07:52:14.996Z"
   },
   {
    "duration": 5,
    "start_time": "2022-11-25T07:52:15.237Z"
   },
   {
    "duration": 54,
    "start_time": "2022-11-25T07:52:35.954Z"
   },
   {
    "duration": 6,
    "start_time": "2022-11-25T07:59:47.648Z"
   },
   {
    "duration": 1208,
    "start_time": "2022-11-25T07:59:53.600Z"
   },
   {
    "duration": 121,
    "start_time": "2022-11-25T07:59:54.810Z"
   },
   {
    "duration": 102,
    "start_time": "2022-11-25T07:59:54.933Z"
   },
   {
    "duration": 86,
    "start_time": "2022-11-25T07:59:55.037Z"
   },
   {
    "duration": 5,
    "start_time": "2022-11-25T07:59:55.125Z"
   },
   {
    "duration": 20,
    "start_time": "2022-11-25T07:59:55.132Z"
   },
   {
    "duration": 31,
    "start_time": "2022-11-25T07:59:55.154Z"
   },
   {
    "duration": 60,
    "start_time": "2022-11-25T07:59:55.186Z"
   },
   {
    "duration": 21,
    "start_time": "2022-11-25T07:59:55.248Z"
   },
   {
    "duration": 42,
    "start_time": "2022-11-25T07:59:55.271Z"
   },
   {
    "duration": 367,
    "start_time": "2022-11-25T07:59:55.317Z"
   },
   {
    "duration": 323,
    "start_time": "2022-11-25T07:59:55.686Z"
   },
   {
    "duration": 244,
    "start_time": "2022-11-25T07:59:56.012Z"
   },
   {
    "duration": 384,
    "start_time": "2022-11-25T07:59:56.257Z"
   },
   {
    "duration": 280,
    "start_time": "2022-11-25T07:59:56.642Z"
   },
   {
    "duration": 351,
    "start_time": "2022-11-25T07:59:56.924Z"
   },
   {
    "duration": 159,
    "start_time": "2022-11-25T07:59:57.276Z"
   },
   {
    "duration": 138,
    "start_time": "2022-11-25T07:59:57.437Z"
   },
   {
    "duration": 6,
    "start_time": "2022-11-25T07:59:57.577Z"
   },
   {
    "duration": 153,
    "start_time": "2022-11-25T07:59:57.584Z"
   },
   {
    "duration": 202,
    "start_time": "2022-11-25T07:59:57.740Z"
   },
   {
    "duration": 5,
    "start_time": "2022-11-25T07:59:57.944Z"
   },
   {
    "duration": 1298,
    "start_time": "2022-11-25T08:00:13.631Z"
   },
   {
    "duration": 93,
    "start_time": "2022-11-25T08:00:14.931Z"
   },
   {
    "duration": 88,
    "start_time": "2022-11-25T08:00:15.026Z"
   },
   {
    "duration": 91,
    "start_time": "2022-11-25T08:00:15.116Z"
   },
   {
    "duration": 6,
    "start_time": "2022-11-25T08:00:15.208Z"
   },
   {
    "duration": 26,
    "start_time": "2022-11-25T08:00:15.216Z"
   },
   {
    "duration": 7,
    "start_time": "2022-11-25T08:00:15.243Z"
   },
   {
    "duration": 16,
    "start_time": "2022-11-25T08:00:15.251Z"
   },
   {
    "duration": 16,
    "start_time": "2022-11-25T08:00:15.269Z"
   },
   {
    "duration": 25,
    "start_time": "2022-11-25T08:00:15.305Z"
   },
   {
    "duration": 326,
    "start_time": "2022-11-25T08:00:15.333Z"
   },
   {
    "duration": 328,
    "start_time": "2022-11-25T08:00:15.661Z"
   },
   {
    "duration": 263,
    "start_time": "2022-11-25T08:00:15.990Z"
   },
   {
    "duration": 355,
    "start_time": "2022-11-25T08:00:16.255Z"
   },
   {
    "duration": 269,
    "start_time": "2022-11-25T08:00:16.612Z"
   },
   {
    "duration": 381,
    "start_time": "2022-11-25T08:00:16.883Z"
   },
   {
    "duration": 159,
    "start_time": "2022-11-25T08:00:17.266Z"
   },
   {
    "duration": 143,
    "start_time": "2022-11-25T08:00:17.427Z"
   },
   {
    "duration": 7,
    "start_time": "2022-11-25T08:00:17.572Z"
   },
   {
    "duration": 134,
    "start_time": "2022-11-25T08:00:17.582Z"
   },
   {
    "duration": 210,
    "start_time": "2022-11-25T08:00:17.718Z"
   },
   {
    "duration": 5,
    "start_time": "2022-11-25T08:00:17.929Z"
   },
   {
    "duration": 49,
    "start_time": "2022-11-25T08:00:48.334Z"
   },
   {
    "duration": 15,
    "start_time": "2022-11-25T08:01:31.511Z"
   },
   {
    "duration": 9,
    "start_time": "2022-11-25T08:02:22.518Z"
   },
   {
    "duration": 11,
    "start_time": "2022-11-25T08:05:46.997Z"
   },
   {
    "duration": 1325,
    "start_time": "2022-11-25T08:05:49.341Z"
   },
   {
    "duration": 96,
    "start_time": "2022-11-25T08:05:50.668Z"
   },
   {
    "duration": 92,
    "start_time": "2022-11-25T08:05:50.766Z"
   },
   {
    "duration": 94,
    "start_time": "2022-11-25T08:05:50.860Z"
   },
   {
    "duration": 3,
    "start_time": "2022-11-25T08:05:50.956Z"
   },
   {
    "duration": 21,
    "start_time": "2022-11-25T08:05:50.961Z"
   },
   {
    "duration": 15,
    "start_time": "2022-11-25T08:05:50.984Z"
   },
   {
    "duration": 28,
    "start_time": "2022-11-25T08:05:51.001Z"
   },
   {
    "duration": 13,
    "start_time": "2022-11-25T08:05:51.031Z"
   },
   {
    "duration": 21,
    "start_time": "2022-11-25T08:05:51.048Z"
   },
   {
    "duration": 378,
    "start_time": "2022-11-25T08:05:51.071Z"
   },
   {
    "duration": 337,
    "start_time": "2022-11-25T08:05:51.451Z"
   },
   {
    "duration": 239,
    "start_time": "2022-11-25T08:05:51.790Z"
   },
   {
    "duration": 380,
    "start_time": "2022-11-25T08:05:52.031Z"
   },
   {
    "duration": 291,
    "start_time": "2022-11-25T08:05:52.413Z"
   },
   {
    "duration": 389,
    "start_time": "2022-11-25T08:05:52.706Z"
   },
   {
    "duration": 125,
    "start_time": "2022-11-25T08:05:53.097Z"
   },
   {
    "duration": 122,
    "start_time": "2022-11-25T08:05:53.227Z"
   },
   {
    "duration": 5,
    "start_time": "2022-11-25T08:05:53.351Z"
   },
   {
    "duration": 123,
    "start_time": "2022-11-25T08:05:53.358Z"
   },
   {
    "duration": 238,
    "start_time": "2022-11-25T08:05:53.482Z"
   },
   {
    "duration": 7,
    "start_time": "2022-11-25T08:05:53.722Z"
   },
   {
    "duration": 137,
    "start_time": "2022-11-25T08:05:59.790Z"
   },
   {
    "duration": 166,
    "start_time": "2022-11-25T08:06:02.381Z"
   },
   {
    "duration": 170,
    "start_time": "2022-11-25T08:06:09.680Z"
   },
   {
    "duration": 53,
    "start_time": "2022-11-25T08:07:01.720Z"
   },
   {
    "duration": 1344,
    "start_time": "2022-11-25T08:07:08.902Z"
   },
   {
    "duration": 95,
    "start_time": "2022-11-25T08:07:10.248Z"
   },
   {
    "duration": 105,
    "start_time": "2022-11-25T08:07:10.344Z"
   },
   {
    "duration": 89,
    "start_time": "2022-11-25T08:07:10.451Z"
   },
   {
    "duration": 3,
    "start_time": "2022-11-25T08:07:10.543Z"
   },
   {
    "duration": 22,
    "start_time": "2022-11-25T08:07:10.548Z"
   },
   {
    "duration": 20,
    "start_time": "2022-11-25T08:07:10.572Z"
   },
   {
    "duration": 29,
    "start_time": "2022-11-25T08:07:10.594Z"
   },
   {
    "duration": 19,
    "start_time": "2022-11-25T08:07:10.625Z"
   },
   {
    "duration": 23,
    "start_time": "2022-11-25T08:07:10.645Z"
   },
   {
    "duration": 304,
    "start_time": "2022-11-25T08:07:10.670Z"
   },
   {
    "duration": 294,
    "start_time": "2022-11-25T08:07:10.976Z"
   },
   {
    "duration": 236,
    "start_time": "2022-11-25T08:07:11.272Z"
   },
   {
    "duration": 350,
    "start_time": "2022-11-25T08:07:11.512Z"
   },
   {
    "duration": 263,
    "start_time": "2022-11-25T08:07:11.863Z"
   },
   {
    "duration": 369,
    "start_time": "2022-11-25T08:07:12.127Z"
   },
   {
    "duration": 140,
    "start_time": "2022-11-25T08:07:12.497Z"
   },
   {
    "duration": 128,
    "start_time": "2022-11-25T08:07:12.639Z"
   },
   {
    "duration": 6,
    "start_time": "2022-11-25T08:07:12.768Z"
   },
   {
    "duration": 123,
    "start_time": "2022-11-25T08:07:12.775Z"
   },
   {
    "duration": 221,
    "start_time": "2022-11-25T08:07:12.905Z"
   },
   {
    "duration": 6,
    "start_time": "2022-11-25T08:07:13.128Z"
   },
   {
    "duration": 45,
    "start_time": "2022-11-25T08:15:32.047Z"
   },
   {
    "duration": 1169,
    "start_time": "2022-11-25T08:15:35.084Z"
   },
   {
    "duration": 86,
    "start_time": "2022-11-25T08:15:36.255Z"
   },
   {
    "duration": 104,
    "start_time": "2022-11-25T08:15:36.342Z"
   },
   {
    "duration": 92,
    "start_time": "2022-11-25T08:15:36.448Z"
   },
   {
    "duration": 3,
    "start_time": "2022-11-25T08:15:36.542Z"
   },
   {
    "duration": 9,
    "start_time": "2022-11-25T08:15:36.547Z"
   },
   {
    "duration": 12,
    "start_time": "2022-11-25T08:15:36.558Z"
   },
   {
    "duration": 23,
    "start_time": "2022-11-25T08:15:36.572Z"
   },
   {
    "duration": 14,
    "start_time": "2022-11-25T08:15:36.597Z"
   },
   {
    "duration": 25,
    "start_time": "2022-11-25T08:15:36.614Z"
   },
   {
    "duration": 332,
    "start_time": "2022-11-25T08:15:36.641Z"
   },
   {
    "duration": 313,
    "start_time": "2022-11-25T08:15:36.975Z"
   },
   {
    "duration": 8,
    "start_time": "2022-11-25T08:15:40.431Z"
   },
   {
    "duration": 124,
    "start_time": "2022-11-25T08:16:22.552Z"
   },
   {
    "duration": 4,
    "start_time": "2022-11-25T08:16:26.709Z"
   },
   {
    "duration": 159,
    "start_time": "2022-11-25T08:16:26.716Z"
   },
   {
    "duration": 99,
    "start_time": "2022-11-25T08:16:26.876Z"
   },
   {
    "duration": 105,
    "start_time": "2022-11-25T08:16:26.976Z"
   },
   {
    "duration": 4,
    "start_time": "2022-11-25T08:16:27.082Z"
   },
   {
    "duration": 33,
    "start_time": "2022-11-25T08:16:27.087Z"
   },
   {
    "duration": 21,
    "start_time": "2022-11-25T08:16:27.123Z"
   },
   {
    "duration": 40,
    "start_time": "2022-11-25T08:16:27.145Z"
   },
   {
    "duration": 23,
    "start_time": "2022-11-25T08:16:27.186Z"
   },
   {
    "duration": 36,
    "start_time": "2022-11-25T08:16:27.211Z"
   },
   {
    "duration": 403,
    "start_time": "2022-11-25T08:16:27.249Z"
   },
   {
    "duration": 200,
    "start_time": "2022-11-25T08:16:27.654Z"
   },
   {
    "duration": 202,
    "start_time": "2022-11-25T08:16:27.856Z"
   },
   {
    "duration": 364,
    "start_time": "2022-11-25T08:16:28.060Z"
   },
   {
    "duration": 287,
    "start_time": "2022-11-25T08:16:28.426Z"
   },
   {
    "duration": 346,
    "start_time": "2022-11-25T08:16:28.716Z"
   },
   {
    "duration": 102,
    "start_time": "2022-11-25T08:16:29.063Z"
   },
   {
    "duration": 204,
    "start_time": "2022-11-25T08:16:29.166Z"
   },
   {
    "duration": 4,
    "start_time": "2022-11-25T08:16:29.372Z"
   },
   {
    "duration": 138,
    "start_time": "2022-11-25T08:16:29.377Z"
   },
   {
    "duration": 137,
    "start_time": "2022-11-25T08:16:29.517Z"
   },
   {
    "duration": 5,
    "start_time": "2022-11-25T08:16:29.656Z"
   },
   {
    "duration": 81,
    "start_time": "2022-11-25T08:16:32.025Z"
   },
   {
    "duration": 592,
    "start_time": "2022-11-25T08:16:47.088Z"
   },
   {
    "duration": 7,
    "start_time": "2022-11-25T08:21:42.150Z"
   },
   {
    "duration": 13,
    "start_time": "2022-11-25T08:23:36.471Z"
   },
   {
    "duration": 12,
    "start_time": "2022-11-25T08:23:45.783Z"
   },
   {
    "duration": 1265,
    "start_time": "2022-11-25T08:24:00.374Z"
   },
   {
    "duration": 130,
    "start_time": "2022-11-25T08:24:37.052Z"
   },
   {
    "duration": 125,
    "start_time": "2022-11-25T08:24:59.274Z"
   },
   {
    "duration": 145,
    "start_time": "2022-11-25T08:25:02.974Z"
   },
   {
    "duration": 115,
    "start_time": "2022-11-25T08:25:13.792Z"
   },
   {
    "duration": 123,
    "start_time": "2022-11-25T08:25:40.686Z"
   },
   {
    "duration": 68,
    "start_time": "2022-11-25T08:26:21.655Z"
   },
   {
    "duration": 124,
    "start_time": "2022-11-25T08:26:45.887Z"
   },
   {
    "duration": 135,
    "start_time": "2022-11-25T08:26:50.318Z"
   },
   {
    "duration": 90,
    "start_time": "2022-11-25T08:30:43.776Z"
   },
   {
    "duration": 76,
    "start_time": "2022-11-25T08:30:58.465Z"
   },
   {
    "duration": 121,
    "start_time": "2022-11-25T08:31:22.743Z"
   },
   {
    "duration": 122,
    "start_time": "2022-11-25T08:31:46.817Z"
   },
   {
    "duration": 18,
    "start_time": "2022-11-25T08:36:17.671Z"
   },
   {
    "duration": 5,
    "start_time": "2022-11-25T08:36:22.710Z"
   },
   {
    "duration": 6,
    "start_time": "2022-11-25T08:36:32.166Z"
   },
   {
    "duration": 354,
    "start_time": "2022-11-25T08:36:48.926Z"
   },
   {
    "duration": 380,
    "start_time": "2022-11-25T08:37:03.921Z"
   },
   {
    "duration": 143,
    "start_time": "2022-11-25T08:37:05.016Z"
   },
   {
    "duration": 113,
    "start_time": "2022-11-25T08:37:49.758Z"
   },
   {
    "duration": 16,
    "start_time": "2022-11-25T08:59:31.479Z"
   },
   {
    "duration": 9,
    "start_time": "2022-11-25T08:59:39.874Z"
   },
   {
    "duration": 8,
    "start_time": "2022-11-25T09:00:02.506Z"
   },
   {
    "duration": 13,
    "start_time": "2022-11-25T09:01:47.647Z"
   },
   {
    "duration": 71,
    "start_time": "2022-11-25T09:25:50.139Z"
   },
   {
    "duration": 217,
    "start_time": "2022-11-25T09:54:17.477Z"
   },
   {
    "duration": 195,
    "start_time": "2022-11-25T09:54:21.669Z"
   },
   {
    "duration": 155,
    "start_time": "2022-11-25T09:54:42.981Z"
   },
   {
    "duration": 194,
    "start_time": "2022-11-25T09:54:50.254Z"
   },
   {
    "duration": 560,
    "start_time": "2022-11-25T09:55:26.997Z"
   },
   {
    "duration": 654,
    "start_time": "2022-11-25T09:56:04.174Z"
   },
   {
    "duration": 788,
    "start_time": "2022-11-25T09:57:20.765Z"
   },
   {
    "duration": 606,
    "start_time": "2022-11-25T09:57:38.125Z"
   },
   {
    "duration": 594,
    "start_time": "2022-11-25T09:57:53.239Z"
   },
   {
    "duration": 679,
    "start_time": "2022-11-25T09:58:51.470Z"
   },
   {
    "duration": 738,
    "start_time": "2022-11-25T09:59:11.493Z"
   },
   {
    "duration": 836,
    "start_time": "2022-11-25T09:59:21.568Z"
   },
   {
    "duration": 780,
    "start_time": "2022-11-25T09:59:36.414Z"
   },
   {
    "duration": 815,
    "start_time": "2022-11-25T09:59:40.621Z"
   },
   {
    "duration": 1157,
    "start_time": "2022-11-25T17:30:37.612Z"
   },
   {
    "duration": 349,
    "start_time": "2022-11-25T17:30:38.771Z"
   },
   {
    "duration": 661,
    "start_time": "2022-11-25T17:30:39.122Z"
   },
   {
    "duration": 124,
    "start_time": "2022-11-25T17:30:39.785Z"
   },
   {
    "duration": 4,
    "start_time": "2022-11-25T17:30:39.912Z"
   },
   {
    "duration": 13,
    "start_time": "2022-11-25T17:30:39.918Z"
   },
   {
    "duration": 10,
    "start_time": "2022-11-25T17:30:39.933Z"
   },
   {
    "duration": 18,
    "start_time": "2022-11-25T17:30:39.944Z"
   },
   {
    "duration": 11,
    "start_time": "2022-11-25T17:30:39.963Z"
   },
   {
    "duration": 15,
    "start_time": "2022-11-25T17:30:39.976Z"
   },
   {
    "duration": 327,
    "start_time": "2022-11-25T17:30:39.992Z"
   },
   {
    "duration": 301,
    "start_time": "2022-11-25T17:30:40.321Z"
   },
   {
    "duration": 210,
    "start_time": "2022-11-25T17:30:40.623Z"
   },
   {
    "duration": 347,
    "start_time": "2022-11-25T17:30:40.836Z"
   },
   {
    "duration": 247,
    "start_time": "2022-11-25T17:30:41.185Z"
   },
   {
    "duration": 342,
    "start_time": "2022-11-25T17:30:41.433Z"
   },
   {
    "duration": 114,
    "start_time": "2022-11-25T17:30:41.776Z"
   },
   {
    "duration": 124,
    "start_time": "2022-11-25T17:30:41.891Z"
   },
   {
    "duration": 8,
    "start_time": "2022-11-25T17:30:42.016Z"
   },
   {
    "duration": 117,
    "start_time": "2022-11-25T17:30:42.026Z"
   },
   {
    "duration": 210,
    "start_time": "2022-11-25T17:30:42.145Z"
   },
   {
    "duration": 5,
    "start_time": "2022-11-25T17:30:42.357Z"
   },
   {
    "duration": 158,
    "start_time": "2022-11-25T17:30:42.364Z"
   },
   {
    "duration": 315,
    "start_time": "2022-11-25T17:30:42.523Z"
   },
   {
    "duration": 16,
    "start_time": "2022-11-25T17:30:42.840Z"
   },
   {
    "duration": 137,
    "start_time": "2022-11-25T17:30:42.860Z"
   },
   {
    "duration": 32,
    "start_time": "2022-11-25T17:30:42.999Z"
   },
   {
    "duration": 299,
    "start_time": "2022-11-25T17:30:43.033Z"
   },
   {
    "duration": 7,
    "start_time": "2022-11-25T17:30:43.333Z"
   },
   {
    "duration": 22,
    "start_time": "2022-11-25T17:30:43.342Z"
   },
   {
    "duration": 7,
    "start_time": "2022-11-25T17:35:44.582Z"
   },
   {
    "duration": 6,
    "start_time": "2022-11-25T17:37:19.390Z"
   },
   {
    "duration": 191,
    "start_time": "2022-11-26T06:21:22.053Z"
   },
   {
    "duration": 1398,
    "start_time": "2022-11-26T06:31:26.690Z"
   },
   {
    "duration": 130,
    "start_time": "2022-11-26T06:31:28.090Z"
   },
   {
    "duration": 131,
    "start_time": "2022-11-26T06:31:28.222Z"
   },
   {
    "duration": 169,
    "start_time": "2022-11-26T06:31:28.355Z"
   },
   {
    "duration": 3,
    "start_time": "2022-11-26T06:31:28.526Z"
   },
   {
    "duration": 16,
    "start_time": "2022-11-26T06:31:28.531Z"
   },
   {
    "duration": 11,
    "start_time": "2022-11-26T06:31:28.548Z"
   },
   {
    "duration": 22,
    "start_time": "2022-11-26T06:31:28.561Z"
   },
   {
    "duration": 12,
    "start_time": "2022-11-26T06:31:28.585Z"
   },
   {
    "duration": 17,
    "start_time": "2022-11-26T06:31:28.600Z"
   },
   {
    "duration": 348,
    "start_time": "2022-11-26T06:31:28.619Z"
   },
   {
    "duration": 330,
    "start_time": "2022-11-26T06:31:28.969Z"
   },
   {
    "duration": 211,
    "start_time": "2022-11-26T06:31:29.301Z"
   },
   {
    "duration": 423,
    "start_time": "2022-11-26T06:31:29.514Z"
   },
   {
    "duration": 271,
    "start_time": "2022-11-26T06:31:29.939Z"
   },
   {
    "duration": 359,
    "start_time": "2022-11-26T06:31:30.212Z"
   },
   {
    "duration": 116,
    "start_time": "2022-11-26T06:31:30.573Z"
   },
   {
    "duration": 118,
    "start_time": "2022-11-26T06:31:30.691Z"
   },
   {
    "duration": 5,
    "start_time": "2022-11-26T06:31:30.811Z"
   },
   {
    "duration": 128,
    "start_time": "2022-11-26T06:31:30.818Z"
   },
   {
    "duration": 214,
    "start_time": "2022-11-26T06:31:30.948Z"
   },
   {
    "duration": 4,
    "start_time": "2022-11-26T06:31:31.164Z"
   },
   {
    "duration": 162,
    "start_time": "2022-11-26T06:31:31.170Z"
   },
   {
    "duration": 363,
    "start_time": "2022-11-26T06:31:31.334Z"
   },
   {
    "duration": 7,
    "start_time": "2022-11-26T06:31:31.698Z"
   },
   {
    "duration": 144,
    "start_time": "2022-11-26T06:31:31.708Z"
   },
   {
    "duration": 22,
    "start_time": "2022-11-26T06:31:31.854Z"
   },
   {
    "duration": 353,
    "start_time": "2022-11-26T06:31:31.880Z"
   },
   {
    "duration": 9,
    "start_time": "2022-11-26T06:31:32.238Z"
   },
   {
    "duration": 27,
    "start_time": "2022-11-26T06:31:32.249Z"
   },
   {
    "duration": 103,
    "start_time": "2022-11-26T06:39:02.321Z"
   },
   {
    "duration": 12,
    "start_time": "2022-11-26T06:39:55.027Z"
   },
   {
    "duration": 12,
    "start_time": "2022-11-26T06:40:15.490Z"
   },
   {
    "duration": 13,
    "start_time": "2022-11-26T06:40:52.766Z"
   },
   {
    "duration": 20,
    "start_time": "2022-11-26T06:40:59.772Z"
   },
   {
    "duration": 21,
    "start_time": "2022-11-26T06:41:24.706Z"
   },
   {
    "duration": 13,
    "start_time": "2022-11-26T06:41:38.452Z"
   },
   {
    "duration": 12,
    "start_time": "2022-11-26T06:47:05.119Z"
   },
   {
    "duration": 3,
    "start_time": "2022-11-26T06:47:10.528Z"
   },
   {
    "duration": 96,
    "start_time": "2022-11-26T06:47:10.533Z"
   },
   {
    "duration": 93,
    "start_time": "2022-11-26T06:47:10.631Z"
   },
   {
    "duration": 86,
    "start_time": "2022-11-26T06:47:10.726Z"
   },
   {
    "duration": 5,
    "start_time": "2022-11-26T06:47:10.815Z"
   },
   {
    "duration": 12,
    "start_time": "2022-11-26T06:47:10.822Z"
   },
   {
    "duration": 6,
    "start_time": "2022-11-26T06:47:10.836Z"
   },
   {
    "duration": 15,
    "start_time": "2022-11-26T06:47:10.844Z"
   },
   {
    "duration": 10,
    "start_time": "2022-11-26T06:47:10.861Z"
   },
   {
    "duration": 15,
    "start_time": "2022-11-26T06:47:10.873Z"
   },
   {
    "duration": 315,
    "start_time": "2022-11-26T06:47:10.890Z"
   },
   {
    "duration": 216,
    "start_time": "2022-11-26T06:47:11.206Z"
   },
   {
    "duration": 211,
    "start_time": "2022-11-26T06:47:11.423Z"
   },
   {
    "duration": 345,
    "start_time": "2022-11-26T06:47:11.636Z"
   },
   {
    "duration": 231,
    "start_time": "2022-11-26T06:47:11.983Z"
   },
   {
    "duration": 354,
    "start_time": "2022-11-26T06:47:12.216Z"
   },
   {
    "duration": 109,
    "start_time": "2022-11-26T06:47:12.572Z"
   },
   {
    "duration": 111,
    "start_time": "2022-11-26T06:47:12.683Z"
   },
   {
    "duration": 4,
    "start_time": "2022-11-26T06:47:12.796Z"
   },
   {
    "duration": 116,
    "start_time": "2022-11-26T06:47:12.802Z"
   },
   {
    "duration": 129,
    "start_time": "2022-11-26T06:47:12.920Z"
   },
   {
    "duration": 5,
    "start_time": "2022-11-26T06:47:13.051Z"
   },
   {
    "duration": 153,
    "start_time": "2022-11-26T06:47:13.058Z"
   },
   {
    "duration": 352,
    "start_time": "2022-11-26T06:47:13.212Z"
   },
   {
    "duration": 7,
    "start_time": "2022-11-26T06:47:13.566Z"
   },
   {
    "duration": 153,
    "start_time": "2022-11-26T06:47:13.575Z"
   },
   {
    "duration": 20,
    "start_time": "2022-11-26T06:47:13.730Z"
   },
   {
    "duration": 370,
    "start_time": "2022-11-26T06:47:13.752Z"
   },
   {
    "duration": 15,
    "start_time": "2022-11-26T06:47:14.125Z"
   },
   {
    "duration": 18,
    "start_time": "2022-11-26T06:47:14.143Z"
   },
   {
    "duration": 21,
    "start_time": "2022-11-26T06:56:11.065Z"
   },
   {
    "duration": 10,
    "start_time": "2022-11-26T06:56:39.118Z"
   },
   {
    "duration": 20,
    "start_time": "2022-11-26T06:56:43.245Z"
   },
   {
    "duration": 19,
    "start_time": "2022-11-26T06:58:04.214Z"
   },
   {
    "duration": 74,
    "start_time": "2022-11-26T06:58:18.335Z"
   },
   {
    "duration": 4,
    "start_time": "2022-11-26T06:58:43.786Z"
   },
   {
    "duration": 91,
    "start_time": "2022-11-26T06:58:43.792Z"
   },
   {
    "duration": 90,
    "start_time": "2022-11-26T06:58:43.885Z"
   },
   {
    "duration": 84,
    "start_time": "2022-11-26T06:58:43.977Z"
   },
   {
    "duration": 4,
    "start_time": "2022-11-26T06:58:44.062Z"
   },
   {
    "duration": 25,
    "start_time": "2022-11-26T06:58:44.068Z"
   },
   {
    "duration": 7,
    "start_time": "2022-11-26T06:58:44.095Z"
   },
   {
    "duration": 13,
    "start_time": "2022-11-26T06:58:44.104Z"
   },
   {
    "duration": 18,
    "start_time": "2022-11-26T06:58:44.119Z"
   },
   {
    "duration": 30,
    "start_time": "2022-11-26T06:58:44.139Z"
   },
   {
    "duration": 434,
    "start_time": "2022-11-26T06:58:44.173Z"
   },
   {
    "duration": 216,
    "start_time": "2022-11-26T06:58:44.608Z"
   },
   {
    "duration": 228,
    "start_time": "2022-11-26T06:58:44.826Z"
   },
   {
    "duration": 331,
    "start_time": "2022-11-26T06:58:45.056Z"
   },
   {
    "duration": 242,
    "start_time": "2022-11-26T06:58:45.389Z"
   },
   {
    "duration": 354,
    "start_time": "2022-11-26T06:58:45.633Z"
   },
   {
    "duration": 115,
    "start_time": "2022-11-26T06:58:45.989Z"
   },
   {
    "duration": 114,
    "start_time": "2022-11-26T06:58:46.106Z"
   },
   {
    "duration": 6,
    "start_time": "2022-11-26T06:58:46.222Z"
   },
   {
    "duration": 122,
    "start_time": "2022-11-26T06:58:46.238Z"
   },
   {
    "duration": 133,
    "start_time": "2022-11-26T06:58:46.362Z"
   },
   {
    "duration": 5,
    "start_time": "2022-11-26T06:58:46.497Z"
   },
   {
    "duration": 165,
    "start_time": "2022-11-26T06:58:46.503Z"
   },
   {
    "duration": 336,
    "start_time": "2022-11-26T06:58:46.671Z"
   },
   {
    "duration": 7,
    "start_time": "2022-11-26T06:58:47.008Z"
   },
   {
    "duration": 147,
    "start_time": "2022-11-26T06:58:47.017Z"
   },
   {
    "duration": 13,
    "start_time": "2022-11-26T06:58:47.166Z"
   },
   {
    "duration": 413,
    "start_time": "2022-11-26T06:58:47.181Z"
   },
   {
    "duration": 10,
    "start_time": "2022-11-26T06:58:47.598Z"
   },
   {
    "duration": 37,
    "start_time": "2022-11-26T06:58:47.611Z"
   },
   {
    "duration": 26,
    "start_time": "2022-11-26T06:59:16.937Z"
   },
   {
    "duration": 27,
    "start_time": "2022-11-26T06:59:45.639Z"
   },
   {
    "duration": 26,
    "start_time": "2022-11-26T06:59:58.601Z"
   },
   {
    "duration": 13,
    "start_time": "2022-11-26T07:00:46.066Z"
   },
   {
    "duration": 14,
    "start_time": "2022-11-26T07:00:48.113Z"
   },
   {
    "duration": 219,
    "start_time": "2022-11-26T07:12:40.518Z"
   },
   {
    "duration": 263,
    "start_time": "2022-11-26T07:14:26.818Z"
   },
   {
    "duration": 346,
    "start_time": "2022-11-26T07:14:32.058Z"
   },
   {
    "duration": 231,
    "start_time": "2022-11-26T07:17:12.068Z"
   },
   {
    "duration": 244,
    "start_time": "2022-11-26T07:17:30.811Z"
   },
   {
    "duration": 3,
    "start_time": "2022-11-26T07:18:40.558Z"
   },
   {
    "duration": 277,
    "start_time": "2022-11-26T07:18:56.770Z"
   },
   {
    "duration": 278,
    "start_time": "2022-11-26T07:22:05.996Z"
   },
   {
    "duration": 219,
    "start_time": "2022-11-26T07:26:42.295Z"
   },
   {
    "duration": 224,
    "start_time": "2022-11-26T07:26:45.613Z"
   },
   {
    "duration": 360,
    "start_time": "2022-11-26T07:27:21.497Z"
   },
   {
    "duration": 279,
    "start_time": "2022-11-26T07:27:53.605Z"
   },
   {
    "duration": 395,
    "start_time": "2022-11-26T07:28:07.120Z"
   },
   {
    "duration": 112,
    "start_time": "2022-11-26T07:32:41.449Z"
   },
   {
    "duration": 193,
    "start_time": "2022-11-26T07:32:55.616Z"
   },
   {
    "duration": 109,
    "start_time": "2022-11-26T07:33:26.479Z"
   },
   {
    "duration": 114,
    "start_time": "2022-11-26T07:33:51.528Z"
   },
   {
    "duration": 142,
    "start_time": "2022-11-26T07:34:25.338Z"
   },
   {
    "duration": 175,
    "start_time": "2022-11-26T07:36:50.923Z"
   },
   {
    "duration": 163,
    "start_time": "2022-11-26T07:37:01.794Z"
   },
   {
    "duration": 252,
    "start_time": "2022-11-26T07:37:15.169Z"
   },
   {
    "duration": 272,
    "start_time": "2022-11-26T07:37:22.649Z"
   },
   {
    "duration": 248,
    "start_time": "2022-11-26T07:37:29.680Z"
   },
   {
    "duration": 298,
    "start_time": "2022-11-26T07:37:41.234Z"
   },
   {
    "duration": 323,
    "start_time": "2022-11-26T07:37:44.856Z"
   },
   {
    "duration": 269,
    "start_time": "2022-11-26T07:37:50.233Z"
   },
   {
    "duration": 380,
    "start_time": "2022-11-26T07:37:54.633Z"
   },
   {
    "duration": 283,
    "start_time": "2022-11-26T07:37:59.120Z"
   },
   {
    "duration": 265,
    "start_time": "2022-11-26T07:38:03.385Z"
   },
   {
    "duration": 285,
    "start_time": "2022-11-26T07:38:15.017Z"
   },
   {
    "duration": 297,
    "start_time": "2022-11-26T07:38:19.256Z"
   },
   {
    "duration": 146,
    "start_time": "2022-11-26T07:38:52.881Z"
   },
   {
    "duration": 143,
    "start_time": "2022-11-26T07:39:06.203Z"
   },
   {
    "duration": 823,
    "start_time": "2022-11-26T07:39:09.917Z"
   },
   {
    "duration": 300,
    "start_time": "2022-11-26T07:39:14.137Z"
   },
   {
    "duration": 243,
    "start_time": "2022-11-26T07:39:21.645Z"
   },
   {
    "duration": 280,
    "start_time": "2022-11-26T07:41:53.739Z"
   },
   {
    "duration": 303,
    "start_time": "2022-11-26T07:41:57.691Z"
   },
   {
    "duration": 419,
    "start_time": "2022-11-26T07:42:05.491Z"
   },
   {
    "duration": 290,
    "start_time": "2022-11-26T07:42:13.320Z"
   },
   {
    "duration": 341,
    "start_time": "2022-11-26T07:42:19.034Z"
   },
   {
    "duration": 328,
    "start_time": "2022-11-26T07:42:27.778Z"
   },
   {
    "duration": 303,
    "start_time": "2022-11-26T07:42:36.994Z"
   },
   {
    "duration": 348,
    "start_time": "2022-11-26T07:45:48.771Z"
   },
   {
    "duration": 255,
    "start_time": "2022-11-26T07:45:56.260Z"
   },
   {
    "duration": 252,
    "start_time": "2022-11-26T07:46:04.474Z"
   },
   {
    "duration": 253,
    "start_time": "2022-11-26T07:46:12.155Z"
   },
   {
    "duration": 713,
    "start_time": "2022-11-26T07:46:22.468Z"
   },
   {
    "duration": 317,
    "start_time": "2022-11-26T07:46:27.123Z"
   },
   {
    "duration": 256,
    "start_time": "2022-11-26T07:46:32.052Z"
   },
   {
    "duration": 402,
    "start_time": "2022-11-26T07:46:38.578Z"
   },
   {
    "duration": 258,
    "start_time": "2022-11-26T07:46:41.259Z"
   },
   {
    "duration": 271,
    "start_time": "2022-11-26T07:46:48.323Z"
   },
   {
    "duration": 263,
    "start_time": "2022-11-26T07:46:56.737Z"
   },
   {
    "duration": 256,
    "start_time": "2022-11-26T07:47:00.067Z"
   },
   {
    "duration": 77,
    "start_time": "2022-11-26T07:47:12.185Z"
   },
   {
    "duration": 254,
    "start_time": "2022-11-26T07:47:16.379Z"
   },
   {
    "duration": 238,
    "start_time": "2022-11-26T07:47:22.460Z"
   },
   {
    "duration": 262,
    "start_time": "2022-11-26T07:47:25.675Z"
   },
   {
    "duration": 79,
    "start_time": "2022-11-26T07:47:30.522Z"
   },
   {
    "duration": 253,
    "start_time": "2022-11-26T07:47:34.508Z"
   },
   {
    "duration": 336,
    "start_time": "2022-11-26T07:48:58.682Z"
   },
   {
    "duration": 245,
    "start_time": "2022-11-26T07:49:03.913Z"
   },
   {
    "duration": 254,
    "start_time": "2022-11-26T07:49:11.572Z"
   },
   {
    "duration": 375,
    "start_time": "2022-11-26T07:49:15.619Z"
   },
   {
    "duration": 272,
    "start_time": "2022-11-26T07:49:19.075Z"
   },
   {
    "duration": 250,
    "start_time": "2022-11-26T07:49:33.011Z"
   },
   {
    "duration": 251,
    "start_time": "2022-11-26T07:49:37.109Z"
   },
   {
    "duration": 305,
    "start_time": "2022-11-26T07:49:53.533Z"
   },
   {
    "duration": 256,
    "start_time": "2022-11-26T07:50:02.085Z"
   },
   {
    "duration": 283,
    "start_time": "2022-11-26T07:50:09.117Z"
   },
   {
    "duration": 284,
    "start_time": "2022-11-26T07:50:16.221Z"
   },
   {
    "duration": 309,
    "start_time": "2022-11-26T07:50:27.006Z"
   },
   {
    "duration": 1113,
    "start_time": "2022-11-26T07:50:38.716Z"
   },
   {
    "duration": 1068,
    "start_time": "2022-11-26T07:50:56.716Z"
   },
   {
    "duration": 329,
    "start_time": "2022-11-26T07:51:06.860Z"
   },
   {
    "duration": 392,
    "start_time": "2022-11-26T07:51:33.205Z"
   },
   {
    "duration": 1271,
    "start_time": "2022-11-26T07:51:40.709Z"
   },
   {
    "duration": 436,
    "start_time": "2022-11-26T07:51:47.380Z"
   },
   {
    "duration": 368,
    "start_time": "2022-11-26T07:51:56.165Z"
   },
   {
    "duration": 409,
    "start_time": "2022-11-26T07:52:02.333Z"
   },
   {
    "duration": 71,
    "start_time": "2022-11-26T07:52:06.363Z"
   },
   {
    "duration": 418,
    "start_time": "2022-11-26T07:52:08.779Z"
   },
   {
    "duration": 390,
    "start_time": "2022-11-26T07:52:15.926Z"
   },
   {
    "duration": 370,
    "start_time": "2022-11-26T07:52:20.956Z"
   },
   {
    "duration": 14,
    "start_time": "2022-11-26T08:58:58.704Z"
   },
   {
    "duration": 23,
    "start_time": "2022-11-26T09:02:21.438Z"
   },
   {
    "duration": 3,
    "start_time": "2022-11-26T09:02:47.393Z"
   },
   {
    "duration": 205,
    "start_time": "2022-11-26T09:02:47.398Z"
   },
   {
    "duration": 142,
    "start_time": "2022-11-26T09:02:47.606Z"
   },
   {
    "duration": 111,
    "start_time": "2022-11-26T09:02:47.750Z"
   },
   {
    "duration": 4,
    "start_time": "2022-11-26T09:02:47.863Z"
   },
   {
    "duration": 13,
    "start_time": "2022-11-26T09:02:47.869Z"
   },
   {
    "duration": 15,
    "start_time": "2022-11-26T09:02:47.885Z"
   },
   {
    "duration": 20,
    "start_time": "2022-11-26T09:02:47.902Z"
   },
   {
    "duration": 14,
    "start_time": "2022-11-26T09:02:47.937Z"
   },
   {
    "duration": 28,
    "start_time": "2022-11-26T09:02:47.954Z"
   },
   {
    "duration": 345,
    "start_time": "2022-11-26T09:02:47.985Z"
   },
   {
    "duration": 296,
    "start_time": "2022-11-26T09:02:48.332Z"
   },
   {
    "duration": 282,
    "start_time": "2022-11-26T09:02:48.637Z"
   },
   {
    "duration": 448,
    "start_time": "2022-11-26T09:02:48.921Z"
   },
   {
    "duration": 381,
    "start_time": "2022-11-26T09:02:49.371Z"
   },
   {
    "duration": 350,
    "start_time": "2022-11-26T09:02:49.754Z"
   },
   {
    "duration": 133,
    "start_time": "2022-11-26T09:02:50.106Z"
   },
   {
    "duration": 139,
    "start_time": "2022-11-26T09:02:50.241Z"
   },
   {
    "duration": 5,
    "start_time": "2022-11-26T09:02:50.382Z"
   },
   {
    "duration": 130,
    "start_time": "2022-11-26T09:02:50.389Z"
   },
   {
    "duration": 148,
    "start_time": "2022-11-26T09:02:50.521Z"
   },
   {
    "duration": 5,
    "start_time": "2022-11-26T09:02:50.670Z"
   },
   {
    "duration": 153,
    "start_time": "2022-11-26T09:02:50.677Z"
   },
   {
    "duration": 342,
    "start_time": "2022-11-26T09:02:50.832Z"
   },
   {
    "duration": 14,
    "start_time": "2022-11-26T09:02:51.176Z"
   },
   {
    "duration": 139,
    "start_time": "2022-11-26T09:02:51.191Z"
   },
   {
    "duration": 14,
    "start_time": "2022-11-26T09:02:51.332Z"
   },
   {
    "duration": 341,
    "start_time": "2022-11-26T09:02:51.348Z"
   },
   {
    "duration": 7,
    "start_time": "2022-11-26T09:02:51.692Z"
   },
   {
    "duration": 36,
    "start_time": "2022-11-26T09:02:51.701Z"
   },
   {
    "duration": 11,
    "start_time": "2022-11-26T09:19:51.054Z"
   },
   {
    "duration": 4,
    "start_time": "2022-11-26T09:20:00.977Z"
   },
   {
    "duration": 5,
    "start_time": "2022-11-26T09:22:22.623Z"
   },
   {
    "duration": 7,
    "start_time": "2022-11-26T09:22:39.617Z"
   },
   {
    "duration": 11,
    "start_time": "2022-11-26T09:29:16.138Z"
   },
   {
    "duration": 329,
    "start_time": "2022-11-26T09:29:17.497Z"
   },
   {
    "duration": 8,
    "start_time": "2022-11-26T09:29:49.474Z"
   },
   {
    "duration": 892,
    "start_time": "2022-11-26T09:31:42.902Z"
   },
   {
    "duration": 9,
    "start_time": "2022-11-26T09:31:51.644Z"
   },
   {
    "duration": 13,
    "start_time": "2022-11-26T09:31:57.902Z"
   },
   {
    "duration": 1191,
    "start_time": "2022-11-26T09:32:10.142Z"
   },
   {
    "duration": 24,
    "start_time": "2022-11-26T09:32:16.989Z"
   },
   {
    "duration": 13,
    "start_time": "2022-11-26T09:32:55.834Z"
   },
   {
    "duration": 13,
    "start_time": "2022-11-26T09:33:03.578Z"
   },
   {
    "duration": 5,
    "start_time": "2022-11-26T09:40:52.629Z"
   },
   {
    "duration": 6,
    "start_time": "2022-11-26T09:41:04.341Z"
   },
   {
    "duration": 8,
    "start_time": "2022-11-26T09:41:09.367Z"
   },
   {
    "duration": 6,
    "start_time": "2022-11-26T09:41:17.899Z"
   },
   {
    "duration": 170,
    "start_time": "2022-11-26T09:42:51.390Z"
   },
   {
    "duration": 175,
    "start_time": "2022-11-26T09:43:20.927Z"
   },
   {
    "duration": 7,
    "start_time": "2022-11-26T09:43:25.358Z"
   },
   {
    "duration": 24,
    "start_time": "2022-11-26T09:43:30.485Z"
   },
   {
    "duration": 4,
    "start_time": "2022-11-26T10:46:53.488Z"
   },
   {
    "duration": 23,
    "start_time": "2022-11-26T10:47:01.600Z"
   },
   {
    "duration": 4,
    "start_time": "2022-11-26T10:48:09.900Z"
   },
   {
    "duration": 179,
    "start_time": "2022-11-26T10:48:09.908Z"
   },
   {
    "duration": 353,
    "start_time": "2022-11-26T10:48:10.090Z"
   },
   {
    "duration": 161,
    "start_time": "2022-11-26T10:48:10.445Z"
   },
   {
    "duration": 4,
    "start_time": "2022-11-26T10:48:10.608Z"
   },
   {
    "duration": 12,
    "start_time": "2022-11-26T10:48:10.614Z"
   },
   {
    "duration": 9,
    "start_time": "2022-11-26T10:48:10.627Z"
   },
   {
    "duration": 14,
    "start_time": "2022-11-26T10:48:10.638Z"
   },
   {
    "duration": 11,
    "start_time": "2022-11-26T10:48:10.653Z"
   },
   {
    "duration": 13,
    "start_time": "2022-11-26T10:48:10.666Z"
   },
   {
    "duration": 311,
    "start_time": "2022-11-26T10:48:10.682Z"
   },
   {
    "duration": 293,
    "start_time": "2022-11-26T10:48:10.994Z"
   },
   {
    "duration": 271,
    "start_time": "2022-11-26T10:48:11.289Z"
   },
   {
    "duration": 385,
    "start_time": "2022-11-26T10:48:11.562Z"
   },
   {
    "duration": 266,
    "start_time": "2022-11-26T10:48:11.948Z"
   },
   {
    "duration": 372,
    "start_time": "2022-11-26T10:48:12.216Z"
   },
   {
    "duration": 114,
    "start_time": "2022-11-26T10:48:12.590Z"
   },
   {
    "duration": 231,
    "start_time": "2022-11-26T10:48:12.706Z"
   },
   {
    "duration": 4,
    "start_time": "2022-11-26T10:48:12.939Z"
   },
   {
    "duration": 131,
    "start_time": "2022-11-26T10:48:12.945Z"
   },
   {
    "duration": 151,
    "start_time": "2022-11-26T10:48:13.078Z"
   },
   {
    "duration": 9,
    "start_time": "2022-11-26T10:48:13.231Z"
   },
   {
    "duration": 170,
    "start_time": "2022-11-26T10:48:13.242Z"
   },
   {
    "duration": 36,
    "start_time": "2022-11-26T10:48:13.414Z"
   },
   {
    "duration": 13,
    "start_time": "2022-11-26T10:48:13.452Z"
   },
   {
    "duration": 149,
    "start_time": "2022-11-26T10:48:13.467Z"
   },
   {
    "duration": 27,
    "start_time": "2022-11-26T10:48:13.618Z"
   },
   {
    "duration": 25,
    "start_time": "2022-11-26T10:48:13.647Z"
   },
   {
    "duration": 7,
    "start_time": "2022-11-26T10:48:13.677Z"
   },
   {
    "duration": 23,
    "start_time": "2022-11-26T10:48:13.686Z"
   },
   {
    "duration": 1475,
    "start_time": "2022-11-26T10:58:34.326Z"
   },
   {
    "duration": 4,
    "start_time": "2022-11-26T10:58:52.884Z"
   },
   {
    "duration": 84,
    "start_time": "2022-11-26T10:58:52.892Z"
   },
   {
    "duration": 107,
    "start_time": "2022-11-26T10:58:52.979Z"
   },
   {
    "duration": 81,
    "start_time": "2022-11-26T10:58:53.088Z"
   },
   {
    "duration": 4,
    "start_time": "2022-11-26T10:58:53.171Z"
   },
   {
    "duration": 12,
    "start_time": "2022-11-26T10:58:53.177Z"
   },
   {
    "duration": 9,
    "start_time": "2022-11-26T10:58:53.191Z"
   },
   {
    "duration": 19,
    "start_time": "2022-11-26T10:58:53.202Z"
   },
   {
    "duration": 17,
    "start_time": "2022-11-26T10:58:53.238Z"
   },
   {
    "duration": 19,
    "start_time": "2022-11-26T10:58:53.257Z"
   },
   {
    "duration": 332,
    "start_time": "2022-11-26T10:58:53.280Z"
   },
   {
    "duration": 328,
    "start_time": "2022-11-26T10:58:53.614Z"
   },
   {
    "duration": 300,
    "start_time": "2022-11-26T10:58:53.944Z"
   },
   {
    "duration": 396,
    "start_time": "2022-11-26T10:58:54.246Z"
   },
   {
    "duration": 274,
    "start_time": "2022-11-26T10:58:54.644Z"
   },
   {
    "duration": 380,
    "start_time": "2022-11-26T10:58:54.920Z"
   },
   {
    "duration": 113,
    "start_time": "2022-11-26T10:58:55.301Z"
   },
   {
    "duration": 192,
    "start_time": "2022-11-26T10:58:55.415Z"
   },
   {
    "duration": 5,
    "start_time": "2022-11-26T10:58:55.609Z"
   },
   {
    "duration": 130,
    "start_time": "2022-11-26T10:58:55.616Z"
   },
   {
    "duration": 257,
    "start_time": "2022-11-26T10:58:55.748Z"
   },
   {
    "duration": 5,
    "start_time": "2022-11-26T10:58:56.007Z"
   },
   {
    "duration": 172,
    "start_time": "2022-11-26T10:58:56.015Z"
   },
   {
    "duration": 23,
    "start_time": "2022-11-26T10:58:56.189Z"
   },
   {
    "duration": 24,
    "start_time": "2022-11-26T10:58:56.214Z"
   },
   {
    "duration": 152,
    "start_time": "2022-11-26T10:58:56.240Z"
   },
   {
    "duration": 13,
    "start_time": "2022-11-26T10:58:56.394Z"
   },
   {
    "duration": 43,
    "start_time": "2022-11-26T10:58:56.409Z"
   },
   {
    "duration": 8,
    "start_time": "2022-11-26T10:58:56.457Z"
   },
   {
    "duration": 20,
    "start_time": "2022-11-26T10:58:56.466Z"
   },
   {
    "duration": 1505,
    "start_time": "2022-11-26T10:58:56.488Z"
   },
   {
    "duration": 637,
    "start_time": "2022-11-26T10:59:24.689Z"
   },
   {
    "duration": 557,
    "start_time": "2022-11-26T10:59:33.454Z"
   },
   {
    "duration": 562,
    "start_time": "2022-11-26T10:59:40.622Z"
   },
   {
    "duration": 638,
    "start_time": "2022-11-26T11:00:00.853Z"
   },
   {
    "duration": 833,
    "start_time": "2022-11-26T11:00:20.864Z"
   },
   {
    "duration": 646,
    "start_time": "2022-11-26T11:01:08.175Z"
   },
   {
    "duration": 1335,
    "start_time": "2022-11-26T19:13:30.185Z"
   },
   {
    "duration": 143,
    "start_time": "2022-11-26T19:13:31.523Z"
   },
   {
    "duration": 194,
    "start_time": "2022-11-26T19:13:31.669Z"
   },
   {
    "duration": 206,
    "start_time": "2022-11-26T19:13:31.865Z"
   },
   {
    "duration": 7,
    "start_time": "2022-11-26T19:13:32.074Z"
   },
   {
    "duration": 20,
    "start_time": "2022-11-26T19:13:32.082Z"
   },
   {
    "duration": 18,
    "start_time": "2022-11-26T19:13:32.104Z"
   },
   {
    "duration": 23,
    "start_time": "2022-11-26T19:13:32.125Z"
   },
   {
    "duration": 17,
    "start_time": "2022-11-26T19:13:32.150Z"
   },
   {
    "duration": 20,
    "start_time": "2022-11-26T19:13:32.169Z"
   },
   {
    "duration": 454,
    "start_time": "2022-11-26T19:13:32.191Z"
   },
   {
    "duration": 512,
    "start_time": "2022-11-26T19:13:32.647Z"
   },
   {
    "duration": 336,
    "start_time": "2022-11-26T19:13:33.162Z"
   },
   {
    "duration": 507,
    "start_time": "2022-11-26T19:13:33.503Z"
   },
   {
    "duration": 357,
    "start_time": "2022-11-26T19:13:34.012Z"
   },
   {
    "duration": 360,
    "start_time": "2022-11-26T19:13:34.372Z"
   },
   {
    "duration": 134,
    "start_time": "2022-11-26T19:13:34.734Z"
   },
   {
    "duration": 149,
    "start_time": "2022-11-26T19:13:34.870Z"
   },
   {
    "duration": 22,
    "start_time": "2022-11-26T19:13:35.021Z"
   },
   {
    "duration": 170,
    "start_time": "2022-11-26T19:13:35.045Z"
   },
   {
    "duration": 252,
    "start_time": "2022-11-26T19:13:35.217Z"
   },
   {
    "duration": 6,
    "start_time": "2022-11-26T19:13:35.472Z"
   },
   {
    "duration": 207,
    "start_time": "2022-11-26T19:13:35.480Z"
   },
   {
    "duration": 33,
    "start_time": "2022-11-26T19:13:35.690Z"
   },
   {
    "duration": 14,
    "start_time": "2022-11-26T19:13:35.736Z"
   },
   {
    "duration": 168,
    "start_time": "2022-11-26T19:13:35.752Z"
   },
   {
    "duration": 19,
    "start_time": "2022-11-26T19:13:35.923Z"
   },
   {
    "duration": 28,
    "start_time": "2022-11-26T19:13:35.944Z"
   },
   {
    "duration": 8,
    "start_time": "2022-11-26T19:13:35.974Z"
   },
   {
    "duration": 67,
    "start_time": "2022-11-26T19:13:35.984Z"
   },
   {
    "duration": 52,
    "start_time": "2022-11-26T19:14:09.061Z"
   },
   {
    "duration": 78,
    "start_time": "2022-11-26T19:18:40.103Z"
   },
   {
    "duration": 64,
    "start_time": "2022-11-26T19:18:57.418Z"
   },
   {
    "duration": 56,
    "start_time": "2022-11-26T19:19:05.853Z"
   },
   {
    "duration": 10,
    "start_time": "2022-11-26T19:19:20.762Z"
   },
   {
    "duration": 7,
    "start_time": "2022-11-26T19:19:28.503Z"
   },
   {
    "duration": 10,
    "start_time": "2022-11-26T19:19:37.671Z"
   },
   {
    "duration": 10,
    "start_time": "2022-11-26T19:19:43.278Z"
   },
   {
    "duration": 17,
    "start_time": "2022-11-26T19:19:56.818Z"
   },
   {
    "duration": 1324,
    "start_time": "2022-11-27T09:49:35.484Z"
   },
   {
    "duration": 132,
    "start_time": "2022-11-27T09:49:36.810Z"
   },
   {
    "duration": 123,
    "start_time": "2022-11-27T09:49:36.944Z"
   },
   {
    "duration": 91,
    "start_time": "2022-11-27T09:49:37.069Z"
   },
   {
    "duration": 5,
    "start_time": "2022-11-27T09:49:37.161Z"
   },
   {
    "duration": 12,
    "start_time": "2022-11-27T09:49:37.167Z"
   },
   {
    "duration": 13,
    "start_time": "2022-11-27T09:49:37.181Z"
   },
   {
    "duration": 21,
    "start_time": "2022-11-27T09:49:37.196Z"
   },
   {
    "duration": 55,
    "start_time": "2022-11-27T09:49:37.219Z"
   },
   {
    "duration": 57,
    "start_time": "2022-11-27T09:49:37.278Z"
   },
   {
    "duration": 0,
    "start_time": "2022-11-27T09:49:37.338Z"
   },
   {
    "duration": 0,
    "start_time": "2022-11-27T09:49:37.339Z"
   },
   {
    "duration": 0,
    "start_time": "2022-11-27T09:49:37.341Z"
   },
   {
    "duration": 0,
    "start_time": "2022-11-27T09:49:37.342Z"
   },
   {
    "duration": 0,
    "start_time": "2022-11-27T09:49:37.344Z"
   },
   {
    "duration": 0,
    "start_time": "2022-11-27T09:49:37.346Z"
   },
   {
    "duration": 0,
    "start_time": "2022-11-27T09:49:37.347Z"
   },
   {
    "duration": 0,
    "start_time": "2022-11-27T09:49:37.349Z"
   },
   {
    "duration": 0,
    "start_time": "2022-11-27T09:49:37.350Z"
   },
   {
    "duration": 0,
    "start_time": "2022-11-27T09:49:37.352Z"
   },
   {
    "duration": 0,
    "start_time": "2022-11-27T09:49:37.353Z"
   },
   {
    "duration": 0,
    "start_time": "2022-11-27T09:49:37.355Z"
   },
   {
    "duration": 0,
    "start_time": "2022-11-27T09:49:37.356Z"
   },
   {
    "duration": 0,
    "start_time": "2022-11-27T09:49:37.358Z"
   },
   {
    "duration": 0,
    "start_time": "2022-11-27T09:49:37.359Z"
   },
   {
    "duration": 0,
    "start_time": "2022-11-27T09:49:37.361Z"
   },
   {
    "duration": 0,
    "start_time": "2022-11-27T09:49:37.363Z"
   },
   {
    "duration": 0,
    "start_time": "2022-11-27T09:49:37.364Z"
   },
   {
    "duration": 1,
    "start_time": "2022-11-27T09:49:37.365Z"
   },
   {
    "duration": 0,
    "start_time": "2022-11-27T09:49:37.367Z"
   },
   {
    "duration": 48,
    "start_time": "2022-11-27T09:50:10.713Z"
   },
   {
    "duration": 15,
    "start_time": "2022-11-27T09:50:15.489Z"
   },
   {
    "duration": 21,
    "start_time": "2022-11-27T09:50:55.912Z"
   },
   {
    "duration": 19,
    "start_time": "2022-11-27T09:51:08.889Z"
   },
   {
    "duration": 19,
    "start_time": "2022-11-27T09:51:14.905Z"
   },
   {
    "duration": 5,
    "start_time": "2022-11-27T09:51:19.196Z"
   },
   {
    "duration": 71,
    "start_time": "2022-11-27T09:51:19.203Z"
   },
   {
    "duration": 71,
    "start_time": "2022-11-27T09:51:19.276Z"
   },
   {
    "duration": 71,
    "start_time": "2022-11-27T09:51:19.351Z"
   },
   {
    "duration": 4,
    "start_time": "2022-11-27T09:51:19.424Z"
   },
   {
    "duration": 39,
    "start_time": "2022-11-27T09:51:19.429Z"
   },
   {
    "duration": 32,
    "start_time": "2022-11-27T09:51:19.470Z"
   },
   {
    "duration": 29,
    "start_time": "2022-11-27T09:51:19.504Z"
   },
   {
    "duration": 22,
    "start_time": "2022-11-27T09:51:19.535Z"
   },
   {
    "duration": 23,
    "start_time": "2022-11-27T09:51:19.560Z"
   },
   {
    "duration": 340,
    "start_time": "2022-11-27T09:51:19.585Z"
   },
   {
    "duration": 434,
    "start_time": "2022-11-27T09:51:19.927Z"
   },
   {
    "duration": 328,
    "start_time": "2022-11-27T09:51:20.363Z"
   },
   {
    "duration": 465,
    "start_time": "2022-11-27T09:51:20.693Z"
   },
   {
    "duration": 289,
    "start_time": "2022-11-27T09:51:21.160Z"
   },
   {
    "duration": 348,
    "start_time": "2022-11-27T09:51:21.451Z"
   },
   {
    "duration": 115,
    "start_time": "2022-11-27T09:51:21.801Z"
   },
   {
    "duration": 200,
    "start_time": "2022-11-27T09:51:21.918Z"
   },
   {
    "duration": 5,
    "start_time": "2022-11-27T09:51:22.119Z"
   },
   {
    "duration": 121,
    "start_time": "2022-11-27T09:51:22.134Z"
   },
   {
    "duration": 148,
    "start_time": "2022-11-27T09:51:22.258Z"
   },
   {
    "duration": 6,
    "start_time": "2022-11-27T09:51:22.407Z"
   },
   {
    "duration": 194,
    "start_time": "2022-11-27T09:51:22.415Z"
   },
   {
    "duration": 36,
    "start_time": "2022-11-27T09:51:22.611Z"
   },
   {
    "duration": 12,
    "start_time": "2022-11-27T09:51:22.649Z"
   },
   {
    "duration": 148,
    "start_time": "2022-11-27T09:51:22.663Z"
   },
   {
    "duration": 25,
    "start_time": "2022-11-27T09:51:22.813Z"
   },
   {
    "duration": 23,
    "start_time": "2022-11-27T09:51:22.841Z"
   },
   {
    "duration": 7,
    "start_time": "2022-11-27T09:51:22.866Z"
   },
   {
    "duration": 22,
    "start_time": "2022-11-27T09:51:22.875Z"
   },
   {
    "duration": 14,
    "start_time": "2022-11-27T09:54:20.582Z"
   },
   {
    "duration": 15,
    "start_time": "2022-11-27T09:54:59.814Z"
   },
   {
    "duration": 13,
    "start_time": "2022-11-27T09:55:14.334Z"
   },
   {
    "duration": 4,
    "start_time": "2022-11-27T10:16:41.952Z"
   }
  ],
  "kernelspec": {
   "display_name": "Python 3 (ipykernel)",
   "language": "python",
   "name": "python3"
  },
  "language_info": {
   "codemirror_mode": {
    "name": "ipython",
    "version": 3
   },
   "file_extension": ".py",
   "mimetype": "text/x-python",
   "name": "python",
   "nbconvert_exporter": "python",
   "pygments_lexer": "ipython3",
   "version": "3.9.5"
  },
  "toc": {
   "base_numbering": 1,
   "nav_menu": {},
   "number_sections": true,
   "sideBar": true,
   "skip_h1_title": true,
   "title_cell": "Содержание",
   "title_sidebar": "Contents",
   "toc_cell": true,
   "toc_position": {
    "height": "calc(100% - 180px)",
    "left": "10px",
    "top": "150px",
    "width": "319.188px"
   },
   "toc_section_display": true,
   "toc_window_display": false
  }
 },
 "nbformat": 4,
 "nbformat_minor": 2
}
